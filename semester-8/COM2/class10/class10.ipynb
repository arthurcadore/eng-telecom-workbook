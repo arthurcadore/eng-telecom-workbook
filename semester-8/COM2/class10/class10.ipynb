{
 "cells": [
  {
   "cell_type": "code",
   "execution_count": 2,
   "metadata": {},
   "outputs": [],
   "source": [
    "import numpy as np\n",
    "import komm"
   ]
  },
  {
   "cell_type": "code",
   "execution_count": 5,
   "metadata": {},
   "outputs": [
    {
     "name": "stdout",
     "output_type": "stream",
     "text": [
      "[0 0 1 1 1]\n",
      "1\n"
     ]
    }
   ],
   "source": [
    "# np.array = {[0, 1, 1, 1, 1]}\n",
    "\n",
    "ffarray = np.array([0, 1, 1, 1, 1])\n",
    "\n",
    "# saida recebe a ultima posicao do array\n",
    "\n",
    "soma = ffarray.sum() % 2\n",
    "ffarray = np.roll(ffarray, shift=1)\n",
    "ffarray[0] = soma\n",
    "saida = ffarray[-1]\n",
    "\n",
    "# imprime o array e a saida\n",
    "print(ffarray)\n",
    "print(saida)"
   ]
  }
 ],
 "metadata": {
  "kernelspec": {
   "display_name": ".venv",
   "language": "python",
   "name": "python3"
  },
  "language_info": {
   "codemirror_mode": {
    "name": "ipython",
    "version": 3
   },
   "file_extension": ".py",
   "mimetype": "text/x-python",
   "name": "python",
   "nbconvert_exporter": "python",
   "pygments_lexer": "ipython3",
   "version": "3.12.3"
  }
 },
 "nbformat": 4,
 "nbformat_minor": 2
}
