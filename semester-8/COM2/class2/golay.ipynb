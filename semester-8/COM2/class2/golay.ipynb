{
 "cells": [
  {
   "cell_type": "code",
   "execution_count": null,
   "metadata": {},
   "outputs": [],
   "source": [
    "from sympy import init_printing, Matrix\n",
    "import numpy as np\n",
    "import komm"
   ]
  },
  {
   "cell_type": "code",
   "execution_count": null,
   "metadata": {},
   "outputs": [],
   "source": [
    "golay = komm.GolayCode()\n",
    "(n, k) = golay.length, golay.dimension\n",
    "display(n,k)\n",
    "display(Matrix(golay.codeword_weight_distribution.reshape).T)"
   ]
  }
 ],
 "metadata": {
  "language_info": {
   "name": "python"
  }
 },
 "nbformat": 4,
 "nbformat_minor": 2
}
