{
 "cells": [
  {
   "cell_type": "markdown",
   "metadata": {},
   "source": []
  },
  {
   "cell_type": "code",
   "execution_count": 29,
   "metadata": {},
   "outputs": [
    {
     "name": "stdout",
     "output_type": "stream",
     "text": [
      "7 4\n"
     ]
    }
   ],
   "source": [
    "import komm\n",
    "import numpy as np\n",
    "from fractions import Fraction \n",
    "import itertools as it\n",
    "\n",
    "hamm74 = komm.HammingCode(3)\n",
    "(n, k) = (hamm74.length, hamm74.dimension)\n",
    "\n",
    "print(n, k)\n"
   ]
  },
  {
   "cell_type": "code",
   "execution_count": 32,
   "metadata": {},
   "outputs": [
    {
     "data": {
      "text/plain": [
       "Fraction(729, 16384)"
      ]
     },
     "execution_count": 32,
     "metadata": {},
     "output_type": "execute_result"
    }
   ],
   "source": [
    "def get_likelihood(b, u, p):\n",
    "    # calcular a probabilidade de Pr[B=b | U=u ]\n",
    "    v = hamm74.enc_mapping(u)\n",
    "    #print(f'{b=}')\n",
    "    #print(f'{v=}')\n",
    "    d = np.count_nonzero(b - v)\n",
    "    #print(f'{d=}')\n",
    "\n",
    "    # calcular likelihood\n",
    "    like = (1-p)**(n -d) * p**d\n",
    "    #print(f'{like=}')\n",
    "    return like\n",
    "\n",
    "get_likelihood(b=[0,0,1,0,0,0,0], u=[0,0,0,0], p=Fraction(1/4)) # esperado 243/640"
   ]
  },
  {
   "cell_type": "code",
   "execution_count": 48,
   "metadata": {},
   "outputs": [
    {
     "data": {
      "text/plain": [
       "Fraction(243, 640)"
      ]
     },
     "execution_count": 48,
     "metadata": {},
     "output_type": "execute_result"
    }
   ],
   "source": [
    "def get_a_posteriori(b, u, p):\n",
    "    denom = 0\n",
    "    for u0 in it.product([0,1], repeat=k):\n",
    "        #print(f'{u0=}',  \"->\", get_likelihood(b, u0, p))\n",
    "        denom += get_likelihood(b, u0, p)\n",
    "    #print(\"Denominador: \", f'{denom}')\n",
    "    return get_likelihood(b, u, p) / denom\n",
    "\n",
    "get_a_posteriori(b=[0,0,1,0,0,0,0], u=[0,0,0,0], p=Fraction(1/4)) # esperado 243/640\n",
    "    "
   ]
  },
  {
   "cell_type": "code",
   "execution_count": 54,
   "metadata": {},
   "outputs": [
    {
     "data": {
      "text/plain": [
       "[Fraction(3, 4), Fraction(1, 4)]"
      ]
     },
     "execution_count": 54,
     "metadata": {},
     "output_type": "execute_result"
    }
   ],
   "source": [
    "def get_a_posteriori_bit(b, i, p):\n",
    "    prob_0 = 0\n",
    "    for u0 in it.product([0,1], repeat=k):\n",
    "        if u0[i] == 0:\n",
    "            # print(f'{u0=}',  \"->\", get_a_posteriori(b, u0, p))\n",
    "            prob_0 += get_a_posteriori(b, u0, p)\n",
    "    return [prob_0, 1 - prob_0]\n",
    "\n",
    "get_a_posteriori_bit(b=[0,0,1,0,0,0,0], i=0, p=Fraction(1/4)) # esperado 243/640"
   ]
  },
  {
   "cell_type": "code",
   "execution_count": 55,
   "metadata": {},
   "outputs": [
    {
     "name": "stdout",
     "output_type": "stream",
     "text": [
      "Probabilidade de u[0] = 0: (Fraction(3, 4), Fraction(1, 4))\n",
      "Probabilidade de u[1] = 0: (Fraction(3, 4), Fraction(1, 4))\n",
      "Probabilidade de u[2] = 0: (Fraction(9, 20), Fraction(11, 20))\n",
      "Probabilidade de u[3] = 0: (Fraction(3, 4), Fraction(1, 4))\n"
     ]
    }
   ],
   "source": [
    "for i in range(k):\n",
    "    apb = get_a_posteriori_bit(b=[0,0,1,0,0,0,0], i=i, p=Fraction(1/4))\n",
    "    print(f'Probabilidade de u[{i}] = 0: {apb[0]}, {apb[1]}')"
   ]
  }
 ],
 "metadata": {
  "kernelspec": {
   "display_name": "Python 3",
   "language": "python",
   "name": "python3"
  },
  "language_info": {
   "codemirror_mode": {
    "name": "ipython",
    "version": 3
   },
   "file_extension": ".py",
   "mimetype": "text/x-python",
   "name": "python",
   "nbconvert_exporter": "python",
   "pygments_lexer": "ipython3",
   "version": "3.10.12"
  }
 },
 "nbformat": 4,
 "nbformat_minor": 2
}
