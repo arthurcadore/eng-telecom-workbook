{
 "cells": [
  {
   "cell_type": "markdown",
   "metadata": {},
   "source": [
    "## Author: Arthur Cadore\n",
    "## Date: 2024-11-11 (Monday)"
   ]
  },
  {
   "cell_type": "code",
   "execution_count": 95,
   "metadata": {},
   "outputs": [
    {
     "name": "stdout",
     "output_type": "stream",
     "text": [
      "Numpy Version:  2.1.3\n",
      "Komm Version:  0.9.1\n"
     ]
    }
   ],
   "source": [
    "# Import Required Libraries\n",
    "import komm\n",
    "import numpy as np\n",
    "import matplotlib.pyplot as plt\n",
    "import math\n",
    "\n",
    "print(\"Numpy Version: \", np.__version__)\n",
    "print(\"Komm Version: \", komm.__version__)\n"
   ]
  },
  {
   "cell_type": "code",
   "execution_count": 96,
   "metadata": {},
   "outputs": [],
   "source": [
    "### TX\n",
    "# 1 - Gerar simbolos binários\n",
    "# 2 - modular bits em M-PSK ou M-QAM\n",
    "# 2.5 conversão serial para paralela\n",
    "# 3 - colocar os simbolos modulados na subportadoras \n",
    "# 4 - realizar a IFFT de cada subportadora\n",
    "# 5 - adicionar o prefixo cíclicog++ -std=c++11 -o my_program main.cpp\n",
    "# 6 - somar os sinais de todas as subportadoras\n",
    "# 7 - adicionar ruído\n",
    " \n",
    "\n",
    "### RX\n",
    "# 8 - remover o prefixo cíclico\n",
    "# 9 - realizar a FFT\n",
    "# 10 - demodular os sinais de cada subportadora\n",
    "# 11 - conversão paralela para serial\n",
    "# 12 - demodular os bits da modulação\n",
    "# 13 - calcular a BER\n"
   ]
  },
  {
   "cell_type": "code",
   "execution_count": 97,
   "metadata": {},
   "outputs": [
    {
     "name": "stdout",
     "output_type": "stream",
     "text": [
      "Bits:  [1 0 1 ... 0 1 0]\n"
     ]
    }
   ],
   "source": [
    "# Passo 1: Gerar bits aleatórios\n",
    "num_bits = 1024\n",
    "\n",
    "# Generate a vector of random bits with length num_bits\n",
    "bit = np.random.randint(0, 2, num_bits)\n",
    "\n",
    "# print array of bits\n",
    "print(\"Bits: \", bit)\n"
   ]
  },
  {
   "cell_type": "code",
   "execution_count": 98,
   "metadata": {},
   "outputs": [
    {
     "name": "stdout",
     "output_type": "stream",
     "text": [
      "Modulated Signal:  [-1.+1.2246468e-16j  1.+0.0000000e+00j -1.+1.2246468e-16j ...\n",
      "  1.+0.0000000e+00j -1.+1.2246468e-16j  1.+0.0000000e+00j]\n"
     ]
    }
   ],
   "source": [
    "# Passo 2: Modulação\n",
    "\n",
    "# Modulação BPSK\n",
    "\n",
    "mpsk_index = 2\n",
    "\n",
    "# Create a BPSK modulator\n",
    "modulator = komm.PSKModulation(mpsk_index)\n",
    "\n",
    "# Modulate the bits\n",
    "modulated_signal = modulator.modulate(bit)\n",
    "\n",
    "# Print the modulated signal\n",
    "print(\"Modulated Signal: \", modulated_signal)"
   ]
  },
  {
   "cell_type": "code",
   "execution_count": 106,
   "metadata": {},
   "outputs": [
    {
     "name": "stdout",
     "output_type": "stream",
     "text": [
      "Noisy Signal:  [  6.00346955+22.43848005j -37.23834054+22.61366312j\n",
      "  -6.8981734  -6.37558284j ... -11.47311879+11.74556065j\n",
      " -44.22970865+20.19061347j  17.20436885 +0.43435428j]\n"
     ]
    }
   ],
   "source": [
    "# Passo 7: Adicionar ruído\n",
    "\n",
    "snr_db=0.001\n",
    "\n",
    "# Create a AWGN channel\n",
    "channel = komm.AWGNChannel(1, snr_db)\n",
    "\n",
    "# Add noise to the modulated signal\n",
    "noisy_signal = channel(modulated_signal)\n",
    "\n",
    "# Print the noisy signal\n",
    "print(\"Noisy Signal: \", noisy_signal)"
   ]
  },
  {
   "cell_type": "code",
   "execution_count": 100,
   "metadata": {},
   "outputs": [
    {
     "name": "stdout",
     "output_type": "stream",
     "text": [
      "Demodulated Signal:  [1 0 0 ... 0 1 1]\n",
      "Demodulated Bits:  [1 0 0 ... 0 1 1]\n"
     ]
    }
   ],
   "source": [
    "# Passo 12: Demodulação\n",
    "\n",
    "# Create a BPSK demodulator\n",
    "demodulator = komm.PSKModulation(mpsk_index)\n",
    "\n",
    "# Demodulate the noisy signal\n",
    "demodulated_signal = demodulator.demodulate(noisy_signal)\n",
    "\n",
    "# Print the demodulated signal\n",
    "print(\"Demodulated Signal: \", demodulated_signal)\n",
    "\n",
    "# print the array of bits (for comparison)\n",
    "print(\"Demodulated Bits: \", demodulated_signal)"
   ]
  },
  {
   "cell_type": "code",
   "execution_count": 101,
   "metadata": {},
   "outputs": [
    {
     "name": "stdout",
     "output_type": "stream",
     "text": [
      "BER:  0.0908203125\n"
     ]
    }
   ],
   "source": [
    "# Passo 13: Calcular a BER\n",
    "\n",
    "# Calculate the Bit Error Rate\n",
    "ber = np.sum(np.abs(bit - demodulated_signal)) / num_bits\n",
    "\n",
    "# Print the BER\n",
    "print(\"BER: \", ber)"
   ]
  }
 ],
 "metadata": {
  "kernelspec": {
   "display_name": ".venv",
   "language": "python",
   "name": "python3"
  },
  "language_info": {
   "codemirror_mode": {
    "name": "ipython",
    "version": 3
   },
   "file_extension": ".py",
   "mimetype": "text/x-python",
   "name": "python",
   "nbconvert_exporter": "python",
   "pygments_lexer": "ipython3",
   "version": "3.12.3"
  }
 },
 "nbformat": 4,
 "nbformat_minor": 2
}
