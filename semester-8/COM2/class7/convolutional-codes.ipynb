{
 "cells": [
  {
   "cell_type": "markdown",
   "metadata": {},
   "source": []
  },
  {
   "cell_type": "code",
   "execution_count": 1,
   "metadata": {},
   "outputs": [],
   "source": [
    "import komm\n",
    "import numpy as np      "
   ]
  },
  {
   "cell_type": "code",
   "execution_count": 2,
   "metadata": {},
   "outputs": [
    {
     "name": "stdout",
     "output_type": "stream",
     "text": [
      "(3, 2, np.int64(1))\n",
      "vetor com código de correção (passo1):  [0 1 1 0 1 0 1 1 0]\n",
      "vetor com código de correção (pass02):  [1 0 0 0 1 0 1 1 0]\n"
     ]
    }
   ],
   "source": [
    "code23 = komm.ConvolutionalCode([\n",
    "                                [0b11, 0b10, 0b11],\n",
    "                                [0b10, 0b01, 0b01]\n",
    "                                ])      \n",
    "\n",
    "(n, k, mu) = (code23.num_output_bits, code23.num_input_bits, code23.memory_order)\n",
    "\n",
    "print((n, k, mu))\n",
    "\n",
    "encoder = komm.ConvolutionalStreamEncoder(code23, state=0)\n",
    "\n",
    "print(\"vetor com código de correção (passo1): \", encoder([0,1,1,1,1,0]))\n",
    "print(\"vetor com código de correção (pass02): \", encoder([0,1,1,1,1,0]))"
   ]
  },
  {
   "cell_type": "code",
   "execution_count": 3,
   "metadata": {},
   "outputs": [
    {
     "name": "stdout",
     "output_type": "stream",
     "text": [
      "(2, 1, np.int64(2))\n",
      "vetor com código de correção (passo1):  [1 1 1 0 0 0 0 1 0 1]\n",
      "vetor com código de correção (passo2):  [0 0 1 0 0 0 0 1 0 1]\n"
     ]
    }
   ],
   "source": [
    "code12 = komm.ConvolutionalCode([[0b111, 0b101]])\n",
    "\n",
    "(n, k, mu) = (code12.num_output_bits, code12.num_input_bits, code12.memory_order)\n",
    "\n",
    "print((n, k, mu))\n",
    "\n",
    "encoder = komm.ConvolutionalStreamEncoder(code12, state=0)\n",
    "\n",
    "print(\"vetor com código de correção (passo1): \", encoder([1,0,1,1,0]))\n",
    "print(\"vetor com código de correção (passo2): \", encoder([1,0,1,1,0]))\n"
   ]
  },
  {
   "cell_type": "code",
   "execution_count": 6,
   "metadata": {},
   "outputs": [
    {
     "name": "stdout",
     "output_type": "stream",
     "text": [
      "FiniteStateMachine(next_states=[[0, 1, 2, 3], [0, 1, 2, 3], [0, 1, 2, 3], [0, 1, 2, 3]], outputs=[[0, 5, 6, 3], [7, 2, 1, 4], [1, 4, 7, 2], [6, 3, 0, 5]])\n"
     ]
    }
   ],
   "source": [
    "fsm = code23.finite_state_machine\n",
    "print(fsm)"
   ]
  }
 ],
 "metadata": {
  "kernelspec": {
   "display_name": ".venv",
   "language": "python",
   "name": "python3"
  },
  "language_info": {
   "codemirror_mode": {
    "name": "ipython",
    "version": 3
   },
   "file_extension": ".py",
   "mimetype": "text/x-python",
   "name": "python",
   "nbconvert_exporter": "python",
   "pygments_lexer": "ipython3",
   "version": "3.12.3"
  }
 },
 "nbformat": 4,
 "nbformat_minor": 2
}
