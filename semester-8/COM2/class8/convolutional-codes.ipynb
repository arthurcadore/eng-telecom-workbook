{
 "cells": [
  {
   "cell_type": "markdown",
   "metadata": {},
   "source": []
  },
  {
   "cell_type": "code",
   "execution_count": 159,
   "metadata": {},
   "outputs": [],
   "source": [
    "import komm\n",
    "import numpy as np      "
   ]
  },
  {
   "cell_type": "code",
   "execution_count": 160,
   "metadata": {},
   "outputs": [
    {
     "name": "stdout",
     "output_type": "stream",
     "text": [
      "(3, 2, np.int64(1))\n",
      "vetor com código de correção (passo1):  [0 1 1 0 1 0 1 1 0]\n",
      "vetor com código de correção (pass02):  [1 0 0 0 1 0 1 1 0]\n"
     ]
    }
   ],
   "source": [
    "code23 = komm.ConvolutionalCode([\n",
    "                                [0b11, 0b10, 0b11],\n",
    "                                [0b10, 0b01, 0b01]\n",
    "                                ])      \n",
    "\n",
    "(n, k, mu) = (code23.num_output_bits, code23.num_input_bits, code23.memory_order)\n",
    "\n",
    "print((n, k, mu))\n",
    "\n",
    "encoder = komm.ConvolutionalStreamEncoder(code23, state=0)\n",
    "\n",
    "print(\"vetor com código de correção (passo1): \", encoder([0,1,1,1,1,0]))\n",
    "print(\"vetor com código de correção (pass02): \", encoder([0,1,1,1,1,0]))"
   ]
  },
  {
   "cell_type": "code",
   "execution_count": 161,
   "metadata": {},
   "outputs": [
    {
     "name": "stdout",
     "output_type": "stream",
     "text": [
      "(2, 1, np.int64(2))\n",
      "vetor com código de correção (passo1):  [1 1 1 0 0 0 0 1 0 1]\n",
      "vetor com código de correção (passo2):  [0 0 1 0 0 0 0 1 0 1]\n"
     ]
    }
   ],
   "source": [
    "code12 = komm.ConvolutionalCode([[0b111, 0b101]])\n",
    "\n",
    "(n, k, mu) = (code12.num_output_bits, code12.num_input_bits, code12.memory_order)\n",
    "\n",
    "print((n, k, mu))\n",
    "\n",
    "encoder = komm.ConvolutionalStreamEncoder(code12, state=0)\n",
    "\n",
    "print(\"vetor com código de correção (passo1): \", encoder([1,0,1,1,0]))\n",
    "print(\"vetor com código de correção (passo2): \", encoder([1,0,1,1,0]))\n"
   ]
  },
  {
   "cell_type": "code",
   "execution_count": 162,
   "metadata": {},
   "outputs": [
    {
     "name": "stdout",
     "output_type": "stream",
     "text": [
      "FiniteStateMachine(next_states=[[0, 1, 2, 3], [0, 1, 2, 3], [0, 1, 2, 3], [0, 1, 2, 3]], outputs=[[0, 5, 6, 3], [7, 2, 1, 4], [1, 4, 7, 2], [6, 3, 0, 5]])\n"
     ]
    }
   ],
   "source": [
    "fsm = code23.finite_state_machine\n",
    "print(fsm)"
   ]
  },
  {
   "cell_type": "code",
   "execution_count": 163,
   "metadata": {},
   "outputs": [
    {
     "name": "stdout",
     "output_type": "stream",
     "text": [
      "Comprimento código truncado:  10\n",
      "Dimensão código truncado:  5\n",
      "Distância minima código truncado:  2\n",
      "Matrix do código truncado:  [[1 1 1 0 1 1 0 0 0 0]\n",
      " [0 0 1 1 1 0 1 1 0 0]\n",
      " [0 0 0 0 1 1 1 0 1 1]\n",
      " [0 0 0 0 0 0 1 1 1 0]\n",
      " [0 0 0 0 0 0 0 0 1 1]]\n",
      "vetor com código de correção truncado:  [1 1 1 0 0 0 0 1 0 1]\n"
     ]
    }
   ],
   "source": [
    "block_code_trunc = komm.TerminatedConvolutionalCode(code12, num_blocks=5, mode=\"direct-truncation\")\n",
    "\n",
    "print(\"Comprimento código truncado: \", block_code_trunc.length)\n",
    "print(\"Dimensão código truncado: \", block_code_trunc.dimension)\n",
    "print(\"Distância minima código truncado: \", block_code_trunc.minimum_distance)\n",
    "print(\"Matrix do código truncado: \", block_code_trunc.generator_matrix)\n",
    "\n",
    "encoder_trunc = block_code_trunc.enc_mapping([1,0,1,1,0])\n",
    "\n",
    "print(\"vetor com código de correção truncado: \", encoder_trunc)"
   ]
  },
  {
   "cell_type": "code",
   "execution_count": 164,
   "metadata": {},
   "outputs": [
    {
     "name": "stdout",
     "output_type": "stream",
     "text": [
      "Comprimento código truncado:  14\n",
      "Dimensão código truncado:  5\n",
      "Distância minima código truncado:  5\n",
      "Matrix do código truncado:  [[1 1 1 0 1 1 0 0 0 0 0 0 0 0]\n",
      " [0 0 1 1 1 0 1 1 0 0 0 0 0 0]\n",
      " [0 0 0 0 1 1 1 0 1 1 0 0 0 0]\n",
      " [0 0 0 0 0 0 1 1 1 0 1 1 0 0]\n",
      " [0 0 0 0 0 0 0 0 1 1 1 0 1 1]]\n",
      "vetor com código de correção truncado:  [1 1 1 0 0 0 0 1 0 1 1 1 0 0]\n"
     ]
    }
   ],
   "source": [
    "block_code_zero = komm.TerminatedConvolutionalCode(code12, num_blocks=5, mode=\"zero-termination\")\n",
    "\n",
    "print(\"Comprimento código truncado: \", block_code_zero.length)\n",
    "print(\"Dimensão código truncado: \", block_code_zero.dimension)\n",
    "print(\"Distância minima código truncado: \", block_code_zero.minimum_distance)\n",
    "print(\"Matrix do código truncado: \", block_code_zero.generator_matrix)\n",
    "\n",
    "encoder_trunc = block_code_zero.enc_mapping([1,0,1,1,0])\n",
    "\n",
    "print(\"vetor com código de correção truncado: \", encoder_trunc)\n",
    "\n"
   ]
  },
  {
   "cell_type": "code",
   "execution_count": 165,
   "metadata": {},
   "outputs": [
    {
     "name": "stdout",
     "output_type": "stream",
     "text": [
      "Comprimento código tail-biting:  10\n",
      "Dimensão código tail-biting:  5\n",
      "Distância minima código tail-biting:  3\n",
      "Matrix do código tail-biting:  [[1 1 1 0 1 1 0 0 0 0]\n",
      " [0 0 1 1 1 0 1 1 0 0]\n",
      " [0 0 0 0 1 1 1 0 1 1]\n",
      " [1 1 0 0 0 0 1 1 1 0]\n",
      " [1 0 1 1 0 0 0 0 1 1]]\n",
      "vetor com código de correção tail-biting:  [0 0 1 0 0 0 0 1 0 1]\n"
     ]
    }
   ],
   "source": [
    "block_code_tail = komm.TerminatedConvolutionalCode(code12, num_blocks=5, mode=\"tail-biting\")\n",
    "\n",
    "print(\"Comprimento código tail-biting: \", block_code_tail.length)\n",
    "print(\"Dimensão código tail-biting: \", block_code_tail.dimension)\n",
    "print(\"Distância minima código tail-biting: \", block_code_tail.minimum_distance)\n",
    "print(\"Matrix do código tail-biting: \", block_code_tail.generator_matrix)\n",
    "\n",
    "encoder_tail = block_code_tail.enc_mapping([1,0,1,1,0])\n",
    "\n",
    "print(\"vetor com código de correção tail-biting: \", encoder_tail)"
   ]
  },
  {
   "cell_type": "code",
   "execution_count": 166,
   "metadata": {},
   "outputs": [
    {
     "name": "stdout",
     "output_type": "stream",
     "text": [
      "[0 0 0 0 0 0 1 1 0 1 0 1 0 0 0 1 1 0 1 0 0 1 0 0 0 1 1 0 1 0 1 0 0 1 1 1 0\n",
      " 0 1 1 0 1 0 1 0 0 1 0 0 0 0 1 1 0 1 0 1 0 0 1 1 1 0 0 1 1 0 1 0 1 0 0 0 1\n",
      " 0 1 0 0 1 0 0 0 1 0 0 0 1 0 1 1 0 0 0 0 1 1 1 0 1 1 1 1 1 0 0 0 0 1 0 1 0\n",
      " 0 0 1 1 0 0 1 0 0 0 1 0 1 1 1 1 1 0 1 1 0 0 1 1 1 1 1 1 0 1 1 1 1 1 0 0 0\n",
      " 1 0 1 1 0 0 1 1 1 0 0 0 0 1 0 1 1 1 0 0 0 0 0 0 1 1 1 0 1 1 1 1 1 0 0 0 0\n",
      " 1 1 0 1 0 0 1 1 1 0 0 1 1 1 0 1 1 0 0]\n"
     ]
    }
   ],
   "source": [
    "h = 100\n",
    "block_code12_trunc = komm.TerminatedConvolutionalCode(code12, num_blocks=h, mode=\"zero-termination\")\n",
    "\n",
    "encoder = komm.BlockEncoder(block_code12_trunc)\n",
    "\n",
    "u = np.random.randint(0, 2, h)\n",
    "\n",
    "v = encoder(u)\n",
    "\n",
    "print(v)"
   ]
  },
  {
   "cell_type": "code",
   "execution_count": null,
   "metadata": {},
   "outputs": [
    {
     "name": "stdout",
     "output_type": "stream",
     "text": [
      "[0 0 0 0 1 0 1 1 0 1 0 1 0 0 1 1 0 0 1 0 0 1 0 0 0 1 1 0 1 0 1 0 0 1 1 1 0\n",
      " 0 1 1 0 0 0 1 0 0 1 0 0 0 0 1 1 0 1 0 1 0 0 1 1 0 0 0 1 1 0 1 0 1 1 0 0 1\n",
      " 0 1 0 0 1 0 0 0 1 0 0 0 1 0 1 1 1 0 0 0 1 1 1 0 1 1 1 1 1 0 0 0 1 1 0 1 0\n",
      " 0 0 1 1 0 0 1 0 0 0 1 0 1 1 1 1 1 0 1 1 0 0 0 1 1 1 1 1 0 1 1 1 1 1 0 0 1\n",
      " 1 1 1 1 1 0 1 1 1 1 0 0 0 1 1 1 0 1 0 1 1 0 1 0 0 1 1 0 1 1 1 1 0 0 0 0 0\n",
      " 1 0 0 1 0 0 1 1 1 1 0 1 1 1 0 1 1 0 0]\n",
      "Quantidade de erros:  22\n"
     ]
    }
   ],
   "source": [
    "channel = komm.BinarySymmetricChannel(0.1)\n",
    "\n",
    "b = channel(v)\n",
    "\n",
    "print(b)\n",
    "\n",
    "print(\"Quantidade de erros (entre transmissão e recepção): \", np.sum(v != b))"
   ]
  },
  {
   "cell_type": "code",
   "execution_count": 168,
   "metadata": {},
   "outputs": [
    {
     "name": "stdout",
     "output_type": "stream",
     "text": [
      "[0 0 0 1 1 0 1 1 1 1 0 1 1 1 1 1 0 0 0 1 1 0 1 0 1 1 1 1 1 0 0 0 1 1 0 1 1\n",
      " 0 1 0 1 0 1 0 0 0 0 1 0 0 1 0 1 1 0 1 1 1 0 1 1 0 0 1 1 1 0 0 1 0 0 1 1 0\n",
      " 0 1 0 0 1 1 0 0 1 1 1 1 0 1 0 0 0 0 1 1 1 0 0 0 1 0]\n",
      "BER:  14\n"
     ]
    }
   ],
   "source": [
    "decoder = komm.BlockDecoder(block_code12_trunc, method=\"viterbi_hard\")\n",
    "\n",
    "u_hat = decoder(b)\n",
    "\n",
    "print(u_hat)\n",
    "\n",
    "print(\"BER: \", np.sum(u != u_hat))"
   ]
  }
 ],
 "metadata": {
  "kernelspec": {
   "display_name": ".venv",
   "language": "python",
   "name": "python3"
  },
  "language_info": {
   "codemirror_mode": {
    "name": "ipython",
    "version": 3
   },
   "file_extension": ".py",
   "mimetype": "text/x-python",
   "name": "python",
   "nbconvert_exporter": "python",
   "pygments_lexer": "ipython3",
   "version": "3.12.3"
  }
 },
 "nbformat": 4,
 "nbformat_minor": 2
}
