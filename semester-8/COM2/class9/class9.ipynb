{
 "cells": [
  {
   "cell_type": "code",
   "execution_count": 1,
   "metadata": {},
   "outputs": [],
   "source": [
    "import komm\n",
    "import numpy as np      "
   ]
  },
  {
   "cell_type": "code",
   "execution_count": 4,
   "metadata": {},
   "outputs": [
    {
     "name": "stdout",
     "output_type": "stream",
     "text": [
      "1.75\n"
     ]
    }
   ],
   "source": [
    "# Define the probability mass function of a discrete random variable\n",
    "# Parameters\n",
    "# px : array_like\n",
    "# \n",
    "# Returns\n",
    "# H : float\n",
    "#\n",
    "def entropy(px, base=2):\n",
    "    px = np.array(px)\n",
    "    return -np.sum(px * np.log(px) / np.log(base))\n",
    "\n",
    "px = np.array([0.5, 0.25, 0.125, 0.125])  \n",
    "\n",
    "H = entropy(px, 2)\n",
    "\n",
    "print(H)  # 1.75"
   ]
  }
 ],
 "metadata": {
  "kernelspec": {
   "display_name": ".venv",
   "language": "python",
   "name": "python3"
  },
  "language_info": {
   "codemirror_mode": {
    "name": "ipython",
    "version": 3
   },
   "file_extension": ".py",
   "mimetype": "text/x-python",
   "name": "python",
   "nbconvert_exporter": "python",
   "pygments_lexer": "ipython3",
   "version": "3.12.3"
  }
 },
 "nbformat": 4,
 "nbformat_minor": 2
}
