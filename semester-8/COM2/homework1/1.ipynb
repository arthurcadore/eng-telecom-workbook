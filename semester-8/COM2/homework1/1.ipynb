{
 "cells": [
  {
   "cell_type": "markdown",
   "metadata": {},
   "source": [
    "Teste Aula 1 - COM 2"
   ]
  },
  {
   "cell_type": "code",
   "execution_count": 1,
   "metadata": {},
   "outputs": [],
   "source": [
    "import numpy as np\n",
    "import komm"
   ]
  },
  {
   "cell_type": "markdown",
   "metadata": {},
   "source": [
    "# Código de Repetição"
   ]
  },
  {
   "cell_type": "code",
   "execution_count": 2,
   "metadata": {},
   "outputs": [
    {
     "name": "stdout",
     "output_type": "stream",
     "text": [
      "3 1\n"
     ]
    },
    {
     "data": {
      "text/plain": [
       "array([[1, 1, 1]])"
      ]
     },
     "execution_count": 2,
     "metadata": {},
     "output_type": "execute_result"
    }
   ],
   "source": [
    "rep31 = komm.RepetitionCode(3)\n",
    "(n, k) = (rep31.length, rep31.dimension)\n",
    "# rep31.enc_mapping([1])\n",
    "print(n,k)\n",
    "rep31.generator_matrix\n"
   ]
  },
  {
   "cell_type": "markdown",
   "metadata": {},
   "source": [
    "# Código de Paridade simples"
   ]
  },
  {
   "cell_type": "code",
   "execution_count": 3,
   "metadata": {},
   "outputs": [
    {
     "name": "stdout",
     "output_type": "stream",
     "text": [
      "3 2\n"
     ]
    },
    {
     "data": {
      "text/plain": [
       "array([[1, 0, 1],\n",
       "       [0, 1, 1]])"
      ]
     },
     "execution_count": 3,
     "metadata": {},
     "output_type": "execute_result"
    }
   ],
   "source": [
    "spc32 = komm.SingleParityCheckCode(3)\n",
    "(n, k) = (spc32.length, spc32.dimension)\n",
    "# rep31.enc_mapping([1])\n",
    "print(n,k)\n",
    "spc32.generator_matrix\n",
    "\n"
   ]
  },
  {
   "cell_type": "markdown",
   "metadata": {},
   "source": [
    "# Distância de Hamming"
   ]
  },
  {
   "cell_type": "code",
   "execution_count": 14,
   "metadata": {},
   "outputs": [
    {
     "name": "stdout",
     "output_type": "stream",
     "text": [
      "7 4\n",
      "Matriz Geradora: \n",
      "\n",
      " [[1 0 0 0 1 1 0]\n",
      " [0 1 0 0 1 0 1]\n",
      " [0 0 1 0 0 1 1]\n",
      " [0 0 0 1 1 1 1]] \n",
      "\n",
      "Palavra de Informação:  [1 0 1 1]\n",
      "Palavra Código:  [1 0 1 1 0 1 0]\n"
     ]
    }
   ],
   "source": [
    "hamm74 = komm.HammingCode(3)\n",
    "(n, k) = (hamm74.length, hamm74.dimension)\n",
    "G = hamm74.generator_matrix\n",
    "print(n,k)\n",
    "print(\"Matriz Geradora: \\n\\n\", G ,\"\\n\")\n",
    "\n",
    "u = np.array([1,0,1,1])\n",
    "print(\"Palavra de Informação: \" , u)\n",
    "\n",
    "v = (u @ G) % 2 \n",
    "\n",
    "print(\"Palavra Código: \" , v)"
   ]
  },
  {
   "cell_type": "code",
   "execution_count": null,
   "metadata": {},
   "outputs": [],
   "source": [
    "# V é palavra código se e somente se V * H^T = 0"
   ]
  }
 ],
 "metadata": {
  "kernelspec": {
   "display_name": "Python 3",
   "language": "python",
   "name": "python3"
  },
  "language_info": {
   "codemirror_mode": {
    "name": "ipython",
    "version": 3
   },
   "file_extension": ".py",
   "mimetype": "text/x-python",
   "name": "python",
   "nbconvert_exporter": "python",
   "pygments_lexer": "ipython3",
   "version": "3.10.12"
  }
 },
 "nbformat": 4,
 "nbformat_minor": 2
}
