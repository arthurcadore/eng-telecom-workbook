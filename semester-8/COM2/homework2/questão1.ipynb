{
 "cells": [
  {
   "cell_type": "code",
   "execution_count": 11,
   "metadata": {},
   "outputs": [
    {
     "name": "stdout",
     "output_type": "stream",
     "text": [
      "Código de Hamming (7,4):\n",
      "7 4\n",
      "Matriz geradora G (7,4):\n",
      "[[1 0 0 0 1 1 0]\n",
      " [0 1 0 0 1 0 1]\n",
      " [0 0 1 0 0 1 1]\n",
      " [0 0 0 1 1 1 1]]\n"
     ]
    }
   ],
   "source": [
    "# Import das bibliotecas do Python\n",
    "import sys\n",
    "import komm\n",
    "import numpy as np\n",
    "import pandas as pd\n",
    "import itertools as it\n",
    "from itertools import product\n",
    "from fractions import Fraction \n",
    "\n",
    "# Cria um objeto do código de Hamming (7,4)\n",
    "hamm74 = komm.HammingCode(3)\n",
    "(n, k) = (hamm74.length, hamm74.dimension)\n",
    "\n",
    "# Imprime o código de Hamming (7,4)\n",
    "print(\"Código de Hamming (7,4):\")\n",
    "print(n, k)\n",
    "\n",
    "# Cria e Imprime a matriz geradora G (7,4)\n",
    "G = hamm74.generator_matrix\n",
    "print(\"Matriz geradora G (7,4):\")\n",
    "print(G)"
   ]
  },
  {
   "cell_type": "code",
   "execution_count": 12,
   "metadata": {},
   "outputs": [
    {
     "name": "stdout",
     "output_type": "stream",
     "text": [
      "\n",
      "Matriz geradora estendida G (8,4):\n",
      "[[1 0 0 0 1 1 0 3]\n",
      " [0 1 0 0 1 0 1 3]\n",
      " [0 0 1 0 0 1 1 3]\n",
      " [0 0 0 1 1 1 1 4]]\n"
     ]
    }
   ],
   "source": [
    "# Calcula o bit de paridade para cada linha e adiciona à matriz\n",
    "\n",
    "# Calcula a paridade (soma módulo 2 de cada linha)\n",
    "parity_column = np.sum(G, axis=1)\n",
    "\n",
    "\n",
    "# Adiciona a coluna de paridade\n",
    "G_extended = np.hstack((G, parity_column.reshape(-1, 1)))  \n",
    "\n",
    "# Imprime a matriz geradora estendida (8,4)\n",
    "print(\"\\nMatriz geradora estendida G (8,4):\")\n",
    "print(G_extended)"
   ]
  },
  {
   "cell_type": "code",
   "execution_count": 13,
   "metadata": {},
   "outputs": [
    {
     "name": "stdout",
     "output_type": "stream",
     "text": [
      "Mensagem de entrada (4 bits): [1, 0, 1, 1]\n",
      "Palavra código gerada (8 bits): [1 0 1 1 0 1 0 0]\n"
     ]
    }
   ],
   "source": [
    "# Define a função para mapear a mensagem para uma palavra código de 8 bits\n",
    "def encode_message(m, G_extended):\n",
    "    # Converte a mensagem em um array numpy, caso ainda não seja\n",
    "    m = np.array(m)\n",
    "    # Multiplica a mensagem pela matriz geradora estendida no campo GF(2)\n",
    "    codeword = np.dot(m, G_extended) % 2  # Calcula a palavra código em aritmética módulo 2\n",
    "    return codeword\n",
    "\n",
    "# Exemplo de uso\n",
    "message = [1, 0, 1, 1]  # Mensagem de 4 bits\n",
    "codeword = encode_message(message, G_extended)\n",
    "\n",
    "print(\"Mensagem de entrada (4 bits):\", message)\n",
    "print(\"Palavra código gerada (8 bits):\", codeword)\n",
    "\n",
    "# Altera o comprimento de n para 8\n",
    "n = n + 1\n",
    "\n",
    "# calcula o número de bits da mensagem \n",
    "m_lenght = n - k"
   ]
  },
  {
   "cell_type": "code",
   "execution_count": 14,
   "metadata": {},
   "outputs": [
    {
     "name": "stdout",
     "output_type": "stream",
     "text": [
      "Mensagem (4 bits) -> Palavra código (8 bits)\n",
      "(0, 0, 0, 0) -> [0 0 0 0 0 0 0 0]\n",
      "(0, 0, 0, 1) -> [0 0 0 1 1 1 1 0]\n",
      "(0, 0, 1, 0) -> [0 0 1 0 0 1 1 1]\n",
      "(0, 0, 1, 1) -> [0 0 1 1 1 0 0 1]\n",
      "(0, 1, 0, 0) -> [0 1 0 0 1 0 1 1]\n",
      "(0, 1, 0, 1) -> [0 1 0 1 0 1 0 1]\n",
      "(0, 1, 1, 0) -> [0 1 1 0 1 1 0 0]\n",
      "(0, 1, 1, 1) -> [0 1 1 1 0 0 1 0]\n",
      "(1, 0, 0, 0) -> [1 0 0 0 1 1 0 1]\n",
      "(1, 0, 0, 1) -> [1 0 0 1 0 0 1 1]\n",
      "(1, 0, 1, 0) -> [1 0 1 0 1 0 1 0]\n",
      "(1, 0, 1, 1) -> [1 0 1 1 0 1 0 0]\n",
      "(1, 1, 0, 0) -> [1 1 0 0 0 1 1 0]\n",
      "(1, 1, 0, 1) -> [1 1 0 1 1 0 0 0]\n",
      "(1, 1, 1, 0) -> [1 1 1 0 0 0 0 1]\n",
      "(1, 1, 1, 1) -> [1 1 1 1 1 1 1 1]\n"
     ]
    }
   ],
   "source": [
    "# Gera todas as mensagens de 4 bits possíveis\n",
    "all_messages = list(product([0, 1], repeat=4))  # Gera combinações de 4 bits\n",
    "\n",
    "# Exibe cada mensagem e sua palavra código correspondente\n",
    "print(\"Mensagem (4 bits) -> Palavra código (8 bits)\")\n",
    "for m in all_messages:\n",
    "    codeword = encode_message(m, G_extended)\n",
    "    print(f\"{m} -> {codeword}\")"
   ]
  },
  {
   "cell_type": "code",
   "execution_count": 15,
   "metadata": {},
   "outputs": [
    {
     "name": "stdout",
     "output_type": "stream",
     "text": [
      "Mensagem (4 bits) -> Palavra código (8 bits) -> Peso\n",
      "(0, 0, 0, 0) -> [0 0 0 0 0 0 0 0] -> 0\n",
      "(0, 0, 0, 1) -> [0 0 0 1 1 1 1 0] -> 4\n",
      "(0, 0, 1, 0) -> [0 0 1 0 0 1 1 1] -> 4\n",
      "(0, 0, 1, 1) -> [0 0 1 1 1 0 0 1] -> 4\n",
      "(0, 1, 0, 0) -> [0 1 0 0 1 0 1 1] -> 4\n",
      "(0, 1, 0, 1) -> [0 1 0 1 0 1 0 1] -> 4\n",
      "(0, 1, 1, 0) -> [0 1 1 0 1 1 0 0] -> 4\n",
      "(0, 1, 1, 1) -> [0 1 1 1 0 0 1 0] -> 4\n",
      "(1, 0, 0, 0) -> [1 0 0 0 1 1 0 1] -> 4\n",
      "(1, 0, 0, 1) -> [1 0 0 1 0 0 1 1] -> 4\n",
      "(1, 0, 1, 0) -> [1 0 1 0 1 0 1 0] -> 4\n",
      "(1, 0, 1, 1) -> [1 0 1 1 0 1 0 0] -> 4\n",
      "(1, 1, 0, 0) -> [1 1 0 0 0 1 1 0] -> 4\n",
      "(1, 1, 0, 1) -> [1 1 0 1 1 0 0 0] -> 4\n",
      "(1, 1, 1, 0) -> [1 1 1 0 0 0 0 1] -> 4\n",
      "(1, 1, 1, 1) -> [1 1 1 1 1 1 1 1] -> 8\n"
     ]
    }
   ],
   "source": [
    "# Calcula o peso de Hamming de uma palavra código\n",
    "\n",
    "# Vetores para armazenar as palavras-código e seus pesos\n",
    "codewords = []\n",
    "weights = []\n",
    "\n",
    "# Calcula o peso de Hamming de cada palavra código\n",
    "print(\"Mensagem (4 bits) -> Palavra código (8 bits) -> Peso\")\n",
    "for m in all_messages:\n",
    "    codeword = encode_message(m, G_extended)\n",
    "    weight = np.sum(codeword)  # Calcula o peso (número de bits 1)\n",
    "    codewords.append(codeword)\n",
    "    weights.append(weight)\n",
    "    print(f\"{m} -> {codeword} -> {weight}\")\n"
   ]
  },
  {
   "cell_type": "code",
   "execution_count": 16,
   "metadata": {},
   "outputs": [
    {
     "name": "stdout",
     "output_type": "stream",
     "text": [
      "\n",
      "Distância mínima entre as palavras-código: 4\n",
      "Distribuição de pesos:\n",
      "Peso 0: 1 palavra(s) código\n",
      "Peso 4: 14 palavra(s) código\n",
      "Peso 8: 1 palavra(s) código\n"
     ]
    }
   ],
   "source": [
    "# Calcula a distância mínima\n",
    "def hamming_distance(codeword1, codeword2):\n",
    "    return np.sum(codeword1 != codeword2)\n",
    "\n",
    "min_distance = float('inf')\n",
    "\n",
    "for i in range(len(codewords)):\n",
    "    for j in range(i + 1, len(codewords)):\n",
    "        dist = hamming_distance(codewords[i], codewords[j])\n",
    "        if dist < min_distance:\n",
    "            min_distance = dist\n",
    "\n",
    "print(\"\\nDistância mínima entre as palavras-código:\", min_distance)\n",
    "\n",
    "# Distribuição de pesos\n",
    "weight_distribution = {i: weights.count(i) for i in range(9)}  # Peso varia de 0 a 8\n",
    "\n",
    "print(\"Distribuição de pesos:\")\n",
    "for weight, count in weight_distribution.items():\n",
    "    if count > 0:\n",
    "        print(f\"Peso {weight}: {count} palavra(s) código\")"
   ]
  },
  {
   "cell_type": "code",
   "execution_count": 17,
   "metadata": {},
   "outputs": [],
   "source": [
    "# Matriz (8,4) geradora do código de Hamming\n",
    "G_input = np.array([\n",
    "              [1, 0, 0, 0, 1, 1, 0, 1],  \n",
    "              [0, 1, 0, 0, 1, 0, 1, 1],  \n",
    "              [0, 0, 1, 0, 0, 1, 1, 1],  \n",
    "              [0, 0, 0, 1, 1, 1, 1, 0]]) \n"
   ]
  },
  {
   "cell_type": "code",
   "execution_count": 18,
   "metadata": {},
   "outputs": [
    {
     "name": "stdout",
     "output_type": "stream",
     "text": [
      "Matriz de Padrões de Erro (ap):\n",
      "00000000 01001111 11110001 01010101 11101100 00010110 11011111 10000010 10111011 11111011 10111011 10101101 11010101 01011001 01110011 00101010 \n",
      "10000000 11001111 01110001 11010101 01101100 10010110 01011111 00000010 00111011 01111011 00111011 00101101 01010101 11011001 11110011 10101010 \n",
      "01000000 00001111 10110001 00010101 10101100 01010110 10011111 11000010 11111011 10111011 11111011 11101101 10010101 00011001 00110011 01101010 \n",
      "00100000 01101111 11010001 01110101 11001100 00110110 11111111 10100010 10011011 11011011 10011011 10001101 11110101 01111001 01010011 00001010 \n",
      "00010000 01011111 11100001 01000101 11111100 00000110 11001111 10010010 10101011 11101011 10101011 10111101 11000101 01001001 01100011 00111010 \n",
      "00001000 01000111 11111001 01011101 11100100 00011110 11010111 10001010 10110011 11110011 10110011 10100101 11011101 01010001 01111011 00100010 \n",
      "00000100 01001011 11110101 01010001 11101000 00010010 11011011 10000110 10111111 11111111 10111111 10101001 11010001 01011101 01110111 00101110 \n",
      "00000010 01001101 11110011 01010111 11101110 00010100 11011101 10000000 10111001 11111001 10111001 10101111 11010111 01011011 01110001 00101000 \n",
      "00000001 01001110 11110000 01010100 11101101 00010111 11011110 10000011 10111010 11111010 10111010 10101100 11010100 01011000 01110010 00101011 \n",
      "11000000 10001111 00110001 10010101 00101100 11010110 00011111 01000010 01111011 00111011 01111011 01101101 00010101 10011001 10110011 11101010 \n",
      "10100000 11101111 01010001 11110101 01001100 10110110 01111111 00100010 00011011 01011011 00011011 00001101 01110101 11111001 11010011 10001010 \n",
      "10010000 11011111 01100001 11000101 01111100 10000110 01001111 00010010 00101011 01101011 00101011 00111101 01000101 11001001 11100011 10111010 \n",
      "10001000 11000111 01111001 11011101 01100100 10011110 01010111 00001010 00110011 01110011 00110011 00100101 01011101 11010001 11111011 10100010 \n",
      "10000100 11001011 01110101 11010001 01101000 10010010 01011011 00000110 00111111 01111111 00111111 00101001 01010001 11011101 11110111 10101110 \n",
      "10000010 11001101 01110011 11010111 01101110 10010100 01011101 00000000 00111001 01111001 00111001 00101111 01010111 11011011 11110001 10101000 \n",
      "10000001 11001110 01110000 11010100 01101101 10010111 01011110 00000011 00111010 01111010 00111010 00101100 01010100 11011000 11110010 10101011 \n"
     ]
    }
   ],
   "source": [
    "# Inicializando matriz de padrões de erro com 16 linhas\n",
    "errorMatrix = np.zeros((16, 2**k, n), dtype=int)\n",
    "\n",
    "# Gerando palavras código aleatórias para cada coluna da primeira linha (exceto na primeira posição)\n",
    "for col in range(1, 2**k):\n",
    "    errorMatrix[0, col] = np.random.randint(2, size=n) \n",
    "\n",
    "# Preenchendo a primeira coluna com a matriz identidade para padrões de erro de 1 bit\n",
    "for i in range(1, min(9, 16)):\n",
    "    errorMatrix[i, 0] = np.eye(n, dtype=int)[i-1]\n",
    "\n",
    "# Gerando padrões de erro para 1 bit\n",
    "for row in range(1, 9):  # Para as linhas 1 a 8\n",
    "    for col in range(1, 2**k):  # Para todas as colunas\n",
    "        errorMatrix[row, col] = (errorMatrix[0, col] + errorMatrix[row, 0]) % 2\n",
    "\n",
    "# Gerando padrões de erro para 2 bits\n",
    "two_bit_errors = list(it.combinations(range(n), 2))\n",
    "\n",
    "# Contador para controlar o número de padrões de dois bits\n",
    "two_bit_count = 0  \n",
    "\n",
    "# Laço para terminar com as linhas da tabela (16 linhas no total)\n",
    "for pos in two_bit_errors:\n",
    "    if 9 + two_bit_count >= 16: \n",
    "        break\n",
    "\n",
    "    error_pattern = np.zeros(n, dtype=int)\n",
    "    error_pattern[list(pos)] = 1\n",
    "    errorMatrix[9 + two_bit_count, 0] = error_pattern\n",
    "\n",
    "    # Aplicando a combinação de dois bits de erro na matriz\n",
    "    for col in range(1, 2**k):\n",
    "        errorMatrix[9 + two_bit_count, col] = (errorMatrix[0, col] + errorMatrix[9 + two_bit_count, 0]) % 2\n",
    "    \n",
    "    two_bit_count += 1  # Incrementa o contador de padrões de dois bits\n",
    "\n",
    "# Preencher as linhas restantes com padrões aleatórios, se necessário\n",
    "for i in range(9 + two_bit_count, 16):\n",
    "    for col in range(2**k):\n",
    "        errorMatrix[i, col] = np.random.randint(2, size=n)  # Gera 0s e 1s aleatórios\n",
    "\n",
    "# Inicializando a matriz de pesos\n",
    "w_matrix = np.zeros((16, 2**k), dtype=int)\n",
    "\n",
    "# Calculando os pesos para cada padrão de erro\n",
    "for row in range(16):\n",
    "    for col in range(2**k):\n",
    "        w_matrix[row, col] = sum(errorMatrix[row, col])\n",
    "\n",
    "# Impressão da matriz de padrões de erro\n",
    "print(\"Matriz de Padrões de Erro (ap):\")\n",
    "for i in range(errorMatrix.shape[0]):\n",
    "    for j in range(errorMatrix.shape[1]):\n",
    "        print(f\"{''.join(map(str, errorMatrix[i, j]))}\", end=\" \")\n",
    "    print()"
   ]
  },
  {
   "cell_type": "code",
   "execution_count": 19,
   "metadata": {},
   "outputs": [
    {
     "name": "stdout",
     "output_type": "stream",
     "text": [
      "   syndrome     error\n",
      "0      0000  00000000\n",
      "1      1101  10000000\n",
      "2      1011  01000000\n",
      "3      0111  00100000\n",
      "4      1110  00010000\n",
      "5      1000  00001000\n",
      "6      0100  00000100\n",
      "7      0010  00000010\n",
      "8      0001  00000001\n",
      "9      0110  11000000\n",
      "10     1010  10100000\n",
      "11     0011  10010000\n",
      "12     0101  10001000\n",
      "13     1001  10000100\n",
      "14     1111  10000010\n",
      "15     1100  10000001\n"
     ]
    }
   ],
   "source": [
    "# Calcular síndromes\n",
    "H = np.array([[1, 1, 0, 1, 1, 0, 0, 0],\n",
    "              [1, 0, 1, 1, 0, 1, 0, 0],\n",
    "              [0, 1, 1, 1, 0, 0, 1, 0],\n",
    "              [1, 1, 1, 0, 0, 0, 0, 1]])\n",
    "\n",
    "syndrome = (H @ errorMatrix[:, 0, :].T) % 2\n",
    "\n",
    "# Criação da para as síndromes e padrões de erro\n",
    "e_s = pd.DataFrame(columns=[\"syndrome\", \"error\"])\n",
    "e_s[\"syndrome\"] = [\"\".join(map(str, s)) for s in syndrome.T]\n",
    "e_s[\"error\"] = [\"\".join(map(str, err)) for err in errorMatrix[:, 0, :]]\n",
    "\n",
    "# Filtrar apenas as entradas únicas\n",
    "e_s = e_s.drop_duplicates()\n",
    "\n",
    "# Exibir o DataFrame resultante\n",
    "print(e_s)"
   ]
  },
  {
   "cell_type": "code",
   "execution_count": 20,
   "metadata": {},
   "outputs": [
    {
     "name": "stdout",
     "output_type": "stream",
     "text": [
      "\n",
      "Verificação de Erros em Cada Bit:\n",
      "Síndrome: 1101, Erros detectados nos bits: 1\n",
      "Síndrome: 1011, Erros detectados nos bits: 2\n",
      "Síndrome: 0111, Erros detectados nos bits: 3\n",
      "Síndrome: 1110, Erros detectados nos bits: 4\n",
      "Síndrome: 1000, Erros detectados nos bits: 5\n",
      "Síndrome: 0100, Erros detectados nos bits: 6\n",
      "Síndrome: 0010, Erros detectados nos bits: 7\n",
      "Síndrome: 0001, Erros detectados nos bits: 8\n",
      "Síndrome: 0110, Erros detectados nos bits: 1, 2\n",
      "Síndrome: 1010, Erros detectados nos bits: 1, 3\n",
      "Síndrome: 0011, Erros detectados nos bits: 1, 4\n",
      "Síndrome: 0101, Erros detectados nos bits: 1, 5\n",
      "Síndrome: 1001, Erros detectados nos bits: 1, 6\n",
      "Síndrome: 1111, Erros detectados nos bits: 1, 7\n",
      "Síndrome: 1100, Erros detectados nos bits: 1, 8\n"
     ]
    }
   ],
   "source": [
    "# Verificação dos erros em cada bit\n",
    "print(\"\\nVerificação de Erros em Cada Bit:\")\n",
    "for index, row in e_s.iterrows():\n",
    "    syndrome_value = row[\"syndrome\"]\n",
    "    error_value = row[\"error\"]\n",
    "    \n",
    "    # Verificando onde os erros ocorrem\n",
    "    error_bits = [i for i in range(len(error_value)) if error_value[i] == '1']\n",
    "    \n",
    "    if len(error_bits) > 0:  # Se houver um ou mais erros\n",
    "        print(f\"Síndrome: {syndrome_value}, Erros detectados nos bits: {', '.join(str(bit + 1) for bit in error_bits)}\")"
   ]
  }
 ],
 "metadata": {
  "kernelspec": {
   "display_name": "Python 3",
   "language": "python",
   "name": "python3"
  },
  "language_info": {
   "codemirror_mode": {
    "name": "ipython",
    "version": 3
   },
   "file_extension": ".py",
   "mimetype": "text/x-python",
   "name": "python",
   "nbconvert_exporter": "python",
   "pygments_lexer": "ipython3",
   "version": "3.11.2"
  }
 },
 "nbformat": 4,
 "nbformat_minor": 2
}
