{
 "cells": [
  {
   "cell_type": "code",
   "execution_count": 49,
   "metadata": {},
   "outputs": [
    {
     "name": "stdout",
     "output_type": "stream",
     "text": [
      "Código de Hamming (7,4):\n",
      "7 4\n",
      "Matriz geradora G (7,4):\n",
      "[[1 0 0 0 1 1 0]\n",
      " [0 1 0 0 1 0 1]\n",
      " [0 0 1 0 0 1 1]\n",
      " [0 0 0 1 1 1 1]]\n"
     ]
    }
   ],
   "source": [
    "# Import das bibliotecas do Python\n",
    "import sys\n",
    "import komm\n",
    "import numpy as np\n",
    "import pandas as pd\n",
    "import itertools as it\n",
    "from itertools import product\n",
    "from fractions import Fraction \n",
    "\n",
    "# Cria um objeto do código de Hamming (7,4)\n",
    "hamm74 = komm.HammingCode(3)\n",
    "(n, k) = (hamm74.length, hamm74.dimension)\n",
    "\n",
    "# Imprime o código de Hamming (7,4)\n",
    "print(\"Código de Hamming (7,4):\")\n",
    "print(n, k)\n",
    "\n",
    "# Cria e Imprime a matriz geradora G (7,4)\n",
    "G = hamm74.generator_matrix\n",
    "print(\"Matriz geradora G (7,4):\")\n",
    "print(G)"
   ]
  },
  {
   "cell_type": "code",
   "execution_count": 50,
   "metadata": {},
   "outputs": [
    {
     "name": "stdout",
     "output_type": "stream",
     "text": [
      "\n",
      "Matriz geradora estendida G (8,4):\n",
      "[[1 0 0 0 1 1 0 3]\n",
      " [0 1 0 0 1 0 1 3]\n",
      " [0 0 1 0 0 1 1 3]\n",
      " [0 0 0 1 1 1 1 4]]\n",
      "Número de bits de mensagem: (1, 1, 1, 1)\n"
     ]
    }
   ],
   "source": [
    "# Calcula o bit de paridade para cada linha e adiciona à matriz\n",
    "\n",
    "# Calcula a paridade (soma módulo 2 de cada linha)\n",
    "parity_column = np.sum(G, axis=1)\n",
    "\n",
    "\n",
    "# Adiciona a coluna de paridade\n",
    "G_extended = np.hstack((G, parity_column.reshape(-1, 1)))  \n",
    "\n",
    "# Imprime a matriz geradora estendida (8,4)\n",
    "print(\"\\nMatriz geradora estendida G (8,4):\")\n",
    "print(G_extended)\n",
    "\n",
    "# Calcula o número de bits de mensagem\n",
    "print(\"Número de bits de mensagem:\", m)"
   ]
  },
  {
   "cell_type": "code",
   "execution_count": 51,
   "metadata": {},
   "outputs": [
    {
     "name": "stdout",
     "output_type": "stream",
     "text": [
      "Mensagem de entrada (4 bits): [1, 0, 1, 1]\n",
      "Palavra código gerada (8 bits): [1 0 1 1 0 1 0 0]\n"
     ]
    }
   ],
   "source": [
    "# Define a função para mapear a mensagem para uma palavra código de 8 bits\n",
    "def encode_message(m, G_extended):\n",
    "    # Converte a mensagem em um array numpy, caso ainda não seja\n",
    "    m = np.array(m)\n",
    "    # Multiplica a mensagem pela matriz geradora estendida no campo GF(2)\n",
    "    codeword = np.dot(m, G_extended) % 2  # Calcula a palavra código em aritmética módulo 2\n",
    "    return codeword\n",
    "\n",
    "# Exemplo de uso\n",
    "message = [1, 0, 1, 1]  # Mensagem de 4 bits\n",
    "codeword = encode_message(message, G_extended)\n",
    "\n",
    "print(\"Mensagem de entrada (4 bits):\", message)\n",
    "print(\"Palavra código gerada (8 bits):\", codeword)\n",
    "\n",
    "# Altera o comprimento de n para 8\n",
    "n = n + 1\n",
    "\n",
    "# calcula o número de bits da mensagem \n",
    "m_lenght = n - k"
   ]
  },
  {
   "cell_type": "code",
   "execution_count": 52,
   "metadata": {},
   "outputs": [
    {
     "name": "stdout",
     "output_type": "stream",
     "text": [
      "Mensagem (4 bits) -> Palavra código (8 bits)\n",
      "(0, 0, 0, 0) -> [0 0 0 0 0 0 0 0]\n",
      "(0, 0, 0, 1) -> [0 0 0 1 1 1 1 0]\n",
      "(0, 0, 1, 0) -> [0 0 1 0 0 1 1 1]\n",
      "(0, 0, 1, 1) -> [0 0 1 1 1 0 0 1]\n",
      "(0, 1, 0, 0) -> [0 1 0 0 1 0 1 1]\n",
      "(0, 1, 0, 1) -> [0 1 0 1 0 1 0 1]\n",
      "(0, 1, 1, 0) -> [0 1 1 0 1 1 0 0]\n",
      "(0, 1, 1, 1) -> [0 1 1 1 0 0 1 0]\n",
      "(1, 0, 0, 0) -> [1 0 0 0 1 1 0 1]\n",
      "(1, 0, 0, 1) -> [1 0 0 1 0 0 1 1]\n",
      "(1, 0, 1, 0) -> [1 0 1 0 1 0 1 0]\n",
      "(1, 0, 1, 1) -> [1 0 1 1 0 1 0 0]\n",
      "(1, 1, 0, 0) -> [1 1 0 0 0 1 1 0]\n",
      "(1, 1, 0, 1) -> [1 1 0 1 1 0 0 0]\n",
      "(1, 1, 1, 0) -> [1 1 1 0 0 0 0 1]\n",
      "(1, 1, 1, 1) -> [1 1 1 1 1 1 1 1]\n"
     ]
    }
   ],
   "source": [
    "# Gera todas as mensagens de 4 bits possíveis\n",
    "all_messages = list(product([0, 1], repeat=4))  # Gera combinações de 4 bits\n",
    "\n",
    "# Exibe cada mensagem e sua palavra código correspondente\n",
    "print(\"Mensagem (4 bits) -> Palavra código (8 bits)\")\n",
    "for m in all_messages:\n",
    "    codeword = encode_message(m, G_extended)\n",
    "    print(f\"{m} -> {codeword}\")"
   ]
  },
  {
   "cell_type": "code",
   "execution_count": 53,
   "metadata": {},
   "outputs": [
    {
     "name": "stdout",
     "output_type": "stream",
     "text": [
      "Mensagem (4 bits) -> Palavra código (8 bits) -> Peso\n",
      "(0, 0, 0, 0) -> [0 0 0 0 0 0 0 0] -> 0\n",
      "(0, 0, 0, 1) -> [0 0 0 1 1 1 1 0] -> 4\n",
      "(0, 0, 1, 0) -> [0 0 1 0 0 1 1 1] -> 4\n",
      "(0, 0, 1, 1) -> [0 0 1 1 1 0 0 1] -> 4\n",
      "(0, 1, 0, 0) -> [0 1 0 0 1 0 1 1] -> 4\n",
      "(0, 1, 0, 1) -> [0 1 0 1 0 1 0 1] -> 4\n",
      "(0, 1, 1, 0) -> [0 1 1 0 1 1 0 0] -> 4\n",
      "(0, 1, 1, 1) -> [0 1 1 1 0 0 1 0] -> 4\n",
      "(1, 0, 0, 0) -> [1 0 0 0 1 1 0 1] -> 4\n",
      "(1, 0, 0, 1) -> [1 0 0 1 0 0 1 1] -> 4\n",
      "(1, 0, 1, 0) -> [1 0 1 0 1 0 1 0] -> 4\n",
      "(1, 0, 1, 1) -> [1 0 1 1 0 1 0 0] -> 4\n",
      "(1, 1, 0, 0) -> [1 1 0 0 0 1 1 0] -> 4\n",
      "(1, 1, 0, 1) -> [1 1 0 1 1 0 0 0] -> 4\n",
      "(1, 1, 1, 0) -> [1 1 1 0 0 0 0 1] -> 4\n",
      "(1, 1, 1, 1) -> [1 1 1 1 1 1 1 1] -> 8\n"
     ]
    }
   ],
   "source": [
    "# Calcula o peso de Hamming de uma palavra código\n",
    "\n",
    "# Vetores para armazenar as palavras-código e seus pesos\n",
    "codewords = []\n",
    "weights = []\n",
    "\n",
    "# Calcula o peso de Hamming de cada palavra código\n",
    "print(\"Mensagem (4 bits) -> Palavra código (8 bits) -> Peso\")\n",
    "for m in all_messages:\n",
    "    codeword = encode_message(m, G_extended)\n",
    "    weight = np.sum(codeword)  # Calcula o peso (número de bits 1)\n",
    "    codewords.append(codeword)\n",
    "    weights.append(weight)\n",
    "    print(f\"{m} -> {codeword} -> {weight}\")\n"
   ]
  },
  {
   "cell_type": "code",
   "execution_count": 54,
   "metadata": {},
   "outputs": [
    {
     "name": "stdout",
     "output_type": "stream",
     "text": [
      "\n",
      "Distância mínima entre as palavras-código: 4\n",
      "Distribuição de pesos:\n",
      "Peso 0: 1 palavra(s) código\n",
      "Peso 4: 14 palavra(s) código\n",
      "Peso 8: 1 palavra(s) código\n"
     ]
    }
   ],
   "source": [
    "# Calcula a distância mínima\n",
    "def hamming_distance(codeword1, codeword2):\n",
    "    return np.sum(codeword1 != codeword2)\n",
    "\n",
    "min_distance = float('inf')\n",
    "\n",
    "for i in range(len(codewords)):\n",
    "    for j in range(i + 1, len(codewords)):\n",
    "        dist = hamming_distance(codewords[i], codewords[j])\n",
    "        if dist < min_distance:\n",
    "            min_distance = dist\n",
    "\n",
    "print(\"\\nDistância mínima entre as palavras-código:\", min_distance)\n",
    "\n",
    "# Distribuição de pesos\n",
    "weight_distribution = {i: weights.count(i) for i in range(9)}  # Peso varia de 0 a 8\n",
    "\n",
    "print(\"Distribuição de pesos:\")\n",
    "for weight, count in weight_distribution.items():\n",
    "    if count > 0:\n",
    "        print(f\"Peso {weight}: {count} palavra(s) código\")"
   ]
  },
  {
   "cell_type": "code",
   "execution_count": 55,
   "metadata": {},
   "outputs": [],
   "source": [
    "# Matriz (8,4) geradora do código de Hamming\n",
    "G_input = np.array([\n",
    "              [1, 0, 0, 0, 1, 1, 0, 1],  \n",
    "              [0, 1, 0, 0, 1, 0, 1, 1],  \n",
    "              [0, 0, 1, 0, 0, 1, 1, 1],  \n",
    "              [0, 0, 0, 1, 1, 1, 1, 0]]) "
   ]
  },
  {
   "cell_type": "code",
   "execution_count": 56,
   "metadata": {},
   "outputs": [
    {
     "name": "stdout",
     "output_type": "stream",
     "text": [
      "Matriz de Padrões de Erro (errorMatrix):\n",
      "10000000 01110010 01101001 11111000 00111000 10001010 10000011 00100101 10001110 11101010 10110110 01011010 11011100 10000011 11101101 10111110 \n",
      "01000000 11110010 11101001 01111000 10111000 00001010 00000011 10100101 00001110 01101010 00110110 11011010 01011100 00000011 01101101 00111110 \n",
      "00100000 00110010 00101001 10111000 01111000 11001010 11000011 01100101 11001110 10101010 11110110 00011010 10011100 11000011 10101101 11111110 \n",
      "00010000 01010010 01001001 11011000 00011000 10101010 10100011 00000101 10101110 11001010 10010110 01111010 11111100 10100011 11001101 10011110 \n",
      "00001000 01100010 01111001 11101000 00101000 10011010 10010011 00110101 10011110 11111010 10100110 01001010 11001100 10010011 11111101 10101110 \n",
      "00000100 01111010 01100001 11110000 00110000 10000010 10001011 00101101 10000110 11100010 10111110 01010010 11010100 10001011 11100101 10110110 \n",
      "00000010 01110110 01101101 11111100 00111100 10001110 10000111 00100001 10001010 11101110 10110010 01011110 11011000 10000111 11101001 10111010 \n",
      "00000001 01110000 01101011 11111010 00111010 10001000 10000001 00100111 10001100 11101000 10110100 01011000 11011110 10000001 11101111 10111100 \n",
      "11000000 01110011 01101000 11111001 00111001 10001011 10000010 00100100 10001111 11101011 10110111 01011011 11011101 10000010 11101100 10111111 \n",
      "10100000 00000000 00000000 00000000 00000000 00000000 00000000 00000000 00000000 00000000 00000000 00000000 00000000 00000000 00000000 00000000 \n",
      "10010000 00000000 00000000 00000000 00000000 00000000 00000000 00000000 00000000 00000000 00000000 00000000 00000000 00000000 00000000 00000000 \n",
      "10001000 00000000 00000000 00000000 00000000 00000000 00000000 00000000 00000000 00000000 00000000 00000000 00000000 00000000 00000000 00000000 \n",
      "10000100 00000000 00000000 00000000 00000000 00000000 00000000 00000000 00000000 00000000 00000000 00000000 00000000 00000000 00000000 00000000 \n",
      "10000010 00000000 00000000 00000000 00000000 00000000 00000000 00000000 00000000 00000000 00000000 00000000 00000000 00000000 00000000 00000000 \n",
      "10000001 00000000 00000000 00000000 00000000 00000000 00000000 00000000 00000000 00000000 00000000 00000000 00000000 00000000 00000000 00000000 \n",
      "01100000 00000000 00000000 00000000 00000000 00000000 00000000 00000000 00000000 00000000 00000000 00000000 00000000 00000000 00000000 00000000 \n"
     ]
    }
   ],
   "source": [
    "# Inicializando matriz de padrões de erro\n",
    "errorMatrix = np.zeros((2**m_lenght, 2**k, n), dtype=int)\n",
    "\n",
    "# Gerando palavras código aleatórias para cada coluna da primeira linha\n",
    "for col in range(2**k):\n",
    "    errorMatrix[0, col] = np.random.randint(2, size=n)  # Gera 0s e 1s aleatórios para cada coluna\n",
    "\n",
    "# Inicializando a primeira linha com os dados de paridade\n",
    "errorMatrix[1:9, 0] = np.eye(n)[:8]  # Preenchendo as primeiras 8 linhas da coluna 0 com a matriz identidade\n",
    "\n",
    "# Gerar padrões de erro para 1 e 2 bits de erro\n",
    "for row in range(1, 9):\n",
    "    for col in range(1, 2**k):\n",
    "        errorMatrix[row, col] = (errorMatrix[0, col] + errorMatrix[row, 0]) % 2\n",
    "\n",
    "# Criando padrões de erro para 1 e 2 bits\n",
    "error1 = []\n",
    "error2 = []\n",
    "\n",
    "# Calculando padrões de erro para um bit de erro em cada posição\n",
    "for pos in range(n):\n",
    "    error_pattern = np.zeros(n, dtype=int)\n",
    "    error_pattern[pos] = 1\n",
    "    error1.append(error_pattern)\n",
    "\n",
    "# Calculando padrões de erro para dois bits de erro em cada posição\n",
    "positions = it.combinations(range(n), 2)\n",
    "for pos in positions:\n",
    "    error_pattern = np.zeros(n, dtype=int)\n",
    "    error_pattern[list(pos)] = 1\n",
    "    error2.append(error_pattern)\n",
    "\n",
    "# Preenchendo a matriz de padrões de erro com padrões de erro de 1 bit\n",
    "line_index = 0\n",
    "for pattern in error1:\n",
    "    if line_index < 2**m_lenght:\n",
    "        errorMatrix[line_index, 0] = pattern\n",
    "        line_index += 1\n",
    "\n",
    "# Preenchendo a matriz de padrões de erro com padrões de erro de 2 bits\n",
    "for pattern in error2:\n",
    "    if line_index < 2**m_lenght:\n",
    "        errorMatrix[line_index, 0] = pattern\n",
    "        line_index += 1\n",
    "\n",
    "# Inicializando a matriz de pesos\n",
    "w_matrix = np.zeros((2**m_lenght, 2**k), dtype=int)\n",
    "\n",
    "# Calculando os pesos para cada padrão de erro\n",
    "for row in range(0, 2**m_lenght):\n",
    "    for col in range(0, 2**k):\n",
    "        w_matrix[row, col] = sum(errorMatrix[row, col])\n",
    "\n",
    "# Impressão da matriz de padrões de erro\n",
    "print(\"Matriz de Padrões de Erro (errorMatrix):\")\n",
    "for i in range(errorMatrix.shape[0]):\n",
    "    for j in range(errorMatrix.shape[1]):\n",
    "        print(f\"{''.join(map(str, errorMatrix[i, j]))}\", end=\" \")\n",
    "    print()"
   ]
  },
  {
   "cell_type": "code",
   "execution_count": 57,
   "metadata": {},
   "outputs": [
    {
     "name": "stdout",
     "output_type": "stream",
     "text": [
      "   syndrome     error\n",
      "0      1101  10000000\n",
      "1      1011  01000000\n",
      "2      0111  00100000\n",
      "3      1110  00010000\n",
      "4      1000  00001000\n",
      "5      0100  00000100\n",
      "6      0010  00000010\n",
      "7      0001  00000001\n",
      "8      0110  11000000\n",
      "9      1010  10100000\n",
      "10     0011  10010000\n",
      "11     0101  10001000\n",
      "12     1001  10000100\n",
      "13     1111  10000010\n",
      "14     1100  10000001\n",
      "15     1100  01100000\n"
     ]
    }
   ],
   "source": [
    "# Calcular síndromes\n",
    "H = np.array([[1, 1, 0, 1, 1, 0, 0, 0],\n",
    "              [1, 0, 1, 1, 0, 1, 0, 0],\n",
    "              [0, 1, 1, 1, 0, 0, 1, 0],\n",
    "              [1, 1, 1, 0, 0, 0, 0, 1]])\n",
    "\n",
    "syndrome = (H @ errorMatrix[:, 0, :].T) % 2\n",
    "\n",
    "# Criação da para as síndromes e padrões de erro\n",
    "e_s = pd.DataFrame(columns=[\"syndrome\", \"error\"])\n",
    "e_s[\"syndrome\"] = [\"\".join(map(str, s)) for s in syndrome.T]\n",
    "e_s[\"error\"] = [\"\".join(map(str, err)) for err in errorMatrix[:, 0, :]]\n",
    "\n",
    "# Filtrar apenas as entradas únicas\n",
    "e_s = e_s.drop_duplicates()\n",
    "\n",
    "# Exibir o DataFrame resultante\n",
    "print(e_s)"
   ]
  },
  {
   "cell_type": "code",
   "execution_count": 58,
   "metadata": {},
   "outputs": [
    {
     "name": "stdout",
     "output_type": "stream",
     "text": [
      "\n",
      "Verificação de Erros em Cada Bit:\n",
      "Síndrome: 1101, Erros detectados nos bits: 1\n",
      "Síndrome: 1011, Erros detectados nos bits: 2\n",
      "Síndrome: 0111, Erros detectados nos bits: 3\n",
      "Síndrome: 1110, Erros detectados nos bits: 4\n",
      "Síndrome: 1000, Erros detectados nos bits: 5\n",
      "Síndrome: 0100, Erros detectados nos bits: 6\n",
      "Síndrome: 0010, Erros detectados nos bits: 7\n",
      "Síndrome: 0001, Erros detectados nos bits: 8\n",
      "Síndrome: 0110, Erros detectados nos bits: 1, 2\n",
      "Síndrome: 1010, Erros detectados nos bits: 1, 3\n",
      "Síndrome: 0011, Erros detectados nos bits: 1, 4\n",
      "Síndrome: 0101, Erros detectados nos bits: 1, 5\n",
      "Síndrome: 1001, Erros detectados nos bits: 1, 6\n",
      "Síndrome: 1111, Erros detectados nos bits: 1, 7\n",
      "Síndrome: 1100, Erros detectados nos bits: 1, 8\n",
      "Síndrome: 1100, Erros detectados nos bits: 2, 3\n"
     ]
    }
   ],
   "source": [
    "# Verificação dos erros em cada bit\n",
    "print(\"\\nVerificação de Erros em Cada Bit:\")\n",
    "for index, row in e_s.iterrows():\n",
    "    syndrome_value = row[\"syndrome\"]\n",
    "    error_value = row[\"error\"]\n",
    "    \n",
    "    # Verificando onde os erros ocorrem\n",
    "    error_bits = [i for i in range(len(error_value)) if error_value[i] == '1']\n",
    "    \n",
    "    if len(error_bits) > 0:  # Se houver um ou mais erros\n",
    "        print(f\"Síndrome: {syndrome_value}, Erros detectados nos bits: {', '.join(str(bit + 1) for bit in error_bits)}\")"
   ]
  }
 ],
 "metadata": {
  "kernelspec": {
   "display_name": "Python 3",
   "language": "python",
   "name": "python3"
  },
  "language_info": {
   "codemirror_mode": {
    "name": "ipython",
    "version": 3
   },
   "file_extension": ".py",
   "mimetype": "text/x-python",
   "name": "python",
   "nbconvert_exporter": "python",
   "pygments_lexer": "ipython3",
   "version": "3.11.2"
  }
 },
 "nbformat": 4,
 "nbformat_minor": 2
}
