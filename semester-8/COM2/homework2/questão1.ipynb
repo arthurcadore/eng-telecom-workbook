{
 "cells": [
  {
   "cell_type": "code",
   "execution_count": 1,
   "metadata": {},
   "outputs": [
    {
     "name": "stdout",
     "output_type": "stream",
     "text": [
      "Código de Hamming (7,4):\n",
      "7 4\n",
      "Matriz geradora G (7,4):\n",
      "[[1 0 0 0 1 1 0]\n",
      " [0 1 0 0 1 0 1]\n",
      " [0 0 1 0 0 1 1]\n",
      " [0 0 0 1 1 1 1]]\n"
     ]
    }
   ],
   "source": [
    "# Import das bibliotecas do Python\n",
    "import sys\n",
    "import komm\n",
    "import numpy as np\n",
    "import pandas as pd\n",
    "import itertools as it\n",
    "from itertools import product\n",
    "from fractions import Fraction \n",
    "\n",
    "# Cria um objeto do código de Hamming (7,4)\n",
    "hamm74 = komm.HammingCode(3)\n",
    "(n, k) = (hamm74.length, hamm74.dimension)\n",
    "\n",
    "# Imprime o código de Hamming (7,4)\n",
    "print(\"Código de Hamming (7,4):\")\n",
    "print(n, k)\n",
    "\n",
    "# Cria e Imprime a matriz geradora G (7,4)\n",
    "G = hamm74.generator_matrix\n",
    "print(\"Matriz geradora G (7,4):\")\n",
    "print(G)"
   ]
  },
  {
   "cell_type": "code",
   "execution_count": 2,
   "metadata": {},
   "outputs": [
    {
     "name": "stdout",
     "output_type": "stream",
     "text": [
      "\n",
      "Matriz geradora estendida G (8,4):\n",
      "[[1 0 0 0 1 1 0 3]\n",
      " [0 1 0 0 1 0 1 3]\n",
      " [0 0 1 0 0 1 1 3]\n",
      " [0 0 0 1 1 1 1 4]]\n"
     ]
    }
   ],
   "source": [
    "# Calcula o bit de paridade para cada linha e adiciona à matriz\n",
    "\n",
    "# Calcula a paridade (soma módulo 2 de cada linha)\n",
    "parity_column = np.sum(G, axis=1)\n",
    "\n",
    "\n",
    "# Adiciona a coluna de paridade\n",
    "G_extended = np.hstack((G, parity_column.reshape(-1, 1)))  \n",
    "\n",
    "# Imprime a matriz geradora estendida (8,4)\n",
    "print(\"\\nMatriz geradora estendida G (8,4):\")\n",
    "print(G_extended)"
   ]
  },
  {
   "cell_type": "code",
   "execution_count": 3,
   "metadata": {},
   "outputs": [
    {
     "name": "stdout",
     "output_type": "stream",
     "text": [
      "Mensagem de entrada (4 bits): [1, 0, 1, 1]\n",
      "Palavra código gerada (8 bits): [1 0 1 1 0 1 0 0]\n"
     ]
    }
   ],
   "source": [
    "# Define a função para mapear a mensagem para uma palavra código de 8 bits\n",
    "def encode_message(m, G_extended):\n",
    "    # Converte a mensagem em um array numpy, caso ainda não seja\n",
    "    m = np.array(m)\n",
    "    # Multiplica a mensagem pela matriz geradora estendida no campo GF(2)\n",
    "    codeword = np.dot(m, G_extended) % 2  # Calcula a palavra código em aritmética módulo 2\n",
    "    return codeword\n",
    "\n",
    "# Exemplo de uso\n",
    "message = [1, 0, 1, 1]  # Mensagem de 4 bits\n",
    "codeword = encode_message(message, G_extended)\n",
    "\n",
    "print(\"Mensagem de entrada (4 bits):\", message)\n",
    "print(\"Palavra código gerada (8 bits):\", codeword)\n",
    "\n",
    "# Altera o comprimento de n para 8\n",
    "n = n + 1\n",
    "\n",
    "# calcula o número de bits da mensagem \n",
    "m_lenght = n - k"
   ]
  },
  {
   "cell_type": "code",
   "execution_count": 4,
   "metadata": {},
   "outputs": [
    {
     "name": "stdout",
     "output_type": "stream",
     "text": [
      "Mensagem (4 bits) -> Palavra código (8 bits)\n",
      "(0, 0, 0, 0) -> [0 0 0 0 0 0 0 0]\n",
      "(0, 0, 0, 1) -> [0 0 0 1 1 1 1 0]\n",
      "(0, 0, 1, 0) -> [0 0 1 0 0 1 1 1]\n",
      "(0, 0, 1, 1) -> [0 0 1 1 1 0 0 1]\n",
      "(0, 1, 0, 0) -> [0 1 0 0 1 0 1 1]\n",
      "(0, 1, 0, 1) -> [0 1 0 1 0 1 0 1]\n",
      "(0, 1, 1, 0) -> [0 1 1 0 1 1 0 0]\n",
      "(0, 1, 1, 1) -> [0 1 1 1 0 0 1 0]\n",
      "(1, 0, 0, 0) -> [1 0 0 0 1 1 0 1]\n",
      "(1, 0, 0, 1) -> [1 0 0 1 0 0 1 1]\n",
      "(1, 0, 1, 0) -> [1 0 1 0 1 0 1 0]\n",
      "(1, 0, 1, 1) -> [1 0 1 1 0 1 0 0]\n",
      "(1, 1, 0, 0) -> [1 1 0 0 0 1 1 0]\n",
      "(1, 1, 0, 1) -> [1 1 0 1 1 0 0 0]\n",
      "(1, 1, 1, 0) -> [1 1 1 0 0 0 0 1]\n",
      "(1, 1, 1, 1) -> [1 1 1 1 1 1 1 1]\n"
     ]
    }
   ],
   "source": [
    "# Gera todas as mensagens de 4 bits possíveis\n",
    "all_messages = list(product([0, 1], repeat=4))  # Gera combinações de 4 bits\n",
    "\n",
    "# Exibe cada mensagem e sua palavra código correspondente\n",
    "print(\"Mensagem (4 bits) -> Palavra código (8 bits)\")\n",
    "for m in all_messages:\n",
    "    codeword = encode_message(m, G_extended)\n",
    "    print(f\"{m} -> {codeword}\")"
   ]
  },
  {
   "cell_type": "code",
   "execution_count": 5,
   "metadata": {},
   "outputs": [
    {
     "name": "stdout",
     "output_type": "stream",
     "text": [
      "Mensagem (4 bits) -> Palavra código (8 bits) -> Peso\n",
      "(0, 0, 0, 0) -> [0 0 0 0 0 0 0 0] -> 0\n",
      "(0, 0, 0, 1) -> [0 0 0 1 1 1 1 0] -> 4\n",
      "(0, 0, 1, 0) -> [0 0 1 0 0 1 1 1] -> 4\n",
      "(0, 0, 1, 1) -> [0 0 1 1 1 0 0 1] -> 4\n",
      "(0, 1, 0, 0) -> [0 1 0 0 1 0 1 1] -> 4\n",
      "(0, 1, 0, 1) -> [0 1 0 1 0 1 0 1] -> 4\n",
      "(0, 1, 1, 0) -> [0 1 1 0 1 1 0 0] -> 4\n",
      "(0, 1, 1, 1) -> [0 1 1 1 0 0 1 0] -> 4\n",
      "(1, 0, 0, 0) -> [1 0 0 0 1 1 0 1] -> 4\n",
      "(1, 0, 0, 1) -> [1 0 0 1 0 0 1 1] -> 4\n",
      "(1, 0, 1, 0) -> [1 0 1 0 1 0 1 0] -> 4\n",
      "(1, 0, 1, 1) -> [1 0 1 1 0 1 0 0] -> 4\n",
      "(1, 1, 0, 0) -> [1 1 0 0 0 1 1 0] -> 4\n",
      "(1, 1, 0, 1) -> [1 1 0 1 1 0 0 0] -> 4\n",
      "(1, 1, 1, 0) -> [1 1 1 0 0 0 0 1] -> 4\n",
      "(1, 1, 1, 1) -> [1 1 1 1 1 1 1 1] -> 8\n"
     ]
    }
   ],
   "source": [
    "# Calcula o peso de Hamming de uma palavra código\n",
    "\n",
    "# Vetores para armazenar as palavras-código e seus pesos\n",
    "codewords = []\n",
    "weights = []\n",
    "\n",
    "# Calcula o peso de Hamming de cada palavra código\n",
    "print(\"Mensagem (4 bits) -> Palavra código (8 bits) -> Peso\")\n",
    "for m in all_messages:\n",
    "    codeword = encode_message(m, G_extended)\n",
    "    weight = np.sum(codeword)  # Calcula o peso (número de bits 1)\n",
    "    codewords.append(codeword)\n",
    "    weights.append(weight)\n",
    "    print(f\"{m} -> {codeword} -> {weight}\")\n"
   ]
  },
  {
   "cell_type": "code",
   "execution_count": 6,
   "metadata": {},
   "outputs": [
    {
     "name": "stdout",
     "output_type": "stream",
     "text": [
      "\n",
      "Distância mínima entre as palavras-código: 4\n",
      "Distribuição de pesos:\n",
      "Peso 0: 1 palavra(s) código\n",
      "Peso 4: 14 palavra(s) código\n",
      "Peso 8: 1 palavra(s) código\n"
     ]
    }
   ],
   "source": [
    "# Calcula a distância mínima\n",
    "def hamming_distance(codeword1, codeword2):\n",
    "    return np.sum(codeword1 != codeword2)\n",
    "\n",
    "min_distance = float('inf')\n",
    "\n",
    "for i in range(len(codewords)):\n",
    "    for j in range(i + 1, len(codewords)):\n",
    "        dist = hamming_distance(codewords[i], codewords[j])\n",
    "        if dist < min_distance:\n",
    "            min_distance = dist\n",
    "\n",
    "print(\"\\nDistância mínima entre as palavras-código:\", min_distance)\n",
    "\n",
    "# Distribuição de pesos\n",
    "weight_distribution = {i: weights.count(i) for i in range(9)}  # Peso varia de 0 a 8\n",
    "\n",
    "print(\"Distribuição de pesos:\")\n",
    "for weight, count in weight_distribution.items():\n",
    "    if count > 0:\n",
    "        print(f\"Peso {weight}: {count} palavra(s) código\")"
   ]
  },
  {
   "cell_type": "code",
   "execution_count": 7,
   "metadata": {},
   "outputs": [],
   "source": [
    "# Matriz (8,4) geradora do código de Hamming\n",
    "G_input = np.array([\n",
    "              [1, 0, 0, 0, 1, 1, 0, 1],  \n",
    "              [0, 1, 0, 0, 1, 0, 1, 1],  \n",
    "              [0, 0, 1, 0, 0, 1, 1, 1],  \n",
    "              [0, 0, 0, 1, 1, 1, 1, 0]]) \n"
   ]
  },
  {
   "cell_type": "code",
   "execution_count": 8,
   "metadata": {},
   "outputs": [
    {
     "name": "stdout",
     "output_type": "stream",
     "text": [
      "Matriz de Padrões de Erro (ap):\n",
      "00000000 11011001 01011101 11110101 00110011 00011101 11010100 11111110 01111010 01101010 00100010 10000000 00000110 00011110 00010101 10110100 \n",
      "10000000 01011001 11011101 01110101 10110011 10011101 01010100 01111110 11111010 11101010 10100010 00000000 10000110 10011110 10010101 00110100 \n",
      "01000000 10011001 00011101 10110101 01110011 01011101 10010100 10111110 00111010 00101010 01100010 11000000 01000110 01011110 01010101 11110100 \n",
      "00100000 11111001 01111101 11010101 00010011 00111101 11110100 11011110 01011010 01001010 00000010 10100000 00100110 00111110 00110101 10010100 \n",
      "00010000 11001001 01001101 11100101 00100011 00001101 11000100 11101110 01101010 01111010 00110010 10010000 00010110 00001110 00000101 10100100 \n",
      "00001000 11010001 01010101 11111101 00111011 00010101 11011100 11110110 01110010 01100010 00101010 10001000 00001110 00010110 00011101 10111100 \n",
      "00000100 11011101 01011001 11110001 00110111 00011001 11010000 11111010 01111110 01101110 00100110 10000100 00000010 00011010 00010001 10110000 \n",
      "00000010 11011011 01011111 11110111 00110001 00011111 11010110 11111100 01111000 01101000 00100000 10000010 00000100 00011100 00010111 10110110 \n",
      "00000001 11011000 01011100 11110100 00110010 00011100 11010101 11111111 01111011 01101011 00100011 10000001 00000111 00011111 00010100 10110101 \n",
      "11000000 00011001 10011101 00110101 11110011 11011101 00010100 00111110 10111010 10101010 11100010 01000000 11000110 11011110 11010101 01110100 \n",
      "10100000 01111001 11111101 01010101 10010011 10111101 01110100 01011110 11011010 11001010 10000010 00100000 10100110 10111110 10110101 00010100 \n",
      "10010000 01001001 11001101 01100101 10100011 10001101 01000100 01101110 11101010 11111010 10110010 00010000 10010110 10001110 10000101 00100100 \n",
      "10001000 01010001 11010101 01111101 10111011 10010101 01011100 01110110 11110010 11100010 10101010 00001000 10001110 10010110 10011101 00111100 \n",
      "10000100 01011101 11011001 01110001 10110111 10011001 01010000 01111010 11111110 11101110 10100110 00000100 10000010 10011010 10010001 00110000 \n",
      "10000010 01011011 11011111 01110111 10110001 10011111 01010110 01111100 11111000 11101000 10100000 00000010 10000100 10011100 10010111 00110110 \n",
      "10000001 01011000 11011100 01110100 10110010 10011100 01010101 01111111 11111011 11101011 10100011 00000001 10000111 10011111 10010100 00110101 \n"
     ]
    }
   ],
   "source": [
    "# Inicializando matriz de padrões de erro com 16 linhas\n",
    "errorMatrix = np.zeros((16, 2**k, n), dtype=int)\n",
    "\n",
    "# Gerando palavras código aleatórias para cada coluna da primeira linha (exceto na primeira posição)\n",
    "for col in range(1, 2**k):\n",
    "    errorMatrix[0, col] = np.random.randint(2, size=n) \n",
    "\n",
    "# Preenchendo a primeira coluna com a matriz identidade para padrões de erro de 1 bit\n",
    "for i in range(1, min(9, 16)):\n",
    "    errorMatrix[i, 0] = np.eye(n, dtype=int)[i-1]\n",
    "\n",
    "# Gerando padrões de erro para 1 bit\n",
    "for row in range(1, 9):  # Para as linhas 1 a 8\n",
    "    for col in range(1, 2**k):  # Para todas as colunas\n",
    "        errorMatrix[row, col] = (errorMatrix[0, col] + errorMatrix[row, 0]) % 2\n",
    "\n",
    "# Gerando padrões de erro para 2 bits\n",
    "two_bit_errors = list(it.combinations(range(n), 2))\n",
    "\n",
    "# Contador para controlar o número de padrões de dois bits\n",
    "two_bit_count = 0  \n",
    "\n",
    "# Laço para terminar com as linhas da tabela (16 linhas no total)\n",
    "for pos in two_bit_errors:\n",
    "    if 9 + two_bit_count >= 16: \n",
    "        break\n",
    "\n",
    "    error_pattern = np.zeros(n, dtype=int)\n",
    "    error_pattern[list(pos)] = 1\n",
    "    errorMatrix[9 + two_bit_count, 0] = error_pattern\n",
    "\n",
    "    # Aplicando a combinação de dois bits de erro na matriz\n",
    "    for col in range(1, 2**k):\n",
    "        errorMatrix[9 + two_bit_count, col] = (errorMatrix[0, col] + errorMatrix[9 + two_bit_count, 0]) % 2\n",
    "    \n",
    "    two_bit_count += 1  # Incrementa o contador de padrões de dois bits\n",
    "\n",
    "# Preencher as linhas restantes com padrões aleatórios, se necessário\n",
    "for i in range(9 + two_bit_count, 16):\n",
    "    for col in range(2**k):\n",
    "        errorMatrix[i, col] = np.random.randint(2, size=n)  # Gera 0s e 1s aleatórios\n",
    "\n",
    "# Inicializando a matriz de pesos\n",
    "w_matrix = np.zeros((16, 2**k), dtype=int)\n",
    "\n",
    "# Calculando os pesos para cada padrão de erro\n",
    "for row in range(16):\n",
    "    for col in range(2**k):\n",
    "        w_matrix[row, col] = sum(errorMatrix[row, col])\n",
    "\n",
    "# Impressão da matriz de padrões de erro\n",
    "print(\"Matriz de Padrões de Erro (ap):\")\n",
    "for i in range(errorMatrix.shape[0]):\n",
    "    for j in range(errorMatrix.shape[1]):\n",
    "        print(f\"{''.join(map(str, errorMatrix[i, j]))}\", end=\" \")\n",
    "    print()"
   ]
  },
  {
   "cell_type": "code",
   "execution_count": 9,
   "metadata": {},
   "outputs": [
    {
     "name": "stdout",
     "output_type": "stream",
     "text": [
      "   syndrome     error\n",
      "0      0000  00000000\n",
      "1      1101  10000000\n",
      "2      1011  01000000\n",
      "3      0111  00100000\n",
      "4      1110  00010000\n",
      "5      1000  00001000\n",
      "6      0100  00000100\n",
      "7      0010  00000010\n",
      "8      0001  00000001\n",
      "9      0110  11000000\n",
      "10     1010  10100000\n",
      "11     0011  10010000\n",
      "12     0101  10001000\n",
      "13     1001  10000100\n",
      "14     1111  10000010\n",
      "15     1100  10000001\n"
     ]
    }
   ],
   "source": [
    "# Calcular síndromes\n",
    "H = np.array([[1, 1, 0, 1, 1, 0, 0, 0],\n",
    "              [1, 0, 1, 1, 0, 1, 0, 0],\n",
    "              [0, 1, 1, 1, 0, 0, 1, 0],\n",
    "              [1, 1, 1, 0, 0, 0, 0, 1]])\n",
    "\n",
    "syndrome = (H @ errorMatrix[:, 0, :].T) % 2\n",
    "\n",
    "# Criação da para as síndromes e padrões de erro\n",
    "e_s = pd.DataFrame(columns=[\"syndrome\", \"error\"])\n",
    "e_s[\"syndrome\"] = [\"\".join(map(str, s)) for s in syndrome.T]\n",
    "e_s[\"error\"] = [\"\".join(map(str, err)) for err in errorMatrix[:, 0, :]]\n",
    "\n",
    "# Filtrar apenas as entradas únicas\n",
    "e_s = e_s.drop_duplicates()\n",
    "\n",
    "# Exibir o DataFrame resultante\n",
    "print(e_s)"
   ]
  },
  {
   "cell_type": "code",
   "execution_count": 10,
   "metadata": {},
   "outputs": [
    {
     "name": "stdout",
     "output_type": "stream",
     "text": [
      "\n",
      "Verificação de Erros em Cada Bit:\n",
      "Síndrome: 1101, Erros detectados nos bits: 1\n",
      "Síndrome: 1011, Erros detectados nos bits: 2\n",
      "Síndrome: 0111, Erros detectados nos bits: 3\n",
      "Síndrome: 1110, Erros detectados nos bits: 4\n",
      "Síndrome: 1000, Erros detectados nos bits: 5\n",
      "Síndrome: 0100, Erros detectados nos bits: 6\n",
      "Síndrome: 0010, Erros detectados nos bits: 7\n",
      "Síndrome: 0001, Erros detectados nos bits: 8\n",
      "Síndrome: 0110, Erros detectados nos bits: 1, 2\n",
      "Síndrome: 1010, Erros detectados nos bits: 1, 3\n",
      "Síndrome: 0011, Erros detectados nos bits: 1, 4\n",
      "Síndrome: 0101, Erros detectados nos bits: 1, 5\n",
      "Síndrome: 1001, Erros detectados nos bits: 1, 6\n",
      "Síndrome: 1111, Erros detectados nos bits: 1, 7\n",
      "Síndrome: 1100, Erros detectados nos bits: 1, 8\n"
     ]
    }
   ],
   "source": [
    "# Verificação dos erros em cada bit\n",
    "print(\"\\nVerificação de Erros em Cada Bit:\")\n",
    "for index, row in e_s.iterrows():\n",
    "    syndrome_value = row[\"syndrome\"]\n",
    "    error_value = row[\"error\"]\n",
    "    \n",
    "    # Verificando onde os erros ocorrem\n",
    "    error_bits = [i for i in range(len(error_value)) if error_value[i] == '1']\n",
    "    \n",
    "    if len(error_bits) > 0:  # Se houver um ou mais erros\n",
    "        print(f\"Síndrome: {syndrome_value}, Erros detectados nos bits: {', '.join(str(bit + 1) for bit in error_bits)}\")"
   ]
  }
 ],
 "metadata": {
  "kernelspec": {
   "display_name": "Python 3",
   "language": "python",
   "name": "python3"
  },
  "language_info": {
   "codemirror_mode": {
    "name": "ipython",
    "version": 3
   },
   "file_extension": ".py",
   "mimetype": "text/x-python",
   "name": "python",
   "nbconvert_exporter": "python",
   "pygments_lexer": "ipython3",
   "version": "3.11.2"
  }
 },
 "nbformat": 4,
 "nbformat_minor": 2
}
