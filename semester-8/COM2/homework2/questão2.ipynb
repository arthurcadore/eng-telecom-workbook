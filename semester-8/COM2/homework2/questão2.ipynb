{
 "cells": [
  {
   "cell_type": "code",
   "execution_count": 1,
   "metadata": {},
   "outputs": [
    {
     "name": "stdout",
     "output_type": "stream",
     "text": [
      "Código de Hamming (7,4):\n",
      "7 4\n",
      "Matriz geradora G (7,4):\n",
      "[[1 0 0 0 1 1 0]\n",
      " [0 1 0 0 1 0 1]\n",
      " [0 0 1 0 0 1 1]\n",
      " [0 0 0 1 1 1 1]]\n"
     ]
    }
   ],
   "source": [
    "# Import das bibliotecas do Python\n",
    "import sys\n",
    "import komm\n",
    "import numpy as np\n",
    "import pandas as pd\n",
    "import itertools as it\n",
    "from itertools import product\n",
    "from fractions import Fraction \n",
    "import matplotlib.pyplot as plt\n",
    "\n",
    "# Cria um objeto do código de Hamming (7,4)\n",
    "hamm74 = komm.HammingCode(3)\n",
    "(n, k) = (hamm74.length, hamm74.dimension)\n",
    "\n",
    "# Imprime o código de Hamming (7,4)\n",
    "print(\"Código de Hamming (7,4):\")\n",
    "print(n, k)\n",
    "\n",
    "# Cria e Imprime a matriz geradora G (7,4)\n",
    "G = hamm74.generator_matrix\n",
    "print(\"Matriz geradora G (7,4):\")\n",
    "print(G)"
   ]
  },
  {
   "cell_type": "code",
   "execution_count": 2,
   "metadata": {},
   "outputs": [
    {
     "name": "stdout",
     "output_type": "stream",
     "text": [
      "\n",
      "Matriz geradora estendida G (8,4):\n",
      "[[1 0 0 0 1 1 0 3]\n",
      " [0 1 0 0 1 0 1 3]\n",
      " [0 0 1 0 0 1 1 3]\n",
      " [0 0 0 1 1 1 1 4]]\n"
     ]
    }
   ],
   "source": [
    "# Calcula o bit de paridade para cada linha e adiciona à matriz\n",
    "\n",
    "# Calcula a paridade (soma módulo 2 de cada linha)\n",
    "parity_column = np.sum(G, axis=1)\n",
    "\n",
    "\n",
    "# Adiciona a coluna de paridade\n",
    "G_extended = np.hstack((G, parity_column.reshape(-1, 1)))  \n",
    "\n",
    "# Imprime a matriz geradora estendida (8,4)\n",
    "print(\"\\nMatriz geradora estendida G (8,4):\")\n",
    "print(G_extended)\n"
   ]
  },
  {
   "cell_type": "code",
   "execution_count": 3,
   "metadata": {},
   "outputs": [
    {
     "name": "stdout",
     "output_type": "stream",
     "text": [
      "Mensagem de entrada (4 bits): [1, 0, 1, 1]\n",
      "Palavra código gerada (8 bits): [1 0 1 1 0 1 0 0]\n"
     ]
    }
   ],
   "source": [
    "# Define a função para mapear a mensagem para uma palavra código de 8 bits\n",
    "def encode_message(m, G_extended):\n",
    "    # Converte a mensagem em um array numpy, caso ainda não seja\n",
    "    m = np.array(m)\n",
    "    # Multiplica a mensagem pela matriz geradora estendida no campo GF(2)\n",
    "    codeword = np.dot(m, G_extended) % 2  # Calcula a palavra código em aritmética módulo 2\n",
    "    return codeword\n",
    "\n",
    "# Exemplo de uso\n",
    "message = [1, 0, 1, 1]  # Mensagem de 4 bits\n",
    "codeword = encode_message(message, G_extended)\n",
    "\n",
    "print(\"Mensagem de entrada (4 bits):\", message)\n",
    "print(\"Palavra código gerada (8 bits):\", codeword)\n",
    "\n",
    "# Altera o comprimento de n para 8\n",
    "n = n + 1\n",
    "\n",
    "# calcula o número de bits da mensagem \n",
    "m_length = n - k"
   ]
  },
  {
   "cell_type": "code",
   "execution_count": 4,
   "metadata": {},
   "outputs": [
    {
     "name": "stdout",
     "output_type": "stream",
     "text": [
      "Mensagem (4 bits) -> Palavra código (8 bits)\n",
      "(0, 0, 0, 0) -> [0 0 0 0 0 0 0 0]\n",
      "(0, 0, 0, 1) -> [0 0 0 1 1 1 1 0]\n",
      "(0, 0, 1, 0) -> [0 0 1 0 0 1 1 1]\n",
      "(0, 0, 1, 1) -> [0 0 1 1 1 0 0 1]\n",
      "(0, 1, 0, 0) -> [0 1 0 0 1 0 1 1]\n",
      "(0, 1, 0, 1) -> [0 1 0 1 0 1 0 1]\n",
      "(0, 1, 1, 0) -> [0 1 1 0 1 1 0 0]\n",
      "(0, 1, 1, 1) -> [0 1 1 1 0 0 1 0]\n",
      "(1, 0, 0, 0) -> [1 0 0 0 1 1 0 1]\n",
      "(1, 0, 0, 1) -> [1 0 0 1 0 0 1 1]\n",
      "(1, 0, 1, 0) -> [1 0 1 0 1 0 1 0]\n",
      "(1, 0, 1, 1) -> [1 0 1 1 0 1 0 0]\n",
      "(1, 1, 0, 0) -> [1 1 0 0 0 1 1 0]\n",
      "(1, 1, 0, 1) -> [1 1 0 1 1 0 0 0]\n",
      "(1, 1, 1, 0) -> [1 1 1 0 0 0 0 1]\n",
      "(1, 1, 1, 1) -> [1 1 1 1 1 1 1 1]\n"
     ]
    }
   ],
   "source": [
    "# Gera todas as mensagens de 4 bits possíveis\n",
    "all_messages = list(product([0, 1], repeat=4))  # Gera combinações de 4 bits\n",
    "\n",
    "# Exibe cada mensagem e sua palavra código correspondente\n",
    "print(\"Mensagem (4 bits) -> Palavra código (8 bits)\")\n",
    "for m in all_messages:\n",
    "    codeword = encode_message(m, G_extended)\n",
    "    print(f\"{m} -> {codeword}\")"
   ]
  },
  {
   "cell_type": "code",
   "execution_count": 5,
   "metadata": {},
   "outputs": [
    {
     "name": "stdout",
     "output_type": "stream",
     "text": [
      "Mensagem (4 bits) -> Palavra código (8 bits) -> Peso\n",
      "(0, 0, 0, 0) -> [0 0 0 0 0 0 0 0] -> 0\n",
      "(0, 0, 0, 1) -> [0 0 0 1 1 1 1 0] -> 4\n",
      "(0, 0, 1, 0) -> [0 0 1 0 0 1 1 1] -> 4\n",
      "(0, 0, 1, 1) -> [0 0 1 1 1 0 0 1] -> 4\n",
      "(0, 1, 0, 0) -> [0 1 0 0 1 0 1 1] -> 4\n",
      "(0, 1, 0, 1) -> [0 1 0 1 0 1 0 1] -> 4\n",
      "(0, 1, 1, 0) -> [0 1 1 0 1 1 0 0] -> 4\n",
      "(0, 1, 1, 1) -> [0 1 1 1 0 0 1 0] -> 4\n",
      "(1, 0, 0, 0) -> [1 0 0 0 1 1 0 1] -> 4\n",
      "(1, 0, 0, 1) -> [1 0 0 1 0 0 1 1] -> 4\n",
      "(1, 0, 1, 0) -> [1 0 1 0 1 0 1 0] -> 4\n",
      "(1, 0, 1, 1) -> [1 0 1 1 0 1 0 0] -> 4\n",
      "(1, 1, 0, 0) -> [1 1 0 0 0 1 1 0] -> 4\n",
      "(1, 1, 0, 1) -> [1 1 0 1 1 0 0 0] -> 4\n",
      "(1, 1, 1, 0) -> [1 1 1 0 0 0 0 1] -> 4\n",
      "(1, 1, 1, 1) -> [1 1 1 1 1 1 1 1] -> 8\n"
     ]
    }
   ],
   "source": [
    "# Calcula o peso de Hamming de uma palavra código\n",
    "\n",
    "# Vetores para armazenar as palavras-código e seus pesos\n",
    "codewords = []\n",
    "weights = []\n",
    "\n",
    "# Calcula o peso de Hamming de cada palavra código\n",
    "print(\"Mensagem (4 bits) -> Palavra código (8 bits) -> Peso\")\n",
    "for m in all_messages:\n",
    "    codeword = encode_message(m, G_extended)\n",
    "    weight = np.sum(codeword)  # Calcula o peso (número de bits 1)\n",
    "    codewords.append(codeword)\n",
    "    weights.append(weight)\n",
    "    print(f\"{m} -> {codeword} -> {weight}\")\n"
   ]
  },
  {
   "cell_type": "code",
   "execution_count": 6,
   "metadata": {},
   "outputs": [
    {
     "name": "stdout",
     "output_type": "stream",
     "text": [
      "\n",
      "Distância mínima entre as palavras-código: 4\n",
      "Distribuição de pesos:\n",
      "Peso 0: 1 palavra(s) código\n",
      "Peso 4: 14 palavra(s) código\n",
      "Peso 8: 1 palavra(s) código\n"
     ]
    }
   ],
   "source": [
    "# Calcula a distância mínima\n",
    "def hamming_distance(codeword1, codeword2):\n",
    "    return np.sum(codeword1 != codeword2)\n",
    "\n",
    "min_distance = float('inf')\n",
    "\n",
    "for i in range(len(codewords)):\n",
    "    for j in range(i + 1, len(codewords)):\n",
    "        dist = hamming_distance(codewords[i], codewords[j])\n",
    "        if dist < min_distance:\n",
    "            min_distance = dist\n",
    "\n",
    "print(\"\\nDistância mínima entre as palavras-código:\", min_distance)\n",
    "\n",
    "# Distribuição de pesos\n",
    "weight_distribution = {i: weights.count(i) for i in range(9)}  # Peso varia de 0 a 8\n",
    "\n",
    "print(\"Distribuição de pesos:\")\n",
    "for weight, count in weight_distribution.items():\n",
    "    if count > 0:\n",
    "        print(f\"Peso {weight}: {count} palavra(s) código\")"
   ]
  },
  {
   "cell_type": "code",
   "execution_count": 7,
   "metadata": {},
   "outputs": [],
   "source": [
    "# Matriz (8,4) geradora do código de Hamming\n",
    "G_input = np.array([\n",
    "              [1, 0, 0, 0, 1, 1, 0, 1],  \n",
    "              [0, 1, 0, 0, 1, 0, 1, 1],  \n",
    "              [0, 0, 1, 0, 0, 1, 1, 1],  \n",
    "              [0, 0, 0, 1, 1, 1, 1, 0]]) "
   ]
  },
  {
   "cell_type": "code",
   "execution_count": 8,
   "metadata": {},
   "outputs": [
    {
     "name": "stdout",
     "output_type": "stream",
     "text": [
      "Matriz de Padrões de Erro (ap):\n",
      "00000000 10011101 01111110 00000001 11100101 00000100 01001000 10010010 10001100 10101100 11000101 11001100 10110000 11001001 11111100 11011011 \n",
      "10000000 00011101 11111110 10000001 01100101 10000100 11001000 00010010 00001100 00101100 01000101 01001100 00110000 01001001 01111100 01011011 \n",
      "01000000 11011101 00111110 01000001 10100101 01000100 00001000 11010010 11001100 11101100 10000101 10001100 11110000 10001001 10111100 10011011 \n",
      "00100000 10111101 01011110 00100001 11000101 00100100 01101000 10110010 10101100 10001100 11100101 11101100 10010000 11101001 11011100 11111011 \n",
      "00010000 10001101 01101110 00010001 11110101 00010100 01011000 10000010 10011100 10111100 11010101 11011100 10100000 11011001 11101100 11001011 \n",
      "00001000 10010101 01110110 00001001 11101101 00001100 01000000 10011010 10000100 10100100 11001101 11000100 10111000 11000001 11110100 11010011 \n",
      "00000100 10011001 01111010 00000101 11100001 00000000 01001100 10010110 10001000 10101000 11000001 11001000 10110100 11001101 11111000 11011111 \n",
      "00000010 10011111 01111100 00000011 11100111 00000110 01001010 10010000 10001110 10101110 11000111 11001110 10110010 11001011 11111110 11011001 \n",
      "00000001 10011100 01111111 00000000 11100100 00000101 01001001 10010011 10001101 10101101 11000100 11001101 10110001 11001000 11111101 11011010 \n",
      "11000000 01011101 10111110 11000001 00100101 11000100 10001000 01010010 01001100 01101100 00000101 00001100 01110000 00001001 00111100 00011011 \n",
      "10100000 00111101 11011110 10100001 01000101 10100100 11101000 00110010 00101100 00001100 01100101 01101100 00010000 01101001 01011100 01111011 \n",
      "10010000 00001101 11101110 10010001 01110101 10010100 11011000 00000010 00011100 00111100 01010101 01011100 00100000 01011001 01101100 01001011 \n",
      "10001000 00010101 11110110 10001001 01101101 10001100 11000000 00011010 00000100 00100100 01001101 01000100 00111000 01000001 01110100 01010011 \n",
      "10000100 00011001 11111010 10000101 01100001 10000000 11001100 00010110 00001000 00101000 01000001 01001000 00110100 01001101 01111000 01011111 \n",
      "10000010 00011111 11111100 10000011 01100111 10000110 11001010 00010000 00001110 00101110 01000111 01001110 00110010 01001011 01111110 01011001 \n",
      "10000001 00011100 11111111 10000000 01100100 10000101 11001001 00010011 00001101 00101101 01000100 01001101 00110001 01001000 01111101 01011010 \n"
     ]
    }
   ],
   "source": [
    "# Inicializando matriz de padrões de erro com 16 linhas\n",
    "errorMatrix = np.zeros((16, 2**k, n), dtype=int)\n",
    "\n",
    "# Gerando palavras código aleatórias para cada coluna da primeira linha (exceto na primeira posição)\n",
    "for col in range(1, 2**k):\n",
    "    errorMatrix[0, col] = np.random.randint(2, size=n) \n",
    "\n",
    "# Preenchendo a primeira coluna com a matriz identidade para padrões de erro de 1 bit\n",
    "for i in range(1, min(9, 16)):\n",
    "    errorMatrix[i, 0] = np.eye(n, dtype=int)[i-1]\n",
    "\n",
    "# Gerando padrões de erro para 1 bit\n",
    "for row in range(1, 9):  # Para as linhas 1 a 8\n",
    "    for col in range(1, 2**k):  # Para todas as colunas\n",
    "        errorMatrix[row, col] = (errorMatrix[0, col] + errorMatrix[row, 0]) % 2\n",
    "\n",
    "# Gerando padrões de erro para 2 bits\n",
    "two_bit_errors = list(it.combinations(range(n), 2))\n",
    "\n",
    "# Contador para controlar o número de padrões de dois bits\n",
    "two_bit_count = 0  \n",
    "\n",
    "# Laço para terminar com as linhas da tabela (16 linhas no total)\n",
    "for pos in two_bit_errors:\n",
    "    if 9 + two_bit_count >= 16: \n",
    "        break\n",
    "\n",
    "    error_pattern = np.zeros(n, dtype=int)\n",
    "    error_pattern[list(pos)] = 1\n",
    "    errorMatrix[9 + two_bit_count, 0] = error_pattern\n",
    "\n",
    "    # Aplicando a combinação de dois bits de erro na matriz\n",
    "    for col in range(1, 2**k):\n",
    "        errorMatrix[9 + two_bit_count, col] = (errorMatrix[0, col] + errorMatrix[9 + two_bit_count, 0]) % 2\n",
    "    \n",
    "    two_bit_count += 1  # Incrementa o contador de padrões de dois bits\n",
    "\n",
    "# Preencher as linhas restantes com padrões aleatórios, se necessário\n",
    "for i in range(9 + two_bit_count, 16):\n",
    "    for col in range(2**k):\n",
    "        errorMatrix[i, col] = np.random.randint(2, size=n)  # Gera 0s e 1s aleatórios\n",
    "\n",
    "# Inicializando a matriz de pesos\n",
    "w_matrix = np.zeros((16, 2**k), dtype=int)\n",
    "\n",
    "# Calculando os pesos para cada padrão de erro\n",
    "for row in range(16):\n",
    "    for col in range(2**k):\n",
    "        w_matrix[row, col] = sum(errorMatrix[row, col])\n",
    "\n",
    "# Impressão da matriz de padrões de erro\n",
    "print(\"Matriz de Padrões de Erro (ap):\")\n",
    "for i in range(errorMatrix.shape[0]):\n",
    "    for j in range(errorMatrix.shape[1]):\n",
    "        print(f\"{''.join(map(str, errorMatrix[i, j]))}\", end=\" \")\n",
    "    print()"
   ]
  },
  {
   "cell_type": "code",
   "execution_count": 9,
   "metadata": {},
   "outputs": [
    {
     "name": "stdout",
     "output_type": "stream",
     "text": [
      "        syndrome                     error\n",
      "0   [0, 0, 0, 0]  [0, 0, 0, 0, 0, 0, 0, 0]\n",
      "1   [1, 1, 0, 1]  [1, 0, 0, 0, 0, 0, 0, 0]\n",
      "2   [1, 0, 1, 1]  [0, 1, 0, 0, 0, 0, 0, 0]\n",
      "3   [0, 1, 1, 1]  [0, 0, 1, 0, 0, 0, 0, 0]\n",
      "4   [1, 1, 1, 0]  [0, 0, 0, 1, 0, 0, 0, 0]\n",
      "5   [1, 0, 0, 0]  [0, 0, 0, 0, 1, 0, 0, 0]\n",
      "6   [0, 1, 0, 0]  [0, 0, 0, 0, 0, 1, 0, 0]\n",
      "7   [0, 0, 1, 0]  [0, 0, 0, 0, 0, 0, 1, 0]\n",
      "8   [0, 0, 0, 1]  [0, 0, 0, 0, 0, 0, 0, 1]\n",
      "9   [0, 1, 1, 0]  [1, 1, 0, 0, 0, 0, 0, 0]\n",
      "10  [1, 0, 1, 0]  [1, 0, 1, 0, 0, 0, 0, 0]\n",
      "11  [0, 0, 1, 1]  [1, 0, 0, 1, 0, 0, 0, 0]\n",
      "12  [0, 1, 0, 1]  [1, 0, 0, 0, 1, 0, 0, 0]\n",
      "13  [1, 0, 0, 1]  [1, 0, 0, 0, 0, 1, 0, 0]\n",
      "14  [1, 1, 1, 1]  [1, 0, 0, 0, 0, 0, 1, 0]\n",
      "15  [1, 1, 0, 0]  [1, 0, 0, 0, 0, 0, 0, 1]\n"
     ]
    }
   ],
   "source": [
    "# Calcular síndromes\n",
    "H = np.array([[1, 1, 0, 1, 1, 0, 0, 0],\n",
    "              [1, 0, 1, 1, 0, 1, 0, 0],\n",
    "              [0, 1, 1, 1, 0, 0, 1, 0],\n",
    "              [1, 1, 1, 0, 0, 0, 0, 1]])\n",
    "\n",
    "syndrome = (H @ errorMatrix[:, 0, :].T) % 2\n",
    "\n",
    "# Criação da para as síndromes e padrões de erro\n",
    "e_s = pd.DataFrame(columns=[\"syndrome\", \"error\"])\n",
    "e_s[\"syndrome\"] = [\"\".join(map(str, s)) for s in syndrome.T]\n",
    "e_s[\"error\"] = [\"\".join(map(str, err)) for err in errorMatrix[:, 0, :]]\n",
    "\n",
    "# Filtrar apenas as entradas únicas\n",
    "e_s = e_s.drop_duplicates()\n",
    "\n",
    "e_s[\"syndrome\"] = [x for x in syndrome.T]\n",
    "e_s[\"error\"] = [x for x in errorMatrix[:, 0, :]]\n",
    "\n",
    "# Exibir o DataFrame resultante\n",
    "print(e_s)"
   ]
  },
  {
   "cell_type": "markdown",
   "metadata": {},
   "source": [
    "Questão 2 \n"
   ]
  },
  {
   "cell_type": "code",
   "execution_count": 10,
   "metadata": {},
   "outputs": [],
   "source": [
    "# Criação de um dicionário para mapear as síndromes para os padrões de erro\n",
    "syndrome_error = {tuple(s): e for s, e in zip(e_s[\"syndrome\"], e_s[\"error\"])}\n",
    "\n",
    "\n",
    "# Criando um vetor de 100 mensagens de 4 bits aleatórias\n",
    "u = np.random.randint(0, 2, (100000, 4))\n",
    "\n",
    "# Codificação das mensagens de 4 bits em palavras código de 8 bits usando a matriz geradora estendida\n",
    "v = (u @ G_input) % 2\n",
    "\n",
    "# Inicializando o modulador QPSK e o canal AWGN\n",
    "qpsk_mod = komm.PSKModulation(4)\n",
    "\n",
    "\n",
    "# Inicializando o modulador QPSK e o canal AWGN para o código de Hamming\n",
    "SNR = range(-1, 8)  # dB\n",
    "\n",
    "# Inicializando os vetores de BER para o código de Hamming e sem código\n",
    "ber = np.zeros(len(SNR))\n",
    "ber_hamm = np.zeros(len(SNR))\n",
    "\n",
    "\n",
    "# Loop para calcular a BER para cada valor de SNR \n",
    "for i, snr in enumerate(SNR):\n",
    "\n",
    "    # calculando o valor de dBm de volta para lienar \n",
    "    snr_lin = 10 ** (snr / 10)\n",
    "\n",
    "    # Inicializando o canal AWGN e aplicando a SNR em linear\n",
    "    awgn = komm.AWGNChannel(signal_power=\"measured\", snr=snr_lin)\n",
    "\n",
    "    # Modulação, transmissão, recepção e demodulação para o código de Hamming\n",
    "    v_mod = qpsk_mod.modulate(v.flatten())\n",
    "    vb = awgn(v_mod)\n",
    "    v_demod = qpsk_mod.demodulate(vb).reshape(-1, 8)\n",
    "\n",
    "    # Decodificação do código de Hamming\n",
    "    s = ((H @ v_demod.T) % 2).T\n",
    "\n",
    "    # Calculando a palavra código corrigida para cada síndrome usando a tabela de síndromes e padrões de erro\n",
    "    errors = np.array([syndrome_error[tuple(x)] for x in s])\n",
    "    v_hat = (v_demod + errors) % 2\n",
    "\n",
    "    # Calculando a BER para o código de Hamming \n",
    "    ber_hamm[i] = np.sum(v_hat.reshape(-1) != v.reshape(-1)) / 100000\n",
    "\n",
    "    # Modulação, transmissão, recepção e demodulação sem código de Hamming\n",
    "    u_mod = qpsk_mod.modulate(u.flatten())\n",
    "    ub = awgn(u_mod)\n",
    "    u_hat = qpsk_mod.demodulate(ub).reshape(-1, 4)\n",
    "\n",
    "    # Calculando a BER sem código de Hamming\n",
    "    ber[i] = np.sum(u_hat.reshape(-1) != u.reshape(-1)) / 100000"
   ]
  },
  {
   "cell_type": "code",
   "execution_count": 11,
   "metadata": {},
   "outputs": [
    {
     "data": {
      "image/png": "[encoded data removed]",
      "text/plain": [
       "<Figure size 640x480 with 1 Axes>"
      ]
     },
     "metadata": {},
     "output_type": "display_data"
    }
   ],
   "source": [
    "# Plotando BER original e codificado\n",
    "plt.figure()\n",
    "\n",
    "plt.semilogy(SNR, ber, label=\"Original (Não-codificado)\", marker=\"o\", color=\"red\")\n",
    "plt.semilogy(SNR, ber_hamm, label=\"Codificado (Hamming)\",marker=\"o\", color=\"blue\")\n",
    "\n",
    "plt.xlabel(\"SNR [dB]\")\n",
    "plt.Figure(figsize=(10, 6))\n",
    "plt.ylabel(\"BER\")\n",
    "plt.title(\"Desempenho de BER: Codificação Hamming vs. Não-codificado\")\n",
    "\n",
    "plt.legend()\n",
    "plt.grid(True, which=\"both\")  # Grid em ambas escalas\n",
    "plt.show()\n"
   ]
  }
 ],
 "metadata": {
  "kernelspec": {
   "display_name": "Python 3",
   "language": "python",
   "name": "python3"
  },
  "language_info": {
   "codemirror_mode": {
    "name": "ipython",
    "version": 3
   },
   "file_extension": ".py",
   "mimetype": "text/x-python",
   "name": "python",
   "nbconvert_exporter": "python",
   "pygments_lexer": "ipython3",
   "version": "3.11.2"
  }
 },
 "nbformat": 4,
 "nbformat_minor": 2
}
