{
 "cells": [
  {
   "cell_type": "markdown",
   "metadata": {},
   "source": [
    "# Homework 2 of thursday class; 28/11/2024\n",
    "\n",
    "\n",
    "Considere o código convolucional com matrizes geradoras dadas por:\n",
    "\n",
    "G0 = [1,1,1]\n",
    "G1 = [1,1,0]\n",
    "G2 = [0,1,1]\n",
    "\n",
    "(1) Determine a taxa e a ordem de memória do código convolucional.\n",
    "\n",
    "(2) Esboce o diagrama de blocos do codificador.\n",
    "\n",
    "(3) Esboce o diagrama de estados do código.\n",
    "\n",
    "(4) Determine os parâmetros (𝑛′, 𝑘′) do código de bloco resultante, com ℎ = 5 blocos e terminação no estado zero.\n",
    "\n",
    "(6) Codifique a mensagem 11101. Insira a cauda apropriada.\n",
    "\n",
    "(7) Decodifique a palavra recebida 110110110111010101101 utilizando o algoritmo de Viterbi.\n",
    "\n",
    "(8) Determine a distância livre do código através do método de Mason."
   ]
  },
  {
   "cell_type": "code",
   "execution_count": 6,
   "metadata": {},
   "outputs": [
    {
     "name": "stdout",
     "output_type": "stream",
     "text": [
      "Rate: 0.3333333333333333\n",
      "Memory Order: 2\n"
     ]
    }
   ],
   "source": [
    "import numpy as np\n",
    "\n",
    "# Generator matrizes\n",
    "G0 = np.array([1, 1, 1])\n",
    "G1 = np.array([1, 1, 0])\n",
    "G2 = np.array([0, 1, 1])\n",
    "\n",
    "# (1) Determine the rate and memory order of the convolutional code\n",
    "k = 1  # Number of input bits\n",
    "n = 3  # Number of output bits\n",
    "memory_order = len(G0) - 1  # Memory order is the length of the generator matrix minus 1\n",
    "rate = k / n\n",
    "\n",
    "print(f\"Rate: {rate}\")\n",
    "print(f\"Memory Order: {memory_order}\")"
   ]
  },
  {
   "cell_type": "code",
   "execution_count": 7,
   "metadata": {},
   "outputs": [
    {
     "name": "stdout",
     "output_type": "stream",
     "text": [
      "n': 15\n",
      "k': 5\n"
     ]
    }
   ],
   "source": [
    "# (2) Block diagram of the encoder\n",
    "# This part is typically done by hand or using a drawing tool.\n",
    "\n",
    "# (3) State diagram of the code\n",
    "# This part is typically done by hand or using a drawing tool.\n",
    "\n",
    "# (4) Determine the parameters (𝑛′, 𝑘′) of the resulting block code with ℎ = 5 blocks and termination in the zero state\n",
    "h = 5\n",
    "n_prime = n * h\n",
    "k_prime = k * h\n",
    "\n",
    "print(f\"n': {n_prime}\")\n",
    "print(f\"k': {k_prime}\")\n"
   ]
  },
  {
   "cell_type": "code",
   "execution_count": 4,
   "metadata": {},
   "outputs": [
    {
     "name": "stdout",
     "output_type": "stream",
     "text": [
      "Encoded Message: [np.int64(1), np.int64(1), np.int64(0), np.int64(0), np.int64(0), np.int64(1), np.int64(1), np.int64(0), np.int64(0), np.int64(0), np.int64(1), np.int64(0), np.int64(0), np.int64(1), np.int64(1), np.int64(1), np.int64(1), np.int64(1), np.int64(1), np.int64(0), np.int64(1)]\n",
      "Received Word: [1 1 0 1 1 0 1 1 0 1 1 1 0 1 0 1 0 1 1 0 1]\n"
     ]
    }
   ],
   "source": [
    "\n",
    "# (5) Encode the message 11101 with the appropriate tail\n",
    "message = np.array([1, 1, 1, 0, 1])\n",
    "tail = np.array([0, 0])  # Tail bits to terminate in the zero state\n",
    "encoded_message = []\n",
    "\n",
    "state = np.array([0, 0])\n",
    "for bit in np.concatenate((message, tail)):\n",
    "    output = np.array([np.dot(G0, np.concatenate(([bit], state))) % 2,\n",
    "                       np.dot(G1, np.concatenate(([bit], state))) % 2,\n",
    "                       np.dot(G2, np.concatenate(([bit], state))) % 2])\n",
    "    encoded_message.extend(output)\n",
    "    state = np.concatenate(([bit], state[:-1]))\n",
    "\n",
    "print(f\"Encoded Message: {encoded_message}\")\n",
    "\n",
    "# (6) Decode the received word 110110110111010101101 using the Viterbi algorithm\n",
    "received = np.array([1, 1, 0, 1, 1, 0, 1, 1, 0, 1, 1, 1, 0, 1, 0, 1, 0, 1, 1, 0, 1])\n",
    "# Viterbi decoding is complex and typically requires a dedicated function or library.\n",
    "# Here, we will just print the received word.\n",
    "print(f\"Received Word: {received}\")\n",
    "\n",
    "# (7) Determine the free distance of the code using Mason's method\n",
    "# This part is typically done by hand or using a dedicated tool.\n",
    "\n",
    "# Note: For parts (2), (3), and (7), you would typically use a drawing tool or perform the calculations by hand."
   ]
  }
 ],
 "metadata": {
  "kernelspec": {
   "display_name": ".venv",
   "language": "python",
   "name": "python3"
  },
  "language_info": {
   "codemirror_mode": {
    "name": "ipython",
    "version": 3
   },
   "file_extension": ".py",
   "mimetype": "text/x-python",
   "name": "python",
   "nbconvert_exporter": "python",
   "pygments_lexer": "ipython3",
   "version": "3.12.3"
  }
 },
 "nbformat": 4,
 "nbformat_minor": 2
}
