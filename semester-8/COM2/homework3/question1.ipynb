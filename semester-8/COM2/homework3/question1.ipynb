{
 "cells": [
  {
   "cell_type": "markdown",
   "metadata": {},
   "source": [
    "# QUESTÃO 1:\n",
    "\n",
    "Considere o código convolucional com matrizes geradoras dadas por: \n",
    "\n",
    "G0 = [1 1 1]\n",
    "G1 = [1 1 0]\n",
    "G2 = [0 1 1]\n",
    "\n",
    "(1) Determine a taxa e a ordem de memória do código convolucional.\n",
    "\n",
    "(4) Determine os parâmetros (𝑛′, 𝑘′) do código de bloco resultante, com ℎ = 5 blocos e terminação no estado zero.\n",
    "\n",
    "(6) Codifique a mensagem 11101. Insira a cauda apropriada.\n",
    "\n",
    "(7) Decodifique a palavra recebida 110110110111010101101 utilizando o algoritmo de Viterbi.\n",
    "\n",
    "(8) Determine a distância livre do código através do método de Mason.\n"
   ]
  },
  {
   "cell_type": "code",
   "execution_count": 10,
   "metadata": {},
   "outputs": [
    {
     "name": "stdout",
     "output_type": "stream",
     "text": [
      "Komm version:  0.9.1\n",
      "Numpy version:  2.1.3\n"
     ]
    }
   ],
   "source": [
    "# Importando as bibliotecas necessárias\n",
    "import numpy as np\n",
    "import komm as komm\n",
    "\n",
    "\n",
    "# Imprimindo a versão da biblioteca\n",
    "print(\"Komm version: \", komm.__version__)\n",
    "print(\"Numpy version: \", np.__version__)\n"
   ]
  },
  {
   "cell_type": "code",
   "execution_count": 11,
   "metadata": {},
   "outputs": [
    {
     "name": "stdout",
     "output_type": "stream",
     "text": [
      "Taxa: 0.3333333333333333\n",
      "Ordem de Memória: 2\n"
     ]
    }
   ],
   "source": [
    "# (1) Determine a taxa e a ordem de memória do código convolucional.\n",
    "# Definindo as matrizes geradoras\n",
    "G0 = np.array([1, 1, 1])\n",
    "G1 = np.array([1, 1, 0])\n",
    "G2 = np.array([0, 1, 1])\n",
    "\n",
    "# Definindo os parâmetros do código \n",
    "k = 1  \n",
    "n = 3  \n",
    "\n",
    "# Calculando a taxa e a ordem de memória\n",
    "memory_order = len(G0) - 1 \n",
    "rate = k / n\n",
    "\n",
    "print(f\"Taxa: {rate}\")\n",
    "print(f\"Ordem de Memória: {memory_order}\")"
   ]
  },
  {
   "cell_type": "code",
   "execution_count": 12,
   "metadata": {},
   "outputs": [
    {
     "name": "stdout",
     "output_type": "stream",
     "text": [
      "n': 15\n",
      "k': 5\n"
     ]
    }
   ],
   "source": [
    "# (4) Determine os parâmetros (𝑛′, 𝑘′) do código de bloco resultante, com ℎ = 5 blocos e terminação no estado zero.\n",
    "# Definindo o parâmetro h\n",
    "h = 5\n",
    "\n",
    "# Calculando os valores de n' e k'\n",
    "n_line = n * h\n",
    "k_line = k * h\n",
    "\n",
    "# Imprimindo os valores de n' e k'\n",
    "print(f\"n': {n_line}\")\n",
    "print(f\"k': {k_line}\")"
   ]
  },
  {
   "cell_type": "code",
   "execution_count": 13,
   "metadata": {},
   "outputs": [],
   "source": [
    "# Função para codificar a mensagem com o código convolucional\n",
    "def encode_message(h, polinomial_array, message):\n",
    "    # Criando o codificador convolucional\n",
    "    conv_encoder = komm.ConvolutionalCode(\n",
    "        feedforward_polynomials=polinomial_array)\n",
    "\n",
    "    # Criando o código de bloco com terminação em zero\n",
    "    block_code = komm.TerminatedConvolutionalCode(\n",
    "        conv_encoder, h, mode='zero-termination')\n",
    "\n",
    "    # Criando o codificador de bloco\n",
    "    encoder = komm.BlockEncoder(\n",
    "        block_code)\n",
    "\n",
    "    # Codificando a mensagem\n",
    "    encoded_message = encoder(message)\n",
    "\n",
    "    return encoded_message"
   ]
  },
  {
   "cell_type": "code",
   "execution_count": 14,
   "metadata": {},
   "outputs": [],
   "source": [
    "# Função para decodificar a mensagem com o código convolucional\n",
    "def decode_message(h, polinomial_array, encoded_message):\n",
    "    # Criando o codificador convolucional\n",
    "    conv_encoder = komm.ConvolutionalCode(\n",
    "        feedforward_polynomials=polinomial_array)\n",
    "\n",
    "    # Criando o código de bloco com terminação em zero\n",
    "    block_code = komm.TerminatedConvolutionalCode(\n",
    "        conv_encoder, h, mode='zero-termination')\n",
    "\n",
    "    # Criando o decodificador de bloco\n",
    "    decoder = komm.BlockDecoder(\n",
    "        block_code, method='viterbi_hard')\n",
    "\n",
    "    # Decodificando a mensagem\n",
    "    decoded_message = decoder(encoded_message)\n",
    "\n",
    "    return decoded_message"
   ]
  },
  {
   "cell_type": "code",
   "execution_count": 15,
   "metadata": {},
   "outputs": [
    {
     "name": "stdout",
     "output_type": "stream",
     "text": [
      "Mensagem Original: 11101\n",
      "Mensagem Codificada: 111001010101100110011\n",
      "Mensagem Decodificada: 11101\n"
     ]
    }
   ],
   "source": [
    "# (5) Codifique a mensagem (1, 1, 1, 0, 1) usando o código convolucional e o código de bloco resultante.\n",
    "\n",
    "# Definindo a mensagem\n",
    "message = [1, 1, 1, 0, 1]\n",
    "print(\"Mensagem Original:\", ''.join(map(str, message)))\n",
    "\n",
    "# Criando um array com os polinômios geradores do código convolucional\n",
    "# É necessário que os polinômios sejam representados em binário apra que a biblioteca funcione corretamente. \n",
    "polinomial_array = [[0b011 ,0b111, 0b101]]\n",
    "\n",
    "# Codificando a mensagem e imprimindo o resultado\n",
    "encoded_message = encode_message(h, polinomial_array, message)\n",
    "print(\"Mensagem Codificada:\", ''.join(map(str, encoded_message)))\n",
    "\n",
    "# Decodificando a mensagem e imprimindo o resultado\n",
    "decoded_message = decode_message(h, polinomial_array, encoded_message)\n",
    "print(\"Mensagem Decodificada:\", ''.join(map(str, decoded_message)))\n"
   ]
  },
  {
   "cell_type": "code",
   "execution_count": 16,
   "metadata": {},
   "outputs": [
    {
     "name": "stdout",
     "output_type": "stream",
     "text": [
      "Palavra Recebida: 110110110111010101101\n",
      "Mensagem Decodificada: 10111\n"
     ]
    }
   ],
   "source": [
    "# (7) Decodifique a palavra recebida 110110110111010101101 utilizando o algoritmo de Viterbi.\n",
    "\n",
    "# Definindo a palavra recebida\n",
    "received_word = [1,1,0,1,1,0,1,1,0,1,1,1,0,1,0,1,0,1,1,0,1]\n",
    "print(\"Palavra Recebida:\", ''.join(map(str, received_word)))\n",
    "\n",
    "# Decodificando a palavra recebida e imprimindo o resultado\n",
    "# Nota: Aqui é utilizado a mesma função de decodificação criada anteriormente e também seus parâmetros (exceto a mensagem)\n",
    "decoded_message = decode_message(h, polinomial_array, received_word)\n",
    "print(\"Mensagem Decodificada:\", ''.join(map(str, decoded_message)))\n",
    "\n"
   ]
  }
 ],
 "metadata": {
  "kernelspec": {
   "display_name": ".venv",
   "language": "python",
   "name": "python3"
  },
  "language_info": {
   "codemirror_mode": {
    "name": "ipython",
    "version": 3
   },
   "file_extension": ".py",
   "mimetype": "text/x-python",
   "name": "python",
   "nbconvert_exporter": "python",
   "pygments_lexer": "ipython3",
   "version": "3.12.3"
  }
 },
 "nbformat": 4,
 "nbformat_minor": 2
}
