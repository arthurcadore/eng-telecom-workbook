{
 "cells": [
  {
   "cell_type": "code",
   "execution_count": 20,
   "metadata": {},
   "outputs": [],
   "source": [
    "import komm"
   ]
  },
  {
   "cell_type": "code",
   "execution_count": 21,
   "metadata": {},
   "outputs": [
    {
     "name": "stdout",
     "output_type": "stream",
     "text": [
      "codigo 1 Unicamente decodificavel:  True\n",
      "codigo 2 Unicamente decodificavel:  True\n",
      "codigo 3 Unicamente decodificavel:  True\n",
      "codigo 4 Unicamente decodificavel:  False\n",
      "codigo 1 Prefix Free:  True\n",
      "codigo 2 Prefix Free:  True\n",
      "codigo 3 Prefix Free:  False\n",
      "codigo 4 Prefix Free:  False\n"
     ]
    }
   ],
   "source": [
    "codewords1 = [(0, 0), (0, 1), (1, 0), (1, 1)]\n",
    "codewords2 = [(1,), (0, 1), (0, 0,0), (0, 0,1)]\n",
    "codewords3 = [(0,), (0, 1), (0, 1,1), (0, 1,1,1)]\n",
    "codewords4 = [(0,), (1,), (0, 0), (1,1)]\n",
    "\n",
    "pmf = [1/2, 1/4, 1/8, 1/8]\n",
    "\n",
    "code1 = komm.FixedToVariableCode.from_codewords(4, codewords1)\n",
    "code2 = komm.FixedToVariableCode.from_codewords(4, codewords2)\n",
    "code3 = komm.FixedToVariableCode.from_codewords(4, codewords3)\n",
    "code4 = komm.FixedToVariableCode.from_codewords(4, codewords4)\n",
    "\n",
    "# Imprime se é unicamente decodificavel. \n",
    "print(\"codigo 1 Unicamente decodificavel: \", code1.is_uniquely_decodable())\n",
    "print(\"codigo 2 Unicamente decodificavel: \", code2.is_uniquely_decodable())\n",
    "print(\"codigo 3 Unicamente decodificavel: \", code3.is_uniquely_decodable())\n",
    "print(\"codigo 4 Unicamente decodificavel: \", code4.is_uniquely_decodable())\n",
    "\n",
    "print(\"codigo 1 Prefix Free: \", code1.is_prefix_free())\n",
    "print(\"codigo 2 Prefix Free: \", code2.is_prefix_free())\n",
    "print(\"codigo 3 Prefix Free: \", code3.is_prefix_free())\n",
    "print(\"codigo 4 Prefix Free: \", code4.is_prefix_free())\n"
   ]
  },
  {
   "cell_type": "code",
   "execution_count": 22,
   "metadata": {},
   "outputs": [
    {
     "name": "stdout",
     "output_type": "stream",
     "text": [
      "codigo 1:  [0 1 0 0 0 1 0 0 1 0 0 0]\n",
      "codigo 2:  [0 1 1 0 1 1 0 0 0 1]\n",
      "codigo 3:  [0 1 0 0 1 0 0 1 1 0]\n",
      "codigo 4:  [1 0 1 0 0 0 0]\n",
      "Decodificando codigo 1:  [1 0 1 0 2 0]\n",
      "Decodificando codigo 2:  [1 0 1 0 2 0]\n",
      "Decodificando codigo 3:  code is not prefix-free\n",
      "Decodificando codigo 4:  code is not prefix-free\n"
     ]
    }
   ],
   "source": [
    "palavra = [1,0,1,0,2,0]\n",
    "\n",
    "bits1 = code1.encode(palavra)\n",
    "bits2 = code2.encode(palavra)\n",
    "bits3 = code3.encode(palavra)\n",
    "bits4 = code4.encode(palavra)\n",
    "\n",
    "print(\"codigo 1: \", bits1)\n",
    "print(\"codigo 2: \", bits2)\n",
    "print(\"codigo 3: \", bits3)\n",
    "print(\"codigo 4: \", bits4)\n",
    "\n",
    "try: \n",
    "    print(\"Decodificando codigo 1: \", code1.decode(bits1))\n",
    "except Exception as e:\n",
    "    print(\"Decodificando codigo 1: \", e)\n",
    "\n",
    "try:\n",
    "    print(\"Decodificando codigo 2: \", code2.decode(bits2))\n",
    "except Exception as e:\n",
    "    print(\"Decodificando codigo 2: \", e)\n",
    "\n",
    "try:\n",
    "    print(\"Decodificando codigo 3: \", code3.decode(bits3))\n",
    "except Exception as e:\n",
    "    print(\"Decodificando codigo 3: \", e)\n",
    "\n",
    "try:\n",
    "    print(\"Decodificando codigo 4: \", code4.decode(bits4))\n",
    "except Exception as e:\n",
    "    print(\"Decodificando codigo 4: \", e)\n"
   ]
  },
  {
   "cell_type": "code",
   "execution_count": 26,
   "metadata": {},
   "outputs": [
    {
     "name": "stdout",
     "output_type": "stream",
     "text": [
      "codigo 1:  2.0 bits/simbolo\n",
      "codigo 2:  1.75 bits/simbolo\n",
      "codigo 3:  1.875 bits/simbolo\n",
      "codigo 4:  1.25 bits/simbolo\n"
     ]
    }
   ],
   "source": [
    "\n",
    "print(\"codigo 1: \", code1.rate(pmf=pmf), \"bits/simbolo\")\n",
    "print(\"codigo 2: \", code2.rate(pmf=pmf), \"bits/simbolo\")\n",
    "print(\"codigo 3: \", code3.rate(pmf=pmf), \"bits/simbolo\")\n",
    "print(\"codigo 4: \", code4.rate(pmf=pmf), \"bits/simbolo\")\n"
   ]
  },
  {
   "cell_type": "code",
   "execution_count": 82,
   "metadata": {},
   "outputs": [
    {
     "name": "stdout",
     "output_type": "stream",
     "text": [
      "codigo 1:  20000 bits\n",
      "codigo 2:  17531 bits\n",
      "codigo 3:  18788 bits\n",
      "codigo 4:  12525 bits\n"
     ]
    },
    {
     "data": {
      "text/plain": [
       "np.float64(1.75)"
      ]
     },
     "execution_count": 82,
     "metadata": {},
     "output_type": "execute_result"
    }
   ],
   "source": [
    "# Gera uma fonte de palavra aleatória usando a pmf para gerar as palavras.\n",
    "\n",
    "dms = komm.DiscreteMemorylessSource(pmf)\n",
    "texto = dms(10000)\n",
    "\n",
    "bits1 = code1.encode(texto)\n",
    "bits2 = code2.encode(texto)\n",
    "bits3 = code3.encode(texto)\n",
    "bits4 = code4.encode(texto)\n",
    "\n",
    "print(\"codigo 1: \", len(bits1), \"bits\")\n",
    "print(\"codigo 2: \", len(bits2), \"bits\")\n",
    "print(\"codigo 3: \", len(bits3), \"bits\")\n",
    "print(\"codigo 4: \", len(bits4), \"bits\")\n",
    "\n",
    "# Calcula a entropia da fonte\n",
    "dms.entropy()"
   ]
  },
  {
   "cell_type": "code",
   "execution_count": 81,
   "metadata": {},
   "outputs": [
    {
     "data": {
      "text/plain": [
       "np.float64(1.75)"
      ]
     },
     "execution_count": 81,
     "metadata": {},
     "output_type": "execute_result"
    }
   ],
   "source": []
  }
 ],
 "metadata": {
  "kernelspec": {
   "display_name": ".venv",
   "language": "python",
   "name": "python3"
  },
  "language_info": {
   "codemirror_mode": {
    "name": "ipython",
    "version": 3
   },
   "file_extension": ".py",
   "mimetype": "text/x-python",
   "name": "python",
   "nbconvert_exporter": "python",
   "pygments_lexer": "ipython3",
   "version": "3.12.3"
  }
 },
 "nbformat": 4,
 "nbformat_minor": 2
}
