{
 "cells": [
  {
   "cell_type": "code",
   "execution_count": null,
   "metadata": {},
   "outputs": [],
   "source": [
    "# Read a txt archive \"alice.txt\" and count the number of different letters in it, then print the result, as an array of tuples (alphabetical order) with the letter and the number of occurrences of it in the text."
   ]
  },
  {
   "cell_type": "code",
   "execution_count": null,
   "metadata": {},
   "outputs": [
    {
     "name": "stdout",
     "output_type": "stream",
     "text": [
      "[('A', 670), ('B', 118), ('C', 181), ('D', 206), ('E', 193), ('F', 123), ('G', 182), ('H', 245), ('I', 784), ('J', 13), ('K', 81), ('L', 111), ('M', 196), ('N', 136), ('O', 146), ('P', 180), ('Q', 84), ('R', 165), ('S', 229), ('T', 482), ('U', 70), ('V', 26), ('W', 226), ('X', 10), ('Y', 100), ('Z', 1), ('a', 9167), ('b', 1635), ('c', 2846), ('d', 5272), ('e', 15287), ('f', 2255), ('g', 2768), ('h', 7677), ('i', 7856), ('j', 223), ('k', 1217), ('l', 5102), ('m', 2210), ('n', 7935), ('o', 9372), ('p', 1795), ('q', 139), ('r', 6491), ('s', 7041), ('t', 11740), ('u', 3921), ('v', 943), ('w', 2745), ('x', 170), ('y', 2503), ('z', 78), ('ù', 1)]\n"
     ]
    }
   ],
   "source": [
    "# Open the file\n",
    "with open(\"alice.txt\", \"r\") as file:\n",
    "    # Read the file\n",
    "    text = file.read()\n",
    "    # Create a dictionary to store the letters and their occurrences\n",
    "    letters = {}\n",
    "    # Iterate over the text\n",
    "    for letter in text:\n",
    "        # Check if the letter is a letter\n",
    "        if letter.isalpha():\n",
    "            # Check if the letter is in the dictionary\n",
    "            if letter in letters:\n",
    "                # Increment the value of the letter\n",
    "                letters[letter] += 1\n",
    "            else:\n",
    "                # Add the letter to the dictionary\n",
    "                letters[letter] = 1\n",
    "    # Sort the dictionary by the keys\n",
    "    sorted_letters = sorted(letters.items())\n",
    "    # Print the result sorted by the number of occurrences\n",
    "    for letter, occurrences in sorted(sorted_letters, key=lambda x: x[1], reverse=True):\n",
    "        print(f\"{letter}: {occurrences}\")\n",
    "\n",
    "    "
   ]
  }
 ],
 "metadata": {
  "kernelspec": {
   "display_name": ".venv",
   "language": "python",
   "name": "python3"
  },
  "language_info": {
   "codemirror_mode": {
    "name": "ipython",
    "version": 3
   },
   "file_extension": ".py",
   "mimetype": "text/x-python",
   "name": "python",
   "nbconvert_exporter": "python",
   "pygments_lexer": "ipython3",
   "version": "3.12.3"
  }
 },
 "nbformat": 4,
 "nbformat_minor": 2
}
