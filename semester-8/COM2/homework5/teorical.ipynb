{
 "cells": [
  {
   "cell_type": "code",
   "execution_count": 2,
   "metadata": {},
   "outputs": [],
   "source": [
    "import komm\n",
    "import math\n",
    "import itertools"
   ]
  },
  {
   "cell_type": "code",
   "execution_count": 3,
   "metadata": {},
   "outputs": [
    {
     "name": "stdout",
     "output_type": "stream",
     "text": [
      "Numero de simbolos: 2\n",
      "Entropia da fonte: 1.2955 bits/símbolo\n"
     ]
    }
   ],
   "source": [
    "pmf = [3/10, 6/10, 1/10]\n",
    "\n",
    "BFR = math.ceil(math.log2(len(pmf)))\n",
    "\n",
    "print(f\"Numero de simbolos: {BFR}\")\n",
    "\n",
    "entropy = -sum(p * math.log2(p) for p in pmf)\n",
    "\n",
    "print(f\"Entropia da fonte: {entropy:.4f} bits/símbolo\")"
   ]
  },
  {
   "cell_type": "code",
   "execution_count": 9,
   "metadata": {},
   "outputs": [
    {
     "name": "stdout",
     "output_type": "stream",
     "text": [
      "Unicamente decodificavel:  True\n",
      "Prefixo Livre: True\n",
      "Huffman Rate:  1.4\n",
      "Huffman Codewords:  [(1, 0), (0,), (1, 1)]\n",
      "Compress Ratio:  0.6000000000000001\n"
     ]
    }
   ],
   "source": [
    "code = komm.FixedToVariableCode.from_codewords(3, [(1,0), (0,), (1,1)])\n",
    "\n",
    "print(\"Unicamente decodificavel: \", code.is_uniquely_decodable())\n",
    "print(\"Prefixo Livre:\", code.is_prefix_free())\n",
    "print(\"Huffman Rate: \", code.rate(pmf))\n",
    "print(\"Huffman Codewords: \", code.codewords)\n",
    "\n",
    "# Calculate the compress ratio\n",
    "print(\"Compress Ratio: \", BFR - code.rate(pmf))"
   ]
  },
  {
   "cell_type": "code",
   "execution_count": 5,
   "metadata": {},
   "outputs": [
    {
     "name": "stdout",
     "output_type": "stream",
     "text": [
      "Tabela de PMF de segunda ordem:\n",
      "p(0, 0) = 0.0900\n",
      "p(0, 1) = 0.1800\n",
      "p(0, 2) = 0.0300\n",
      "p(1, 0) = 0.1800\n",
      "p(1, 1) = 0.3600\n",
      "p(1, 2) = 0.0600\n",
      "p(2, 0) = 0.0300\n",
      "p(2, 1) = 0.0600\n",
      "p(2, 2) = 0.0100\n",
      "\n",
      "\n",
      "Entropia de segunda ordem: 2.5909 bits por par de símbolos\n",
      "Entropia média por símbolo (segunda ordem): 1.2955 bits/símbolo\n"
     ]
    }
   ],
   "source": [
    "# Generate the PMF of the second order\n",
    "pmf_2nd = [p1 * p2 \n",
    "          for p1, p2 in itertools.product(pmf, repeat=2)]\n",
    "\n",
    "BFR_2nd = math.ceil(math.log2(len(pmf_2nd)))\n",
    "\n",
    "# Print the PMF of the second order\n",
    "print(\"Tabela de PMF de segunda ordem:\")\n",
    "for i, p in enumerate(pmf_2nd):\n",
    "    print(f\"p({i//3}, {i%3}) = {p:.4f}\")\n",
    "print(\"\\n\")\n",
    "\n",
    "# Calculate the entropy of the second order\n",
    "entropy_2nd = -sum(p * math.log2(p) for p in pmf_2nd if p > 0)\n",
    "print(f\"Entropia de segunda ordem: {entropy_2nd:.4f} bits por par de símbolos\")\n",
    "\n",
    "# Calculate the average entropy per symbol\n",
    "entropy_per_symbol = entropy_2nd / 2\n",
    "print(f\"Entropia média por símbolo (segunda ordem): {entropy_per_symbol:.4f} bits/símbolo\")"
   ]
  },
  {
   "cell_type": "code",
   "execution_count": 6,
   "metadata": {},
   "outputs": [
    {
     "name": "stdout",
     "output_type": "stream",
     "text": [
      "Huffman Ratio:  2.6699999999999995\n",
      "Huffman Code:  [(0, 1, 0, 0), (1, 1), (0, 1, 0, 1, 0, 0), (1, 0), (0, 0), (0, 1, 1, 1), (0, 1, 0, 1, 1), (0, 1, 1, 0), (0, 1, 0, 1, 0, 1)]\n",
      "Compress Ratio:  1.3300000000000005\n"
     ]
    }
   ],
   "source": [
    "huff = komm.HuffmanCode(pmf_2nd)\n",
    "\n",
    "print(\"Huffman Ratio: \", huff.rate(pmf_2nd))\n",
    "print(\"Huffman Code: \", huff.codewords)\n",
    "\n",
    "# Calculate the compress ratio\n",
    "print(\"Compress Ratio: \", BFR_2nd - huff.rate(pmf_2nd))"
   ]
  }
 ],
 "metadata": {
  "kernelspec": {
   "display_name": ".venv",
   "language": "python",
   "name": "python3"
  },
  "language_info": {
   "codemirror_mode": {
    "name": "ipython",
    "version": 3
   },
   "file_extension": ".py",
   "mimetype": "text/x-python",
   "name": "python",
   "nbconvert_exporter": "python",
   "pygments_lexer": "ipython3",
   "version": "3.12.3"
  }
 },
 "nbformat": 4,
 "nbformat_minor": 2
}
