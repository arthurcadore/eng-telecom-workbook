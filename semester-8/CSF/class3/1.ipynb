{
 "cells": [
  {
   "cell_type": "markdown",
   "metadata": {},
   "source": [
    "CLASS 3 "
   ]
  },
  {
   "cell_type": "code",
   "execution_count": 2,
   "metadata": {},
   "outputs": [],
   "source": [
    "from sympy import init_printing, Matrix\n",
    "from sympy import symbols, summation, diff, solve\n",
    "import numpy as np\n",
    "import komm"
   ]
  },
  {
   "cell_type": "markdown",
   "metadata": {},
   "source": [
    "Calculo da Equação Polinomial de \"n\":"
   ]
  },
  {
   "cell_type": "code",
   "execution_count": 6,
   "metadata": {},
   "outputs": [
    {
     "data": {
      "text/latex": [
       "$\\displaystyle 325.09 n^{2} - 3097.0 n + 7553.0$"
      ],
      "text/plain": [
       "325.09*n**2 - 3097.0*n + 7553.0"
      ]
     },
     "execution_count": 6,
     "metadata": {},
     "output_type": "execute_result"
    }
   ],
   "source": [
    "# Definir a variável simbólica\n",
    "n = symbols('n')\n",
    "\n",
    "# Arrays com os valores\n",
    "p = np.array([0, -22, -38, -75])  \n",
    "e = np.array([0*n, -3*n, -10*n, -14.7*n])  # 'e' depende de 'n'\n",
    "\n",
    "# Inicializar a expressão para J(n)\n",
    "J_n = 0\n",
    "\n",
    "# Calcular a soma (p_i - e_i)^2 para cada valor nos arrays\n",
    "for i in range(len(p)):\n",
    "    J_n += (p[i] - e[i])**2\n",
    "\n",
    "# Exibir o resultado simplificado\n",
    "J_n_simplificado = J_n.simplify()\n",
    "J_n_simplificado\n"
   ]
  },
  {
   "cell_type": "markdown",
   "metadata": {},
   "source": [
    "Calculo da derivada de \"n\""
   ]
  },
  {
   "cell_type": "code",
   "execution_count": 18,
   "metadata": {},
   "outputs": [
    {
     "name": "stdout",
     "output_type": "stream",
     "text": [
      "Valor de (n):  [4.76329631794272] \n",
      "\n"
     ]
    }
   ],
   "source": [
    "# Calcular a primeira derivada de J(n)\n",
    "derivada = diff(J_n, n)\n",
    "\n",
    "# Resolver a equação J'(n) = 0 para encontrar os valores críticos\n",
    "valores_n = solve(derivada, n)\n",
    "\n",
    "# Exibir a derivada e os valores de n encontrados\n",
    "J_n_derivada_simplificada = derivada.simplify()\n",
    "\n",
    "print(\"Valor de (n): \", valores_n, \"\\n\") \n"
   ]
  }
 ],
 "metadata": {
  "kernelspec": {
   "display_name": "Python 3",
   "language": "python",
   "name": "python3"
  },
  "language_info": {
   "codemirror_mode": {
    "name": "ipython",
    "version": 3
   },
   "file_extension": ".py",
   "mimetype": "text/x-python",
   "name": "python",
   "nbconvert_exporter": "python",
   "pygments_lexer": "ipython3",
   "version": "3.10.12"
  }
 },
 "nbformat": 4,
 "nbformat_minor": 2
}
