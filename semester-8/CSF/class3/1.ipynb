{
 "cells": [
  {
   "cell_type": "markdown",
   "metadata": {},
   "source": [
    "CLASS 3 "
   ]
  },
  {
   "cell_type": "code",
   "execution_count": 2,
   "metadata": {},
   "outputs": [],
   "source": [
    "from sympy import init_printing, Matrix\n",
    "import numpy as np\n",
    "import komm"
   ]
  },
  {
   "cell_type": "code",
   "execution_count": 4,
   "metadata": {},
   "outputs": [
    {
     "name": "stdout",
     "output_type": "stream",
     "text": [
      "O valor de J(n) é: 4781.09\n"
     ]
    }
   ],
   "source": [
    "# Definir os arrays de p (valores previstos) e e (valores reais)\n",
    "p = np.array([0, -22, -38, -75])  # Substitua pelos seus valores de p\n",
    "e = np.array([0, -3, -10, -14.7])  # Substitua pelos seus valores de e\n",
    "\n",
    "# Calcular J(n) = sum((p_i - e_i)^2)\n",
    "J_n = np.sum((p - e)**2)\n",
    "\n",
    "# Mostrar o resultado\n",
    "print(f'O valor de J(n) é: {J_n}')"
   ]
  },
  {
   "cell_type": "code",
   "execution_count": 5,
   "metadata": {},
   "outputs": [
    {
     "name": "stdout",
     "output_type": "stream",
     "text": [
      "19124.3600000000\n"
     ]
    }
   ],
   "source": [
    "import sympy as sp\n",
    "\n",
    "# Definir variáveis simbólicas\n",
    "p1, p2, p3, p4 = sp.symbols('p1 p2 p3 p4')\n",
    "e1, e2, e3, e4 = sp.symbols('e1 e2 e3 e4')\n",
    "\n",
    "# Definir os arrays de p (valores previstos) e e (valores reais)\n",
    "p = sp.Matrix([p1, p2, p3, p4])\n",
    "e = sp.Matrix([e1, e2, e3, e4])\n",
    "\n",
    "# Calcular J(n) = sum((p_i - e_i)^2)\n",
    "J_n = sp.summation((p - e).dot(p - e))\n",
    "\n",
    "# Mostrar o polinômio resultante\n",
    "sp.pprint(J_n)\n"
   ]
  }
 ],
 "metadata": {
  "kernelspec": {
   "display_name": "Python 3",
   "language": "python",
   "name": "python3"
  },
  "language_info": {
   "codemirror_mode": {
    "name": "ipython",
    "version": 3
   },
   "file_extension": ".py",
   "mimetype": "text/x-python",
   "name": "python",
   "nbconvert_exporter": "python",
   "pygments_lexer": "ipython3",
   "version": "3.10.12"
  }
 },
 "nbformat": 4,
 "nbformat_minor": 2
}
