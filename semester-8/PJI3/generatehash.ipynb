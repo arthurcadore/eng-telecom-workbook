{
 "cells": [
  {
   "cell_type": "code",
   "execution_count": 7,
   "metadata": {},
   "outputs": [
    {
     "name": "stdout",
     "output_type": "stream",
     "text": [
      "Senha digitada: connectorpass\n",
      "Hash gerado: PBKDF2$sha256$10000$OKMrtRlbBmITT+eY$gYWnNI42ymiCbZsG8Lbsj0QXWVkWcxQE\n"
     ]
    }
   ],
   "source": [
    "import hashlib\n",
    "from os import urandom\n",
    "from base64 import b64encode, b64decode\n",
    "from itertools import zip_longest\n",
    "\n",
    "# Parameters to PBKDF2. Only affect new passwords.\n",
    "SALT_LENGTH = 12\n",
    "KEY_LENGTH = 24\n",
    "HASH_FUNCTION = 'sha256'  # Must be in hashlib.\n",
    "COST_FACTOR = 10000\n",
    "\n",
    "def pbkdf2_bin(password, salt, iterations, dklen, hash_func):\n",
    "    \"\"\"PBKDF2 using hashlib directly\"\"\"\n",
    "    return hashlib.pbkdf2_hmac(hash_func, password, salt.encode(), iterations, dklen)\n",
    "\n",
    "def make_hash(password):\n",
    "    \"\"\"Generate a random salt and return a new hash for the password.\"\"\"\n",
    "    if isinstance(password, str):  # Python 3 uses 'str' for Unicode text\n",
    "        password = password.encode('utf-8')\n",
    "    salt = b64encode(urandom(SALT_LENGTH)).decode('utf-8')\n",
    "    hash_bytes = pbkdf2_bin(password, salt, COST_FACTOR, KEY_LENGTH, HASH_FUNCTION)\n",
    "    return 'PBKDF2${}${}${}${}'.format(\n",
    "        HASH_FUNCTION,\n",
    "        COST_FACTOR,\n",
    "        salt,\n",
    "        b64encode(hash_bytes).decode('utf-8'))\n",
    "\n",
    "def check_hash(password, hash_):\n",
    "    \"\"\"Check a password against an existing hash.\"\"\"\n",
    "    if isinstance(password, str):  # Python 3 uses 'str' for Unicode text\n",
    "        password = password.encode('utf-8')\n",
    "    algorithm, hash_function, cost_factor, salt, hash_a = hash_.split('$')\n",
    "    assert algorithm == 'PBKDF2'\n",
    "    hash_a = b64decode(hash_a)\n",
    "    hash_b = pbkdf2_bin(password, salt, int(cost_factor), len(hash_a), hash_function)\n",
    "    \n",
    "    # Constant time comparison\n",
    "    diff = 0\n",
    "    for char_a, char_b in zip_longest(hash_a, hash_b):\n",
    "        diff |= ord(char_a) ^ ord(char_b)\n",
    "    return diff == 0\n",
    "\n",
    "# hash_generator.py\n",
    "\n",
    "# Código do hash_generator já fornecido acima...\n",
    "\n",
    "if __name__ == \"__main__\":\n",
    "    password = input(\"Digite a senha para gerar o hash: \")\n",
    "    print(f\"Senha digitada: {password}\")\n",
    "    hash_gerado = make_hash(password)\n",
    "    print(f\"Hash gerado: {hash_gerado}\")\n"
   ]
  },
  {
   "cell_type": "markdown",
   "metadata": {},
   "source": [
    "Senha digitada: teste\n",
    "Hash gerado: PBKDF2$sha256$10000$WeleOC9X8YQFpSO/$rQ2n4Zt6mdneOcSvFf0Nrnfv2iGqVKid"
   ]
  },
  {
   "cell_type": "markdown",
   "metadata": {},
   "source": [
    "Senha digitada: connectorpass\n",
    "Hash gerado: PBKDF2$sha256$10000$OKMrtRlbBmITT+eY$gYWnNI42ymiCbZsG8Lbsj0QXWVkWcxQE"
   ]
  }
 ],
 "metadata": {
  "kernelspec": {
   "display_name": "venv",
   "language": "python",
   "name": "python3"
  },
  "language_info": {
   "codemirror_mode": {
    "name": "ipython",
    "version": 3
   },
   "file_extension": ".py",
   "mimetype": "text/x-python",
   "name": "python",
   "nbconvert_exporter": "python",
   "pygments_lexer": "ipython3",
   "version": "3.12.3"
  }
 },
 "nbformat": 4,
 "nbformat_minor": 2
}
