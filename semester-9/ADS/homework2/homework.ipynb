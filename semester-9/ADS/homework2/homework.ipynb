{
 "cells": [
  {
   "cell_type": "code",
   "execution_count": 167,
   "id": "edca95f2",
   "metadata": {},
   "outputs": [],
   "source": [
    "import os\n",
    "import subprocess\n",
    "import time\n",
    "import re\n",
    "\n",
    "import matplotlib.pyplot as plt"
   ]
  },
  {
   "cell_type": "code",
   "execution_count": null,
   "id": "fca81ba0",
   "metadata": {},
   "outputs": [],
   "source": [
    "# comando: tcpdump -n -tt -v -l | grep -oP 'length \\K\\d+'"
   ]
  },
  {
   "cell_type": "code",
   "execution_count": null,
   "id": "2944990d",
   "metadata": {},
   "outputs": [],
   "source": [
    "# Environment variables\n",
    "topology_file=\"scenario.imn\"\n",
    "bandwidth=\"100000000\"\n",
    "scenario_id=\"i2006\"\n",
    "delay=\"10000\"\n",
    "fluxes=\"1\"\n",
    "\n",
    "# Define the topology\n",
    "links = [\n",
    "    \"router1:pc1\",\n",
    "    \"router1:pc3\",\n",
    "    \"router2:pc2\",\n",
    "    \"router2:pc4\",\n",
    "    \"router2:router1\"\n",
    "]"
   ]
  },
  {
   "cell_type": "code",
   "execution_count": 170,
   "id": "3e5f3a58",
   "metadata": {},
   "outputs": [],
   "source": [
    "def run_iperf_and_capture_data(client_pc, server_ip, scenario_id, size=\"100M\", parallel=\"1\", interval=\"1\"):\n",
    "    cmd = [\n",
    "        \"sudo\", \"himage\", f\"{client_pc}@{scenario_id}\",\n",
    "        \"iperf\", \"-c\", server_ip, \"-n\", size, \"-P\", parallel, \"-i\", interval\n",
    "    ]\n",
    "\n",
    "    print(f\"Running TCP test from {client_pc} to {server_ip}...\")\n",
    "\n",
    "    process = subprocess.run(cmd, capture_output=True, text=True)\n",
    "    output = process.stdout\n",
    "\n",
    "    pattern = re.compile(r\"\\[\\s*\\d+\\]\\s+([\\d.]+)-([\\d.]+)\\s+sec\\s+([\\d.]+)\\s+MBytes\\s+([\\d.]+)\\s+Mbits/sec\")\n",
    "    results = pattern.findall(output)\n",
    "\n",
    "    if results:\n",
    "        # Remove o último item se for um resumo (intervalo total)\n",
    "        if results and results[-1][0] == \"0.0000\":\n",
    "            results = results[:-1]\n",
    "\n",
    "        time_points = []\n",
    "        transfers = []\n",
    "        bandwidths = []\n",
    "\n",
    "        for start, end, transfer, bandwidth in results:\n",
    "            time_points.append(float(end))\n",
    "            transfers.append(float(transfer))\n",
    "            bandwidths.append(float(bandwidth))\n",
    "\n",
    "        return time_points, transfers, bandwidths\n",
    "    else:\n",
    "        print(\"Nenhum resultado encontrado na saída do iperf.\")\n",
    "        print(\"Saída bruta:\")\n",
    "        print(output)\n",
    "        return [], [], []"
   ]
  },
  {
   "cell_type": "code",
   "execution_count": 172,
   "id": "3148f645",
   "metadata": {},
   "outputs": [],
   "source": [
    "# link configuration\n",
    "def configure_links(bandwidth, delay, loss, scenario_id):\n",
    "    for link in links:\n",
    "        subprocess.run(\n",
    "            [\"sudo\", \"vlink\", \"-bw\", bandwidth, \"-dly\", delay, f\"{link}@{scenario_id}\"],\n",
    "            stdout=subprocess.DEVNULL\n",
    "        )\n",
    "\n",
    "    time.sleep(1)\n",
    "\n",
    "    # Check status\n",
    "    for link in links:\n",
    "        subprocess.run(\n",
    "            [\"sudo\", \"vlink\", \"-s\", f\"{link}@{scenario_id}\"]\n",
    "        )"
   ]
  },
  {
   "cell_type": "code",
   "execution_count": 173,
   "id": "d92cbc96",
   "metadata": {},
   "outputs": [],
   "source": [
    "# Configure computers...\n",
    "\n",
    "def configure_computers(scenario_id):\n",
    "    # Start iperf servers\n",
    "    subprocess.Popen(\n",
    "        [\"sudo\", \"himage\", f\"pc2@{scenario_id}\", \"iperf\", \"-s\"],\n",
    "        stdout=subprocess.DEVNULL, stderr=subprocess.DEVNULL\n",
    "    )\n",
    "    subprocess.Popen(\n",
    "        [\"sudo\", \"himage\", f\"pc4@{scenario_id}\", \"iperf\", \"-s\"],\n",
    "        stdout=subprocess.DEVNULL, stderr=subprocess.DEVNULL\n",
    "    )\n",
    "\n",
    "    # Background UDP traffic\n",
    "    subprocess.Popen(\n",
    "        [\"sudo\", \"himage\", f\"pc1@{scenario_id}\", \"iperf\", \"-c\", \"10.0.3.20\", \"-u\", \"-t\", \"100000\", \"-b\", \"10M\"],\n",
    "        stdout=subprocess.DEVNULL, stderr=subprocess.DEVNULL\n",
    "    )\n",
    "    "
   ]
  },
  {
   "cell_type": "code",
   "execution_count": 174,
   "id": "3053c3fc",
   "metadata": {},
   "outputs": [],
   "source": [
    "def starts_simulation(scenario_id):\n",
    "    subprocess.run(\n",
    "        [\"sudo\", \"imunes\", \"-b\", \"-e\", scenario_id, topology_file],\n",
    "        stdout=subprocess.DEVNULL\n",
    "    )\n",
    "\n",
    "def stop_simulation(scenario_id):\n",
    "    subprocess.run(\n",
    "        [\"sudo\", \"imunes\", \"-b\", \"-e\", scenario_id], \n",
    "        stdout=subprocess.DEVNULL\n",
    "    )\n",
    "    "
   ]
  },
  {
   "cell_type": "code",
   "execution_count": 175,
   "id": "d17705e8",
   "metadata": {},
   "outputs": [],
   "source": [
    "def run_imunes_simulation(\n",
    "    topology_file=\"scenario.imn\",\n",
    "    bandwidth=\"100000000\",\n",
    "    scenario_id=\"i2002\",\n",
    "    delay=\"10000\",\n",
    "    fluxes=\"1\"\n",
    "):\n",
    "    # Start simulation\n",
    "    print(\"=\" * 56)\n",
    "    print(f\"Starting IMUNES simulation with scenario ID: {scenario_id}\")\n",
    "    starts_simulation(scenario_id)\n",
    "    time.sleep(1)\n",
    "\n",
    "    # Configure links\n",
    "    print(\"=\" * 56)\n",
    "    print(\"Simulation started, configuring links...\")\n",
    "    configure_links(bandwidth, delay, 0, scenario_id)\n",
    "    time.sleep(1)\n",
    "\n",
    "    # Configure computers\n",
    "    print(\"=\" * 56)\n",
    "    print(\"Configuring computers...\")\n",
    "    configure_computers(scenario_id)\n",
    "    time.sleep(1)\n",
    "\n",
    "    # Run iperf tests\n",
    "    print(\"=\" * 56)\n",
    "    time_pts, transfers, bandwidths = run_iperf_and_capture_data(client_pc=\"pc3\",server_ip=\"10.0.4.20\",scenario_id=scenario_id,)\n",
    "\n",
    "    # Stop simulation\n",
    "    print(\"=\" * 56)\n",
    "    print(f\"Stopping IMUNES simulation with scenario ID: {scenario_id}\")\n",
    "    stop_simulation(scenario_id)\n",
    "    print(\"Simulation stopped\")\n",
    "\n",
    "    return time_pts, transfers, bandwidths\n",
    "\n"
   ]
  },
  {
   "cell_type": "code",
   "execution_count": null,
   "id": "838938b5",
   "metadata": {},
   "outputs": [],
   "source": [
    "time_pts, transfers, bandwidths = run_imunes_simulation(\n",
    "    topology_file=topology_file,\n",
    "    bandwidth=bandwidth,\n",
    "    scenario_id=scenario_id,\n",
    "    delay=delay,\n",
    "    fluxes=fluxes\n",
    ")"
   ]
  },
  {
   "cell_type": "code",
   "execution_count": 171,
   "id": "d58ea8be",
   "metadata": {},
   "outputs": [],
   "source": [
    "\n",
    "def plot_iperf_graph(time_points, transfers, bandwidths, title=\"Bandwidth Over Time\"):\n",
    "    if not time_points or not bandwidths:\n",
    "        print(\"Vetores vazios, nada a plotar.\")\n",
    "        return\n",
    "\n",
    "    plt.figure(figsize=(10, 5))\n",
    "    plt.plot(time_points, bandwidths, marker='o', linestyle='-', color='blue')\n",
    "    plt.plot(time_points, transfers, marker='x', linestyle='--', color='red')\n",
    "    plt.title(title)\n",
    "    plt.xlabel(\"Tempo (s)\")\n",
    "    plt.ylabel(\"Largura de Banda (Mbps)\")\n",
    "    plt.grid(True)\n",
    "    plt.tight_layout()\n",
    "    plt.show()\n"
   ]
  },
  {
   "cell_type": "code",
   "execution_count": null,
   "id": "66a5c4b4",
   "metadata": {},
   "outputs": [
    {
     "name": "stdout",
     "output_type": "stream",
     "text": [
      "========================================================\n",
      "Starting IMUNES simulation with scenario ID: i2006\n"
     ]
    },
    {
     "name": "stderr",
     "output_type": "stream",
     "text": [
      "Experiment ID i2006 already in use, trying i22f.\n",
      "\n"
     ]
    },
    {
     "name": "stdout",
     "output_type": "stream",
     "text": [
      "========================================================\n",
      "Simulation started, configuring links...\n",
      "pc1:router1@i2006:\n",
      "\tbandwidth 100Mbps\n",
      "\tdelay 10ms\n",
      "pc3:router1@i2006:\n",
      "\tbandwidth 100Mbps\n",
      "\tdelay 10ms\n",
      "router2:pc2@i2006:\n",
      "\tbandwidth 100Mbps\n",
      "\tdelay 10ms\n",
      "router2:pc4@i2006:\n",
      "\tbandwidth 100Mbps\n",
      "\tdelay 10ms\n",
      "router1:router2@i2006:\n",
      "\tbandwidth 100Mbps\n",
      "\tdelay 10ms\n",
      "========================================================\n",
      "Configuring computers...\n",
      "========================================================\n",
      "Running TCP test from pc3 to 10.0.4.20...\n",
      "========================================================\n",
      "Stopping IMUNES simulation with scenario ID: i2006\n",
      "Simulation stopped\n"
     ]
    },
    {
     "name": "stderr",
     "output_type": "stream",
     "text": [
      "couldn't open \"/var/run/imunes/i2006/runningVars\": no such file or directory\n",
      "    while executing\n",
      "\"open $runtimeDir/$eid/runningVars r\"\n",
      "    (procedure \"readRunningVarsFile\" line 8)\n",
      "    invoked from within\n",
      "\"readRunningVarsFile $eid_base\"\n",
      "    invoked from within\n",
      "\"if { $execMode == \"interactive\" } {\n",
      "    safePackageRequire Tk \"To run the IMUNES GUI, Tk must be installed.\"\n",
      "\n",
      "    foreach file \"canvas copypaste drawi...\"\n",
      "    (file \"/usr/local/lib/imunes/imunes.tcl\" line 294)\n"
     ]
    },
    {
     "data": {
      "image/png": "[encoded data removed]",
      "text/plain": [
       "<Figure size 1000x500 with 1 Axes>"
      ]
     },
     "metadata": {},
     "output_type": "display_data"
    }
   ],
   "source": [
    "plot_iperf_graph(time_pts, transfers, bandwidths, title=\"PC3 → PC4\")\n"
   ]
  }
 ],
 "metadata": {
  "kernelspec": {
   "display_name": "Python 3",
   "language": "python",
   "name": "python3"
  },
  "language_info": {
   "codemirror_mode": {
    "name": "ipython",
    "version": 3
   },
   "file_extension": ".py",
   "mimetype": "text/x-python",
   "name": "python",
   "nbconvert_exporter": "python",
   "pygments_lexer": "ipython3",
   "version": "3.12.3"
  }
 },
 "nbformat": 4,
 "nbformat_minor": 5
}
