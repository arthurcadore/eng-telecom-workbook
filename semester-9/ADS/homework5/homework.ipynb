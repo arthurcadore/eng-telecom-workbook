{
 "cells": [
  {
   "cell_type": "code",
   "execution_count": 4,
   "id": "7ea5b25d",
   "metadata": {},
   "outputs": [
    {
     "name": "stdout",
     "output_type": "stream",
     "text": [
      "Expected number of requests in the system: 3.00\n",
      "Expected response time: 3.00 minutes\n",
      "Average time in the system: 3.00 minutes\n",
      "Utilization: 0.75\n"
     ]
    }
   ],
   "source": [
    "lambda_req = 1 # req/min\n",
    "\n",
    "micro = 1/(45/60) # 45 seconds from 60 seconds\n",
    "\n",
    "E_N = lambda_req / (micro - lambda_req) \n",
    "\n",
    "print(f\"Expected number of requests in the system: {E_N:.2f}\")\n",
    "\n",
    "\n",
    "E_R = 1/ (micro - lambda_req)\n",
    "\n",
    "print(f\"Expected response time: {E_R:.2f} minutes\")\n",
    "\n",
    "temp_medio = E_N / lambda_req\n",
    "\n",
    "print(f\"Average time in the system: {temp_medio:.2f} minutes\")\n",
    "\n",
    "c = 1\n",
    "\n",
    "U = lambda_req / (c * micro)\n",
    "\n",
    "print(f\"Utilization: {U:.2f}\")"
   ]
  },
  {
   "cell_type": "code",
   "execution_count": 5,
   "id": "d5c5e4d0",
   "metadata": {},
   "outputs": [
    {
     "name": "stdout",
     "output_type": "stream",
     "text": [
      "rho = 0.7143\n",
      "P0 = 0.0464\n"
     ]
    }
   ],
   "source": [
    "import math\n",
    "\n",
    "# Parâmetros do sistema\n",
    "lambd = 100          # taxa de chegada (λ)\n",
    "mu = 35              # taxa de serviço por servidor (μ)\n",
    "c = 4                # número de servidores\n",
    "\n",
    "rho = lambd / (c * mu)\n",
    "a = c * rho  # tráfego total (λ/μ)\n",
    "\n",
    "# Soma dos termos de 0 a c-1: (a^n)/n!\n",
    "sum_terms = sum((a**n) / math.factorial(n) for n in range(c))\n",
    "\n",
    "# Último termo: (a^c / c!) * (1 / (1 - ρ))\n",
    "last_term = (a**c) / math.factorial(c) * (1 / (1 - rho))\n",
    "\n",
    "# Probabilidade do sistema estar vazio (P0)\n",
    "P0 = 1 / (sum_terms + last_term)\n",
    "\n",
    "print(f\"rho = {rho:.4f}\")\n",
    "print(f\"P0 = {P0:.4f}\")\n"
   ]
  },
  {
   "cell_type": "code",
   "execution_count": 8,
   "id": "92d5c88c",
   "metadata": {},
   "outputs": [
    {
     "name": "stdout",
     "output_type": "stream",
     "text": [
      "E[Nq] = 1.1277\n"
     ]
    }
   ],
   "source": [
    "# Utilização\n",
    "rho = lambd / (c * mu)\n",
    "a = c * rho\n",
    "\n",
    "# Soma dos termos de 0 a c-1: (a^n)/n!\n",
    "sum_terms = sum((a**n) / math.factorial(n) for n in range(c))\n",
    "\n",
    "# Último termo: (a^c / c!) * (1 / (1 - ρ))\n",
    "last_term = (a**c) / math.factorial(c) * (1 / (1 - rho))\n",
    "\n",
    "# Probabilidade do sistema estar vazio (P0)\n",
    "P0 = 1 / (sum_terms + last_term)\n",
    "\n",
    "# Cálculo de E[Nq] - número médio na fila\n",
    "numerador = (a**(c + 1)) / c\n",
    "denominador = math.factorial(c) * ((1 - rho)**2)\n",
    "ENq = (numerador / denominador) * P0\n",
    "\n",
    "print(f\"E[Nq] = {ENq:.4f}\")\n"
   ]
  }
 ],
 "metadata": {
  "kernelspec": {
   "display_name": "venv",
   "language": "python",
   "name": "python3"
  },
  "language_info": {
   "codemirror_mode": {
    "name": "ipython",
    "version": 3
   },
   "file_extension": ".py",
   "mimetype": "text/x-python",
   "name": "python",
   "nbconvert_exporter": "python",
   "pygments_lexer": "ipython3",
   "version": "3.12.3"
  }
 },
 "nbformat": 4,
 "nbformat_minor": 5
}
