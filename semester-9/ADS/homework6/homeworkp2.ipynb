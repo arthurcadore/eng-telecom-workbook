{
 "cells": [
  {
   "cell_type": "code",
   "execution_count": 2,
   "id": "b8387a33",
   "metadata": {},
   "outputs": [],
   "source": [
    "import heapq            # Usado para manter a fila de eventos como uma heap (fila de prioridade)\n",
    "import random           # Para geração de números aleatórios\n",
    "import matplotlib.pyplot as plt  # Para visualizações gráficas\n",
    "import numpy as np      # Para operações numéricas com arrays\n",
    "\n",
    "# Configuração de estilos dos gráficos\n",
    "plt.rc('font', size=16)\n",
    "plt.rc('axes', titlesize=18)\n",
    "plt.rc('axes', labelsize=18)\n",
    "plt.rc('xtick', labelsize=16)\n",
    "plt.rc('ytick', labelsize=16)\n",
    "plt.rc('legend', fontsize=16)\n",
    "plt.rc('figure', titlesize=18)\n"
   ]
  },
  {
   "cell_type": "code",
   "execution_count": null,
   "id": "e8c73d6d",
   "metadata": {},
   "outputs": [],
   "source": [
    "TRANSMISSION_RATE_BPS = 10_000_000     # Taxa de transmissão (10 Mbps)\n",
    "PROPAGATION_DELAY = 0.00333            # Atraso de propagação (3.33 ms)\n",
    "QUEUE_SIZE_BYTES = 5000                # Capacidade máxima da fila de pacotes por estação\n",
    "SIM_TIME = 20                          # Tempo total de simulação (em segundos)\n",
    "PACKET_GEN_RATE_A = 100                # Taxa de geração de pacotes na estação A (Poisson)\n",
    "INTERVAL_B = 0.040                     # Intervalo fixo entre pacotes na estação B\n"
   ]
  },
  {
   "cell_type": "markdown",
   "id": "395b57e1",
   "metadata": {},
   "source": [
    "# SISTEMA DE EVENTOS"
   ]
  },
  {
   "cell_type": "code",
   "execution_count": null,
   "id": "f13257d1",
   "metadata": {},
   "outputs": [],
   "source": [
    "class Event:\n",
    "    \"\"\"Classe base para todos os eventos da simulação.\"\"\"\n",
    "    def __init__(self, time):\n",
    "        self.time = time  # Tempo em que o evento ocorre\n",
    "\n",
    "    def __lt__(self, other):\n",
    "        return self.time < other.time  # Prioridade por tempo (para fila de eventos)\n",
    "\n",
    "    def processing_event(self, simulator):\n",
    "        raise NotImplementedError(\"Subclasses devem implementar este método.\")\n"
   ]
  },
  {
   "cell_type": "code",
   "execution_count": null,
   "id": "af7bd048",
   "metadata": {},
   "outputs": [],
   "source": [
    "class Simulator:\n",
    "    \"\"\"Gerencia o tempo e execução da simulação baseada em eventos discretos.\"\"\"\n",
    "    def __init__(self, end_time):\n",
    "        self.current_time = 0\n",
    "        self.event_queue = []  # Fila de eventos (heap)\n",
    "        self.end_time = end_time\n",
    "        self.stations = {'A': Station('A'), 'B': Station('B')}\n",
    "        self.collisions = []  # Lista de colisões\n",
    "        self.exp_gen_A = ExponentialGenerator(PACKET_GEN_RATE_A)\n",
    "\n",
    "    def schedule(self, event):\n",
    "        \"\"\"Agenda um novo evento para a simulação.\"\"\"\n",
    "        heapq.heappush(self.event_queue, event)\n",
    "\n",
    "    def run(self):\n",
    "        \"\"\"Executa os eventos até o final da simulação.\"\"\"\n",
    "        while self.event_queue and self.current_time < self.end_time:\n",
    "            event = heapq.heappop(self.event_queue)\n",
    "            self.current_time = event.time\n",
    "            event.processing_event(self)\n"
   ]
  },
  {
   "cell_type": "markdown",
   "id": "56497364",
   "metadata": {},
   "source": [
    "# GERADORES"
   ]
  },
  {
   "cell_type": "code",
   "execution_count": null,
   "id": "78c90e1e",
   "metadata": {},
   "outputs": [],
   "source": [
    "class UniformGenerator:\n",
    "    \"\"\"Gera números uniformemente distribuídos em (0,1) usando método congruencial.\"\"\"\n",
    "    def __init__(self, seed=123456789):\n",
    "        self.modulus = 2**31 - 1\n",
    "        self.a = 16807\n",
    "        self.c = 0\n",
    "        self.state = seed\n",
    "\n",
    "    def sample(self):\n",
    "        self.state = (self.a * self.state + self.c) % self.modulus\n",
    "        return self.state / self.modulus\n"
   ]
  },
  {
   "cell_type": "code",
   "execution_count": null,
   "id": "6a567cdb",
   "metadata": {},
   "outputs": [],
   "source": [
    "class ExponentialGenerator:\n",
    "    \"\"\"Gera números com distribuição exponencial (modelo de chegada Poisson).\"\"\"\n",
    "    def __init__(self, lambd, uniform_gen=None):\n",
    "        self.lambd = lambd\n",
    "        self.uniform_gen = uniform_gen or UniformGenerator()\n",
    "\n",
    "    def sample(self):\n",
    "        u = self.uniform_gen.sample()\n",
    "        return -1 / self.lambd * np.log(u)\n"
   ]
  },
  {
   "cell_type": "markdown",
   "id": "0c6f0d14",
   "metadata": {},
   "source": [
    "# CHEGADA DE PACOTES"
   ]
  },
  {
   "cell_type": "code",
   "execution_count": null,
   "id": "ed0c321b",
   "metadata": {},
   "outputs": [],
   "source": [
    "class PacketArrivalA(Event):\n",
    "    \"\"\"Chegada de pacotes na estação A com distribuição Poisson.\"\"\"\n",
    "    def processing_event(self, sim):\n",
    "        est = sim.stations['A']\n",
    "        pkt_size = random.randint(20, 1000)  # Tamanho do pacote aleatório\n",
    "        if est.queue_size + pkt_size <= QUEUE_SIZE_BYTES:\n",
    "            est.queue.append((sim.current_time, pkt_size))\n",
    "            est.queue_size += pkt_size\n",
    "            if not est.transmitting:\n",
    "                sim.schedule(TransmissionStart(sim.current_time, est.name))\n",
    "        # Agenda próxima chegada\n",
    "        next_time = sim.current_time + sim.exp_gen_A.sample()\n",
    "        sim.schedule(PacketArrivalA(next_time))\n"
   ]
  },
  {
   "cell_type": "code",
   "execution_count": null,
   "id": "d35f8ec8",
   "metadata": {},
   "outputs": [],
   "source": [
    "class PacketArrivalB(Event):\n",
    "    \"\"\"Chegada de pacotes na estação B com intervalo fixo.\"\"\"\n",
    "    def processing_event(self, sim):\n",
    "        est = sim.stations['B']\n",
    "        pkt_size = 500\n",
    "        if est.queue_size + pkt_size <= QUEUE_SIZE_BYTES:\n",
    "            est.queue.append((sim.current_time, pkt_size))\n",
    "            est.queue_size += pkt_size\n",
    "            if not est.transmitting:\n",
    "                sim.schedule(TransmissionStart(sim.current_time, est.name))\n",
    "        sim.schedule(PacketArrivalB(sim.current_time + INTERVAL_B))\n"
   ]
  },
  {
   "cell_type": "markdown",
   "id": "db7705a5",
   "metadata": {},
   "source": [
    "# TRANSMISSÃO DE PACOTES"
   ]
  },
  {
   "cell_type": "code",
   "execution_count": null,
   "id": "a43c153c",
   "metadata": {},
   "outputs": [],
   "source": [
    "class TransmissionStart(Event):\n",
    "    \"\"\"Início de uma transmissão de pacote.\"\"\"\n",
    "    def __init__(self, time, station_name):\n",
    "        super().__init__(time)\n",
    "        self.station_name = station_name\n",
    "\n",
    "    def processing_event(self, sim):\n",
    "        est = sim.stations[self.station_name]\n",
    "        if not est.queue:\n",
    "            return\n",
    "\n",
    "        # Detecta colisão\n",
    "        for other_name, other in sim.stations.items():\n",
    "            if other_name != self.station_name and other.transmitting and \\\n",
    "               abs(sim.current_time - other.tx_start_time) < PROPAGATION_DELAY:\n",
    "                sim.collisions.append(sim.current_time)\n",
    "                est.backoffs += 1\n",
    "                est.backoff_times.append(sim.current_time)\n",
    "                other.backoffs += 1\n",
    "                other.backoff_times.append(sim.current_time)\n",
    "                est.transmitting = False\n",
    "                other.transmitting = False\n",
    "                sim.schedule(Backoff(sim.current_time + est.next_backoff_time(), self.station_name))\n",
    "                sim.schedule(Backoff(sim.current_time + other.next_backoff_time(), other_name))\n",
    "                return\n",
    "\n",
    "        # Inicia transmissão\n",
    "        pkt_time = est.queue[0][1] * 8 / TRANSMISSION_RATE_BPS\n",
    "        est.transmitting = True\n",
    "        est.tx_start_time = sim.current_time\n",
    "        sim.schedule(TransmissionEnd(sim.current_time + pkt_time, self.station_name))\n"
   ]
  },
  {
   "cell_type": "code",
   "execution_count": null,
   "id": "39058300",
   "metadata": {},
   "outputs": [],
   "source": [
    "class TransmissionEnd(Event):\n",
    "    \"\"\"Término da transmissão de um pacote.\"\"\"\n",
    "    def __init__(self, time, station_name):\n",
    "        super().__init__(time)\n",
    "        self.station_name = station_name\n",
    "\n",
    "    def processing_event(self, sim):\n",
    "        est = sim.stations[self.station_name]\n",
    "        if est.queue:\n",
    "            start_time, pkt_size = est.queue.pop(0)\n",
    "            est.queue_size -= pkt_size\n",
    "            est.bytes_sent += pkt_size\n",
    "            est.tx_history.append((sim.current_time, pkt_size * 8))\n",
    "        est.transmitting = False\n",
    "        if est.queue:\n",
    "            sim.schedule(TransmissionStart(sim.current_time, self.station_name))\n"
   ]
  },
  {
   "cell_type": "markdown",
   "id": "b49e8e8c",
   "metadata": {},
   "source": [
    "# MODELO DE ESTAÇÃO"
   ]
  },
  {
   "cell_type": "code",
   "execution_count": null,
   "id": "97913a0c",
   "metadata": {},
   "outputs": [],
   "source": [
    "class Station:\n",
    "    \"\"\"Modela uma estação (A ou B) com fila e estado de transmissão.\"\"\"\n",
    "    def __init__(self, name):\n",
    "        self.name = name\n",
    "        self.queue = []             # Fila de pacotes (tupla: tempo, tamanho)\n",
    "        self.queue_size = 0\n",
    "        self.transmitting = False\n",
    "        self.tx_start_time = 0\n",
    "        self.bytes_sent = 0\n",
    "        self.backoffs = 0\n",
    "        self.backoff_times = []     # Registro dos tempos de colisão\n",
    "        self.tx_history = []        # Registro das transmissões\n",
    "\n",
    "    def next_backoff_time(self):\n",
    "        \"\"\"Gera um tempo aleatório de espera (backoff).\"\"\"\n",
    "        return random.uniform(0.001, 0.01)\n"
   ]
  },
  {
   "cell_type": "markdown",
   "id": "a8387e06",
   "metadata": {},
   "source": [
    "# VISUALIZAÇÃO DOS RESULTADOS"
   ]
  },
  {
   "cell_type": "code",
   "execution_count": null,
   "id": "5d12ccad",
   "metadata": {},
   "outputs": [],
   "source": [
    "def plot_results(sim):\n",
    "    \"\"\"Plota gráficos de colisões, vazão e backoffs ao longo do tempo.\"\"\"\n",
    "    bin_width = 0.5\n",
    "    bins = np.arange(0, SIM_TIME + bin_width, bin_width)\n",
    "\n",
    "    # --- 1. Colisões ---\n",
    "    plt.figure(figsize=(16, 9))\n",
    "    plt.subplot(2, 1, 1)\n",
    "    plt.hist(sim.collisions, bins=bins, color=\"red\", alpha=0.7)\n",
    "    plt.title(\"Colisões por intervalo de tempo\")\n",
    "    plt.xlabel(\"Tempo (s)\")\n",
    "    plt.ylabel(\"Nº de colisões\")\n",
    "    plt.grid(True)\n",
    "\n",
    "    plt.subplot(2, 1, 2)\n",
    "    sorted_collisions = sorted(sim.collisions)\n",
    "    counts = np.arange(1, len(sorted_collisions) + 1)\n",
    "    plt.plot(sorted_collisions, counts, color=\"blue\")\n",
    "    plt.title(\"Colisões acumuladas ao longo do tempo\")\n",
    "    plt.xlabel(\"Tempo (s)\")\n",
    "    plt.ylabel(\"Total de colisões\")\n",
    "    plt.grid(True)\n",
    "    plt.tight_layout()\n",
    "    plt.savefig(\"pictures/colisoes.png\")\n",
    "    plt.show()\n",
    "\n",
    "    # --- 2. Vazão ---\n",
    "    plt.figure(figsize=(16, 9))\n",
    "    for name, station in sim.stations.items():\n",
    "        tx_times, bits = zip(*station.tx_history) if station.tx_history else ([0], [0])\n",
    "        bits_per_bin = np.histogram(tx_times, bins=bins, weights=bits)[0]\n",
    "        mbytes_per_bin = bits_per_bin / 8 / 1_000\n",
    "        throughput_MBps = mbytes_per_bin / bin_width\n",
    "        plt.plot(bins[:-1], throughput_MBps, label=f'Estação {name}')\n",
    "    plt.title(\"Vazão de cada estação ao longo do tempo\")\n",
    "    plt.xlabel(\"Tempo (s)\")\n",
    "    plt.ylabel(\"Vazão (KB/s)\")\n",
    "    plt.legend()\n",
    "    plt.grid(True)\n",
    "    plt.tight_layout()\n",
    "    plt.savefig(\"pictures/vazao.png\")\n",
    "    plt.show()\n",
    "\n",
    "    # --- 3. Backoffs ---\n",
    "    plt.figure(figsize=(16, 9))\n",
    "    for name, station in sim.stations.items():\n",
    "        backoff_times = station.backoff_times\n",
    "        backoffs_per_bin = np.histogram(backoff_times, bins=bins)[0]\n",
    "        plt.plot(bins[:-1], backoffs_per_bin, label=f'Estação {name}')\n",
    "    plt.title(\"Backoffs ao longo do tempo\")\n",
    "    plt.xlabel(\"Tempo (s)\")\n",
    "    plt.ylabel(\"Nº de backoffs\")\n",
    "    plt.legend()\n",
    "    plt.grid(True)\n",
    "    plt.tight_layout()\n",
    "    plt.savefig(\"pictures/backoffs.png\")\n",
    "    plt.show()\n"
   ]
  },
  {
   "cell_type": "code",
   "execution_count": null,
   "id": "d6cac395",
   "metadata": {},
   "outputs": [],
   "source": [
    "def plot_exponential_generation(lambd=1.0, n_samples=10000):\n",
    "    \"\"\"Gera e plota amostras da distribuição exponencial para validação.\"\"\"\n",
    "    gen = ExponentialGenerator(lambd)\n",
    "    samples = np.array([gen.sample() for _ in range(n_samples)])\n",
    "\n",
    "    plt.figure(figsize=(16, 6))\n",
    "    plt.subplot(1, 2, 1)\n",
    "    plt.hist(samples, bins=50, density=True, alpha=0.7, color='blue')\n",
    "    x = np.linspace(0, np.max(samples), 200)\n",
    "    plt.plot(x, lambd * np.exp(-lambd * x), 'r-', lw=2)\n",
    "    plt.title(f'Histograma da Geração Exponencial (λ={lambd})')\n",
    "    plt.grid(True)\n",
    "\n",
    "    plt.subplot(1, 2, 2)\n",
    "    from scipy.stats import probplot\n",
    "    probplot(samples, dist=\"expon\", sparams=(0, 1/lambd), plot=plt)\n",
    "    plt.title('QQ-plot (Exponencial)')\n",
    "    plt.tight_layout()\n",
    "    plt.savefig(\"pictures/exponencial.png\")\n",
    "    plt.show()\n"
   ]
  },
  {
   "cell_type": "code",
   "execution_count": null,
   "id": "11516706",
   "metadata": {},
   "outputs": [],
   "source": [
    "def plot_uniform_generation(n_samples=10000):\n",
    "    \"\"\"Gera e plota amostras da distribuição uniforme para validação.\"\"\"\n",
    "    gen = UniformGenerator()\n",
    "    samples = np.array([gen.sample() for _ in range(n_samples)])\n",
    "\n",
    "    plt.figure(figsize=(16, 6))\n",
    "    plt.subplot(1, 2, 1)\n",
    "    plt.hist(samples, bins=50, density=True, alpha=0.7, color='green')\n",
    "    x = np.linspace(0, 1, 200)\n",
    "    plt.plot(x, np.ones_like(x), 'r-', lw=2)\n",
    "    plt.title('Histograma da Geração Uniforme (0,1)')\n",
    "    plt.grid(True)\n",
    "\n",
    "    plt.subplot(1, 2, 2)\n",
    "    from scipy.stats import probplot\n",
    "    probplot(samples, dist=\"uniform\", sparams=(0, 1), plot=plt)\n",
    "    plt.title('QQ-plot (Uniforme)')\n",
    "    plt.tight_layout()\n",
    "    plt.savefig(\"pictures/uniforme.png\")\n",
    "    plt.show()\n"
   ]
  },
  {
   "cell_type": "markdown",
   "id": "fc339bce",
   "metadata": {},
   "source": [
    "# FUNÇÃO PRINCIPAL"
   ]
  },
  {
   "cell_type": "code",
   "execution_count": null,
   "id": "cfe1f103",
   "metadata": {},
   "outputs": [],
   "source": [
    "def main():\n",
    "    \"\"\"Inicia a simulação, agenda os eventos e plota os resultados.\"\"\"\n",
    "    sim = Simulator(SIM_TIME)\n",
    "    # Injeta primeiro pacote manualmente na estação A\n",
    "    first_pkt_size = random.randint(20, 1000)\n",
    "    est_a = sim.stations['A']\n",
    "    est_a.queue.append((0, first_pkt_size))\n",
    "    est_a.queue_size += first_pkt_size\n",
    "    sim.schedule(TransmissionStart(0, 'A'))\n",
    "\n",
    "    # Agenda as chegadas de pacotes\n",
    "    sim.schedule(PacketArrivalA(0))\n",
    "    sim.schedule(PacketArrivalB(0))\n",
    "\n",
    "    # Executa a simulação\n",
    "    sim.run()\n",
    "\n",
    "    # Plota os resultados\n",
    "    plot_results(sim)\n",
    "\n",
    "# Executa o script\n",
    "if __name__ == \"__main__\":\n",
    "    main()\n",
    "\n",
    "# Gera e valida distribuições\n",
    "plot_exponential_generation(lambd=2.0, n_samples=10000)\n",
    "plot_uniform_generation(n_samples=10000)\n"
   ]
  }
 ],
 "metadata": {
  "kernelspec": {
   "display_name": "venv",
   "language": "python",
   "name": "python3"
  },
  "language_info": {
   "codemirror_mode": {
    "name": "ipython",
    "version": 3
   },
   "file_extension": ".py",
   "mimetype": "text/x-python",
   "name": "python",
   "nbconvert_exporter": "python",
   "pygments_lexer": "ipython3",
   "version": "3.12.3"
  }
 },
 "nbformat": 4,
 "nbformat_minor": 5
}
