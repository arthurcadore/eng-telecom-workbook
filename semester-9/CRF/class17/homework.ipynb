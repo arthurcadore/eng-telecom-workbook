{
 "cells": [
  {
   "cell_type": "code",
   "execution_count": null,
   "id": "bd3d2003",
   "metadata": {},
   "outputs": [
    {
     "name": "stdout",
     "output_type": "stream",
     "text": [
      "N1 = 288.46153846153845\n",
      "N = 12.019230769230768\n",
      "M = 24\n"
     ]
    }
   ],
   "source": [
    "f0 = 50000\n",
    "deltaf = 260\n",
    "\n",
    "Frf = 106000000\n",
    "deltaFrf = 75000\n",
    "\n",
    "\n",
    "# Calculo de N: \n",
    "\n",
    "NT = deltaFrf / deltaf\n",
    "\n",
    "print(f\"N1 = {NT}\")\n",
    "\n",
    "# Decompor NT em N x M: \n",
    "\n",
    "M = 24\n",
    "N = NT / M\n",
    "\n",
    "print(f\"N = {N}\")\n",
    "print(f\"M = {M}\")"
   ]
  },
  {
   "cell_type": "code",
   "execution_count": 5,
   "id": "85a6dc7a",
   "metadata": {},
   "outputs": [
    {
     "name": "stdout",
     "output_type": "stream",
     "text": [
      "Fsaida = 14423076.923076922 MHz, é diferença\n"
     ]
    }
   ],
   "source": [
    "# calculo pra ver se é soma ou diferença: \n",
    "\n",
    "Fsaida = f0 * NT\n",
    "\n",
    "if Fsaida > Frf:\n",
    "    print(f\"Fsaida = {Fsaida} MHz, é soma\")\n",
    "else:\n",
    "    print(f\"Fsaida = {Fsaida} MHz, é diferença\")"
   ]
  },
  {
   "cell_type": "code",
   "execution_count": 18,
   "id": "1d10b5b7",
   "metadata": {},
   "outputs": [
    {
     "name": "stdout",
     "output_type": "stream",
     "text": [
      "fos = 501.7628205128205 KHz\n"
     ]
    }
   ],
   "source": [
    "# Frf = M * (fos - deltaf * N)\n",
    "\n",
    "fos = (Frf / M) + (f0 * N) \n",
    "\n",
    "\n",
    "\n",
    "print(f\"fos = {fos/10e3} KHz\")"
   ]
  }
 ],
 "metadata": {
  "kernelspec": {
   "display_name": "venv",
   "language": "python",
   "name": "python3"
  },
  "language_info": {
   "codemirror_mode": {
    "name": "ipython",
    "version": 3
   },
   "file_extension": ".py",
   "mimetype": "text/x-python",
   "name": "python",
   "nbconvert_exporter": "python",
   "pygments_lexer": "ipython3",
   "version": "3.12.3"
  }
 },
 "nbformat": 4,
 "nbformat_minor": 5
}
