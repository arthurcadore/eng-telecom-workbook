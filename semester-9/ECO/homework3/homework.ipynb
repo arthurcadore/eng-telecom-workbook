{
 "cells": [
  {
   "cell_type": "code",
   "execution_count": 30,
   "id": "3ff5c25a",
   "metadata": {},
   "outputs": [
    {
     "name": "stdout",
     "output_type": "stream",
     "text": [
      "Valor de adesão: 14.90 reais\n",
      "Valor restante após taxa de adesão: 985.10 reais\n",
      "Valor futuro após 1 ano: 1044.21 reais\n",
      "Rendimento após 1 ano: 44.21 reais\n",
      "Taxa de juros real: 4.42% reais\n"
     ]
    }
   ],
   "source": [
    "## QUESTÃO 1\n",
    "# Variáveis da questão: \n",
    "V_investido = 1000\n",
    "tarifa_fix = 4.9\n",
    "tarifa_perc = 1 \n",
    "juros_anual = 0.06\n",
    "\n",
    "custo_adesao = tarifa_fix + (tarifa_perc / 100) * V_investido\n",
    "print(f\"Valor de adesão: {custo_adesao:.2f} reais\")\n",
    "\n",
    "# calculo do valor restante após retirada da taxa: \n",
    "V_aplicado = V_investido - custo_adesao\n",
    "print(f\"Valor restante após taxa de adesão: {V_aplicado:.2f} reais\")\n",
    "\n",
    "Valor_futuro = V_aplicado * (1 + juros_anual)\n",
    "print(f\"Valor futuro após 1 ano: {Valor_futuro:.2f} reais\")\n",
    "\n",
    "# calculo de rendimento: \n",
    "rendimento = Valor_futuro - V_investido\n",
    "print(f\"Rendimento após 1 ano: {rendimento:.2f} reais\")\n",
    "\n",
    "# Para calcular a taxa de juros real, utilizamos: \n",
    "juros_real = rendimento / V_investido\n",
    "print(f\"Taxa de juros real: {juros_real:.2%} reais\")"
   ]
  },
  {
   "cell_type": "code",
   "execution_count": 31,
   "id": "174d4b98",
   "metadata": {},
   "outputs": [
    {
     "name": "stdout",
     "output_type": "stream",
     "text": [
      "Taxa de juros real: -1.21%\n"
     ]
    }
   ],
   "source": [
    "## QUESTÃO 2\n",
    "# Variáveis da questão:\n",
    "juros_nominal = 0.062\n",
    "inflacao = 0.075\n",
    "\n",
    "# Calculando a taxa de juros real: \n",
    "juros_real = ((1 + juros_nominal) / (1 + inflacao)) - 1\n",
    "print(f\"Taxa de juros real: {juros_real:.2%}\")"
   ]
  },
  {
   "cell_type": "code",
   "execution_count": 32,
   "id": "091c870f",
   "metadata": {},
   "outputs": [
    {
     "name": "stdout",
     "output_type": "stream",
     "text": [
      "Taxa de juros nominal: 5.73%\n",
      "Taxa de juros real: -2.56%\n"
     ]
    }
   ],
   "source": [
    "## QUESTÃO 3\n",
    "# Variáveis da questão:\n",
    "Valor_futuro = 1057.25\n",
    "Valor_inicial = 1000\n",
    "inflacao = 0.085\n",
    "\n",
    "# Calculando a taxa de juros nominal: \n",
    "juros_nominal = (Valor_futuro - Valor_inicial) / Valor_inicial\n",
    "print(f\"Taxa de juros nominal: {juros_nominal:.2%}\")\n",
    "\n",
    "# Calculando a taxa de juros real: \n",
    "juros_real = ((1 + juros_nominal) / (1 + inflacao)) - 1 \n",
    "print(f\"Taxa de juros real: {juros_real:.2%}\")"
   ]
  },
  {
   "cell_type": "code",
   "execution_count": 33,
   "id": "1c14bb34",
   "metadata": {},
   "outputs": [
    {
     "name": "stdout",
     "output_type": "stream",
     "text": [
      "Valor futuro: 107.42 reais\n"
     ]
    }
   ],
   "source": [
    "## QUESTÃO 4\n",
    "# Variáveis da questão:\n",
    "valor_presente = 100\n",
    "inflacao_mes = 0.012 \n",
    "n_periodos = 6\n",
    "\n",
    "# caluculando o valor futuro com juros compostos: \n",
    "Valor_futuro = valor_presente * (1 + inflacao_mes) ** n_periodos\n",
    "print(f\"Valor futuro: {Valor_futuro:.2f} reais\")\n"
   ]
  },
  {
   "cell_type": "code",
   "execution_count": null,
   "id": "8f5f41b8",
   "metadata": {},
   "outputs": [
    {
     "name": "stdout",
     "output_type": "stream",
     "text": [
      "Preço de venda: 130.00 reais\n",
      "Preço a vista: 117.00 reais\n",
      "Percentual de lucro: 17.00%\n"
     ]
    }
   ],
   "source": [
    "## QUESTÃO 5\n",
    "# Variáveis da questão:\n",
    "preco_custo = 100 \n",
    "margem_lucro = 0.30\n",
    "desconto_vista = 0.10\n",
    "\n",
    "# calculando preço de venda:\n",
    "preco_venda = preco_custo * (1 + margem_lucro)\n",
    "print(f\"Preço de venda: {preco_venda:.2f} reais\")\n",
    "\n",
    "# calculando preço a vista: \n",
    "preco_vista = preco_venda * (1 - desconto_vista)\n",
    "print(f\"Preço a vista: {preco_vista:.2f} reais\")\n",
    "\n",
    "# calculando percentual de lucro: \n",
    "percentual_lucro = (preco_vista - preco_custo) / preco_custo\n",
    "print(f\"Percentual de lucro: {percentual_lucro:.2%}\")"
   ]
  },
  {
   "cell_type": "code",
   "execution_count": null,
   "id": "0911f2b7",
   "metadata": {},
   "outputs": [
    {
     "name": "stdout",
     "output_type": "stream",
     "text": [
      "Preço após o primeiro aumento: 253.00 reais\n",
      "Preço após o segundo aumento: 303.60 reais\n"
     ]
    }
   ],
   "source": [
    "## QUESTÃO 6\n",
    "# Variáveis da questão:\n",
    "preco_inicial = 220 \n",
    "primeiro_aumento = 0.15\n",
    "segundo_aumento = 0.20\n",
    "\n",
    "# calculando o preço após o primeiro aumento:\n",
    "preco_1 = preco_inicial * (1 + primeiro_aumento)\n",
    "print(f\"Preço após o primeiro aumento: {preco_1:.2f} reais\")\n",
    "\n",
    "# calculando o preço após o segundo aumento:\n",
    "preco_2 = preco_1 * (1 + segundo_aumento)\n",
    "print(f\"Preço após o segundo aumento: {preco_2:.2f} reais\")\n"
   ]
  },
  {
   "cell_type": "code",
   "execution_count": null,
   "id": "d7f4e351",
   "metadata": {},
   "outputs": [
    {
     "name": "stdout",
     "output_type": "stream",
     "text": [
      "Preço final com desconto de 10%: 273.24 reais\n"
     ]
    }
   ],
   "source": [
    "## QUESTÃO 6a\n",
    "\n",
    "x = 0.10\n",
    "\n",
    "# calculo dando desconto de 10% no preço final:\n",
    "preco_final = preco_2 * (1 - x)\n",
    "print(f\"Preço final com desconto de 10%: {preco_final:.2f} reais\")"
   ]
  },
  {
   "cell_type": "code",
   "execution_count": null,
   "id": "bc5f436e",
   "metadata": {},
   "outputs": [
    {
     "name": "stdout",
     "output_type": "stream",
     "text": [
      "Valor máximo de x: 27.54 %\n"
     ]
    }
   ],
   "source": [
    "## QUESTÃO 6b\n",
    "\n",
    "# calculando o valor maximo de x para que o preço final seja maior que o preço inicial:\n",
    "x_max = (1 - (preco_inicial / preco_2)) * 100\n",
    "print(f\"Valor máximo de x: {x_max:.2f} %\")"
   ]
  },
  {
   "cell_type": "code",
   "execution_count": null,
   "id": "7806cdd5",
   "metadata": {},
   "outputs": [
    {
     "name": "stdout",
     "output_type": "stream",
     "text": [
      "Variação do dolar: -2.93 %\n",
      "Ganho de investimento: 2.07 %\n"
     ]
    }
   ],
   "source": [
    "## QUESTÃO 7\n",
    "# Variáveis da questão:\n",
    "valor_inicial = 5.12\n",
    "valor_final = 4.97\n",
    "investimento = 5.0\n",
    "\n",
    "# calculando a variaçao do dolar em %\n",
    "variacao = ((valor_final - valor_inicial) / valor_inicial) * 100\n",
    "print(f\"Variação do dolar: {variacao:.2f} %\")\n",
    "\n",
    "# calculando o ganho de investimento: \n",
    "ganho_investimento = variacao + investimento\n",
    "print(f\"Ganho de investimento: {ganho_investimento:.2f} %\")"
   ]
  },
  {
   "cell_type": "code",
   "execution_count": 41,
   "id": "dd5da248",
   "metadata": {},
   "outputs": [
    {
     "name": "stdout",
     "output_type": "stream",
     "text": [
      "Valor futuro: 5177.65 reais\n",
      "Rendimento: 177.65 reais\n"
     ]
    }
   ],
   "source": [
    "## QUESTÃO 8\n",
    "# Variáveis da questão:\n",
    "valor_inicial = 5000\n",
    "taxa_juros = 0.005\n",
    "n_periodos = 7\n",
    "\n",
    "# calculando o valor futuro com juros compostos:\n",
    "valor_futuro = valor_inicial * (1 + taxa_juros) ** n_periodos\n",
    "print(f\"Valor futuro: {valor_futuro:.2f} reais\")\n",
    "\n",
    "# calculando o rendimento dos juros:\n",
    "rendimento = valor_futuro - valor_inicial\n",
    "print(f\"Rendimento: {rendimento:.2f} reais\")"
   ]
  },
  {
   "cell_type": "code",
   "execution_count": 43,
   "id": "7a5e9eaf",
   "metadata": {},
   "outputs": [
    {
     "name": "stdout",
     "output_type": "stream",
     "text": [
      "Valor futuro: 2671.51 reais\n",
      "Rendimento: 171.51 reais\n"
     ]
    }
   ],
   "source": [
    "## QUESTÃO 9\n",
    "# Variáveis da questão:\n",
    "valor_inicial = 2500\n",
    "taxa_juros = 0.0925 # juros ao ano\n",
    "n_periodos = (9/12) # 9 meses\n",
    "\n",
    "# calculando o valor futuro com juros compostos:\n",
    "valor_futuro = valor_inicial * (1 + taxa_juros) ** n_periodos\n",
    "print(f\"Valor futuro: {valor_futuro:.2f} reais\")\n",
    "\n",
    "# calculando o rendimento dos juros:\n",
    "rendimento = valor_futuro - valor_inicial\n",
    "print(f\"Rendimento: {rendimento:.2f} reais\")"
   ]
  },
  {
   "cell_type": "code",
   "execution_count": null,
   "id": "e8e232e4",
   "metadata": {},
   "outputs": [
    {
     "name": "stdout",
     "output_type": "stream",
     "text": [
      "Valor do imposto de renda: 25.73 reais\n",
      "Rendimento restante: 145.78 reais\n",
      "Valor resgatado: 2645.78 reais\n",
      "Retorno: 5.83% reais\n"
     ]
    }
   ],
   "source": [
    "## QUESTÃO 10\n",
    "# Variáveis da questão:\n",
    "imposto_renda = 0.15\n",
    "\n",
    "# calculando o rendimento liquido:\n",
    "rendimento_imposto = rendimento * (imposto_renda)\n",
    "print(f\"Valor do imposto de renda: {rendimento_imposto:.2f} reais\")\n",
    "\n",
    "rendimento_restante = rendimento - rendimento_imposto\n",
    "print(f\"Rendimento restante: {rendimento_restante:.2f} reais\")\n",
    "\n",
    "# calculando o valor resgatado: \n",
    "valor_resgatado = valor_futuro - rendimento_imposto\n",
    "print(f\"Valor resgatado: {valor_resgatado:.2f} reais\")\n",
    "\n",
    "# calculando o retorno (taxa real): \n",
    "retorno = (valor_resgatado - valor_inicial) / valor_inicial\n",
    "print(f\"Retorno: {retorno:.2%} reais\")"
   ]
  },
  {
   "cell_type": "code",
   "execution_count": 53,
   "id": "a14d11cb",
   "metadata": {},
   "outputs": [
    {
     "name": "stdout",
     "output_type": "stream",
     "text": [
      "Taxa real: 2.25% reais\n"
     ]
    }
   ],
   "source": [
    "## QUESTÃO 11\n",
    "\n",
    "# Variáveis da questão:\n",
    "inflacao = 0.035\n",
    "\n",
    "# calculando o valor futuro com juros compostos:\n",
    "taxa_real = ((1 + retorno) / (1 + inflacao)) - 1\n",
    "print(f\"Taxa real: {taxa_real:.2%} reais\")"
   ]
  }
 ],
 "metadata": {
  "kernelspec": {
   "display_name": "Python 3",
   "language": "python",
   "name": "python3"
  },
  "language_info": {
   "codemirror_mode": {
    "name": "ipython",
    "version": 3
   },
   "file_extension": ".py",
   "mimetype": "text/x-python",
   "name": "python",
   "nbconvert_exporter": "python",
   "pygments_lexer": "ipython3",
   "version": "3.12.3"
  }
 },
 "nbformat": 4,
 "nbformat_minor": 5
}
