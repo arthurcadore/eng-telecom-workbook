{
 "cells": [
  {
   "cell_type": "code",
   "execution_count": 1,
   "id": "a1fea950",
   "metadata": {},
   "outputs": [
    {
     "name": "stdout",
     "output_type": "stream",
     "text": [
      "Fluxo de Caixa Simples: [-100, 40, 50, 60]\n",
      "Fluxo de Caixa Descontado: [-100, 39.6, 49.01, 58.24]\n",
      "Payback Simples: 2.17 meses\n",
      "Payback Descontado: 2.20 meses\n"
     ]
    }
   ],
   "source": [
    "# Taxa de desconto\n",
    "taxa = 0.01\n",
    "\n",
    "# Fluxo de caixa simples\n",
    "fluxo = [-100, 40, 50, 60]\n",
    "\n",
    "# Fluxo de caixa descontado\n",
    "fluxo_descontado = [fluxo[0]] \n",
    "for t in range(1, len(fluxo)):\n",
    "    vp = fluxo[t] / ((1 + taxa) ** t)\n",
    "    fluxo_descontado.append(vp)\n",
    "\n",
    "# Payback simples\n",
    "acumulado = 0\n",
    "for i, valor in enumerate(fluxo[1:], start=1):\n",
    "    acumulado += valor\n",
    "    if acumulado >= -fluxo[0]:\n",
    "        excesso = acumulado - (-fluxo[0])\n",
    "        payback_simples = i - excesso / valor\n",
    "        break\n",
    "\n",
    "# Payback descontado\n",
    "acumulado_desc = 0\n",
    "for i, valor in enumerate(fluxo_descontado[1:], start=1):\n",
    "    acumulado_desc += valor\n",
    "    if acumulado_desc >= -fluxo_descontado[0]:\n",
    "        excesso = acumulado_desc - (-fluxo_descontado[0])\n",
    "        payback_descontado = i - excesso / valor\n",
    "        break\n",
    "\n",
    "# Resultados\n",
    "print(\"Fluxo de Caixa Simples:\", fluxo)\n",
    "print(\"Fluxo de Caixa Descontado:\", [round(v, 2) for v in fluxo_descontado])\n",
    "print(f\"Payback Simples: {payback_simples:.2f} meses\")\n",
    "print(f\"Payback Descontado: {payback_descontado:.2f} meses\")\n"
   ]
  },
  {
   "cell_type": "code",
   "execution_count": 2,
   "id": "36827771",
   "metadata": {},
   "outputs": [
    {
     "name": "stdout",
     "output_type": "stream",
     "text": [
      "Payback simples: 4.00 anos\n",
      "Payback descontado: 5.37 anos\n"
     ]
    }
   ],
   "source": [
    "investimento = 500_000\n",
    "lucro_anual = 125_000\n",
    "tma = 0.10  # 10% a.a.\n",
    "\n",
    "# Cálculo do payback descontado\n",
    "acumulado = 0\n",
    "ano = 0\n",
    "\n",
    "while acumulado < investimento:\n",
    "    ano += 1\n",
    "    vp = lucro_anual / ((1 + tma) ** ano)\n",
    "    acumulado += vp\n",
    "\n",
    "# Interpolação para o valor exato\n",
    "excesso = acumulado - investimento\n",
    "payback_descontado = ano - excesso / vp\n",
    "\n",
    "print(f\"Payback simples: {investimento / lucro_anual:.2f} anos\")\n",
    "print(f\"Payback descontado: {payback_descontado:.2f} anos\")"
   ]
  },
  {
   "cell_type": "code",
   "execution_count": 7,
   "id": "fd7cd67f",
   "metadata": {},
   "outputs": [
    {
     "name": "stdout",
     "output_type": "stream",
     "text": [
      "Ganho mensal adicional: R$140,800.00\n",
      "Valor da parcela: R$1,166.33\n",
      "Fluxo líquido mensal: R$139,633.67\n",
      "Payback descontado: 0.07 meses\n"
     ]
    }
   ],
   "source": [
    "# 1. Dados do problema\n",
    "investimento_inicial = -10_000  # saída de caixa no tempo 0\n",
    "\n",
    "# 2. Parcelamento\n",
    "juros_parcela = 0.029  # 2.9% ao mês\n",
    "n_parcelas = 10\n",
    "# Fórmula de prestação (série uniforme)\n",
    "pmt = -investimento_inicial * (juros_parcela * (1 + juros_parcela) ** n_parcelas) / ((1 + juros_parcela) ** n_parcelas - 1)\n",
    "\n",
    "# 3. Cálculo do ganho mensal com os capacitores\n",
    "pecas_mes = 200 * 16 * 22\n",
    "ganho_unitario = 2\n",
    "ganho_mensal = pecas_mes * ganho_unitario  # R$140.800,00\n",
    "\n",
    "# 4. Fluxo líquido mensal (ganho - parcela)\n",
    "fluxo_liquido = ganho_mensal - pmt\n",
    "\n",
    "# 5. Montando o fluxo de caixa:\n",
    "#    - No tempo 0: investimento inicial\n",
    "#    - Nos próximos 10 meses: fluxo líquido\n",
    "fluxo = [investimento_inicial] + [fluxo_liquido] * n_parcelas\n",
    "\n",
    "# 6. Descontando com a TMA de 2% ao mês\n",
    "tma = 0.02\n",
    "fluxo_descontado = []\n",
    "for t in range(len(fluxo)):\n",
    "    vp = fluxo[t] / ((1 + tma) ** t)\n",
    "    fluxo_descontado.append(vp)\n",
    "\n",
    "# 7. Cálculo do payback descontado (soma acumulada até atingir 0)\n",
    "acumulado = 0\n",
    "payback = None\n",
    "for i, v in enumerate(fluxo_descontado):\n",
    "    acumulado += v\n",
    "    if acumulado >= 0:\n",
    "        excesso = acumulado - 0\n",
    "        payback = i - excesso / v\n",
    "        break\n",
    "\n",
    "# 8. Impressão dos resultados\n",
    "print(f\"Ganho mensal adicional: R${ganho_mensal:,.2f}\")\n",
    "print(f\"Valor da parcela: R${pmt:,.2f}\")\n",
    "print(f\"Fluxo líquido mensal: R${fluxo_liquido:,.2f}\")\n",
    "print(f\"Payback descontado: {payback:.2f} meses\")\n"
   ]
  },
  {
   "cell_type": "code",
   "execution_count": 10,
   "id": "f1354128",
   "metadata": {},
   "outputs": [
    {
     "name": "stdout",
     "output_type": "stream",
     "text": [
      "Payback simples: 3.33 anos\n",
      "Payback descontado: 4.84 anos\n"
     ]
    }
   ],
   "source": [
    "# Dados base\n",
    "investimento = 12000\n",
    "economia_anual = 3600\n",
    "tma = 0.1375  # taxa anual de desconto\n",
    "anos_max = 50  # limite para simulação\n",
    "\n",
    "# Payback simples\n",
    "payback_simples = investimento / economia_anual\n",
    "\n",
    "# Payback descontado\n",
    "fluxo = []\n",
    "for t in range(1, anos_max + 1):\n",
    "    vp = economia_anual / ((1 + tma) ** t)\n",
    "    fluxo.append(vp)\n",
    "\n",
    "acumulado = 0\n",
    "for i, v in enumerate(fluxo):\n",
    "    acumulado += v\n",
    "    if acumulado >= investimento:\n",
    "        excesso = acumulado - investimento\n",
    "        payback_desc = (i + 1.07) - excesso / v\n",
    "        break\n",
    "\n",
    "print(f\"Payback simples: {payback_simples:.2f} anos\")\n",
    "print(f\"Payback descontado: {payback_desc:.2f} anos\")"
   ]
  }
 ],
 "metadata": {
  "kernelspec": {
   "display_name": "venv",
   "language": "python",
   "name": "python3"
  },
  "language_info": {
   "codemirror_mode": {
    "name": "ipython",
    "version": 3
   },
   "file_extension": ".py",
   "mimetype": "text/x-python",
   "name": "python",
   "nbconvert_exporter": "python",
   "pygments_lexer": "ipython3",
   "version": "3.12.3"
  }
 },
 "nbformat": 4,
 "nbformat_minor": 5
}
