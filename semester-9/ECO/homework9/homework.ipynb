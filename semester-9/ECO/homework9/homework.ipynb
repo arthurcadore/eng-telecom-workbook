{
 "cells": [
  {
   "cell_type": "code",
   "execution_count": null,
   "id": "99e3122c",
   "metadata": {},
   "outputs": [],
   "source": [
    "investimento_inicial = 500000"
   ]
  },
  {
   "cell_type": "code",
   "execution_count": null,
   "id": "b99b5b60",
   "metadata": {},
   "outputs": [],
   "source": [
    "equipamentos_ativos = [\n",
    "    {\"nome\": \"Chassi Olt An6000-2 02u 10g\", \"custo_Vista\": 3782, \"custo_10x\": 4.066, \"quantidade\": 1},\n",
    "    {\"nome\": \"Placa GPOA\", \"custo_Vista\": 9890, \"custo_12x\": 9890, \"quantidade\": 1},\n",
    "    {\"nome\": \"Transceiver GPON C++ GPON\", \"custo_Vista\": 319.32, \"quantidade\": 10},\n",
    "    {\"nome\": \"Transceiver KTS 2110+\", \"custo_Vista\": 359.99, \"quantidade\": 2},\n",
    "    {\"nome\": \"AN5506-01-A\", \"custo_Vista\": 88, \"quantidade\": 1280},\n",
    "    {\"nome\": \"Nobreak 1500VA\", \"custo_Vista\": 1000, \"quantidade\": 1},\n",
    "]\n",
    "\n",
    "equipamentos_passivos = [\n",
    "    {\"nome\": \"Rack de telecomunicações 10U\", \"custo_Vista\": 1000, \"quantidade\": 1},\n",
    "    {\"nome\": \"DIO 12x2\", \"custo_Vista\": 100, \"quantidade\": 10},\n",
    "    {\"nome\": \"Splitter 1x16\", \"custo_Vista\": 50, \"quantidade\": 10},\n",
    "    {\"nome\": \"Splitter Desbalanceado 10/90\", \"custo_Vista\": 50, \"quantidade\": 10},\n",
    "    {\"nome\": \"Splitter Desbalanceado 20/80\", \"custo_Vista\": 50, \"quantidade\": 10},\n",
    "    {\"nome\": \"Splitter Desbalanceado 30/70\", \"custo_Vista\": 50, \"quantidade\": 10},\n",
    "    {\"nome\": \"Splitter Desbalanceado 40/60\", \"custo_Vista\": 50, \"quantidade\": 10},\n",
    "    {\"nome\": \"Conector SC/APC\", \"custo_Vista\": 1.5, \"quantidade\": 1280},\n",
    "    {\"nome\": \"Patch-cord fibra óptica 1 metro\", \"custo_Vista\": 5, \"quantidade\": 1280},\n",
    "]\n",
    "\n",
    "equipamentos_lancamento = [\n",
    "    {\"nome\": \"Mini-RA 12FO\", \"custo_Vista\": 100, \"quantidade\": 10},\n",
    "    {\"nome\": \"Mini-RA 6FO\", \"custo_Vista\": 50, \"quantidade\": 10},\n",
    "    {\"nome\": \"Drop 1FO\", \"custo_Vista\": 10, \"quantidade\": 1280},\n",
    "    {\"nome\": \"Caixa de emenda - Fusão\", \"custo_Vista\": 200, \"quantidade\": 10},\n",
    "    {\"nome\": \"Caixa de emenda - Conectorizada\", \"custo_Vista\": 200, \"quantidade\": 10},\n",
    "    {\"nome\": \"Caixa de terminação\", \"custo_Vista\": 100, \"quantidade\": 10},\n",
    "    {\"nome\": \"Abraçadeira-BAP-3\", \"custo_Vista\": 0.5, \"quantidade\": 1280},\n",
    "    {\"nome\": \"Isolador BAP-3\", \"custo_Vista\": 0.1, \"quantidade\": 1280},\n",
    "    {\"nome\": \"Alça Preformada\", \"custo_Vista\": 0.5, \"quantidade\": 1280}\n",
    "]\n",
    "\n",
    "\n",
    "\n",
    "\n",
    "alugueis = [\n",
    "    {\"nome\": \"POP - Ponto de Presença\", \"custo_mensal\": 1000, \"quantidade\": 1},\n",
    "    {\"nome\": \"Poste\", \"custo_mensal\": 6, \"quantidade\": 1280},\n",
    "    {\"nome\": \"Uplink\", \"custo_mensal\": 1000, \"quantidade\": 1}\n",
    "]\n",
    "\n",
    "mao_de_obra = [\n",
    "    {\"nome\": \"Instalação POP\", \"custo\": 5000, \"quantidade\": 1},\n",
    "    {\"nome\": \"Instalação Residencial\", \"custo\": 50, \"quantidade\": 1280},\n",
    "    {\"nome\": \"Instalação Infraestrutura PON\", \"custo\": 1, \"quantidade\": 10000},\n",
    "    {\"nome\": \"Fusões\", \"custo\": 1, \"quantidade\": 1000},\n",
    "]"
   ]
  },
  {
   "cell_type": "code",
   "execution_count": null,
   "id": "4e5f0cd7",
   "metadata": {},
   "outputs": [],
   "source": [
    "planos = [\n",
    "    {\"nome\": \"Plano 100Mbps\", \"preco_mensal\": 100},\n",
    "    {\"nome\": \"Plano 200Mbps\", \"preco_mensal\": 150},\n",
    "    {\"nome\": \"Plano 500Mbps\", \"preco_mensal\": 200},\n",
    "    {\"nome\": \"Taxa Instalação\", \"preco\": 300},\n",
    "]"
   ]
  },
  {
   "cell_type": "code",
   "execution_count": null,
   "id": "8233f9d6",
   "metadata": {},
   "outputs": [],
   "source": []
  }
 ],
 "metadata": {
  "language_info": {
   "name": "python"
  }
 },
 "nbformat": 4,
 "nbformat_minor": 5
}
