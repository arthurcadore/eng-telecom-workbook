{
 "cells": [
  {
   "cell_type": "code",
   "execution_count": 11,
   "metadata": {},
   "outputs": [
    {
     "name": "stdout",
     "output_type": "stream",
     "text": [
      "R_vidro: 0.021874999999999995\n",
      "R_ar: 0.666920731707317\n"
     ]
    },
    {
     "data": {
      "text/plain": [
       "0.710670731707317"
      ]
     },
     "execution_count": 11,
     "metadata": {},
     "output_type": "execute_result"
    }
   ],
   "source": [
    "# Item 1: \n",
    "\n",
    "# Dados\n",
    "L_vidro = 0.007  # m (espessura do vidro)\n",
    "k_vidro = 0.8  # W/m.K (condutividade térmica do vidro)\n",
    "L_ar = 0.007  # m (espessura do ar)\n",
    "k_ar = 0.02624  # W/m.K (condutividade térmica do ar)\n",
    "A = 0.8 * 0.5  # m² (área da janela)\n",
    "\n",
    "# Resistências térmicas\n",
    "R_vidro = L_vidro / (k_vidro * A)\n",
    "print(\"R_vidro:\", R_vidro)\n",
    "R_ar = L_ar / (k_ar * A)\n",
    "print(\"R_ar:\", R_ar)\n",
    "\n",
    "# Resistência térmica total\n",
    "R_total = 2 * R_vidro + R_ar\n",
    "R_total\n"
   ]
  },
  {
   "cell_type": "code",
   "execution_count": 12,
   "metadata": {},
   "outputs": [
    {
     "data": {
      "text/plain": [
       "28.142428142428145"
      ]
     },
     "execution_count": 12,
     "metadata": {},
     "output_type": "execute_result"
    }
   ],
   "source": [
    "# Diferença de temperatura\n",
    "delta_T = 20  # °C\n",
    "\n",
    "# Cálculo da perda de calor\n",
    "Q_perda = delta_T / R_total\n",
    "Q_perda\n"
   ]
  },
  {
   "cell_type": "code",
   "execution_count": null,
   "metadata": {},
   "outputs": [
    {
     "data": {
      "text/plain": [
       "575836.356019145"
      ]
     },
     "execution_count": 8,
     "metadata": {},
     "output_type": "execute_result"
    }
   ],
   "source": [
    "# Item 5A: \n",
    "\n",
    "import math\n",
    "\n",
    "# Dados\n",
    "k = 385  # W/m.K (condutividade térmica do cobre)\n",
    "L = 5  # m (comprimento da tubulação)\n",
    "delta_T = 28 - (-5)  # °C (diferença de temperatura)\n",
    "R_e = 0.03  # m (raio externo)\n",
    "R_i = 0.015  # m (raio interno)\n",
    "\n",
    "# Cálculo da taxa de transferência de calor\n",
    "Q = (2 * math.pi * k * L * delta_T) / math.log(R_e / R_i)\n",
    "Q\n"
   ]
  },
  {
   "cell_type": "code",
   "execution_count": null,
   "metadata": {},
   "outputs": [
    {
     "name": "stdout",
     "output_type": "stream",
     "text": [
      "R_cobre: 5.7307948091597816e-05\n",
      "R_lã: 0.24097907299800908\n"
     ]
    },
    {
     "data": {
      "text/plain": [
       "136.90879306464234"
      ]
     },
     "execution_count": 10,
     "metadata": {},
     "output_type": "execute_result"
    }
   ],
   "source": [
    "# Item 5B:\n",
    "\n",
    "# Condutividade térmica da lã de vidro\n",
    "k_wool = 0.038  # W/m.K\n",
    "\n",
    "# Novo raio externo considerando o isolamento\n",
    "R_wool = R_e + 0.01  # m\n",
    "\n",
    "# Resistência térmica da camada de cobre\n",
    "R_cobre = math.log(R_e / R_i) / (2 * math.pi * k * L)\n",
    "\n",
    "print(\"R_cobre:\", R_cobre)\n",
    "\n",
    "\n",
    "# Resistência térmica da camada de lã de vidro\n",
    "R_lã = math.log(R_wool / R_e) / (2 * math.pi * k_wool * L)\n",
    "\n",
    "# imprime a R_la \n",
    "print(\"R_lã:\", R_lã)\n",
    "\n",
    "# Resistência térmica total\n",
    "R_total = R_cobre + R_lã\n",
    "\n",
    "# Nova taxa de transferência de calor\n",
    "Q_novo = delta_T / R_total\n",
    "Q_novo\n"
   ]
  },
  {
   "cell_type": "code",
   "execution_count": 7,
   "metadata": {},
   "outputs": [
    {
     "name": "stdout",
     "output_type": "stream",
     "text": [
      "R_a: 0.00014285714285714287\n",
      "R_b: 0.0016666666666666666\n",
      "R_c: 0.00125\n",
      "R_d: 0.00125\n",
      "R_e: 0.0003333333333333334\n",
      "R_total: 0.0011690917107583774\n"
     ]
    },
    {
     "data": {
      "text/plain": [
       "260030.92589100508"
      ]
     },
     "execution_count": 7,
     "metadata": {},
     "output_type": "execute_result"
    }
   ],
   "source": [
    "# Dados fornecidos\n",
    "L_a = 0.025  # m\n",
    "L_b = 0.075  # m\n",
    "L_c = 0.075  # m\n",
    "L_d = 0.05   # m\n",
    "L_e = 0.05   # m\n",
    "\n",
    "k_a = 175  # W/m.C°\n",
    "k_b = 30   # W/m.C°\n",
    "k_c = 40   # W/m.C°\n",
    "k_d = 80   # W/m.C°\n",
    "k_e = 100  # W/m.C°\n",
    "\n",
    "A_a = 1.0  # m²\n",
    "A_b = 1.5  # m²\n",
    "A_c = 1.5  # m²\n",
    "A_d = 0.5  # m²\n",
    "A_e = 1.5  # m²\n",
    "\n",
    "# Cálculo das resistências térmicas\n",
    "R_a = L_a / (k_a * A_a)\n",
    "R_b = L_b / (k_b * A_b)\n",
    "R_c = L_c / (k_c * A_c)\n",
    "R_d = L_d / (k_d * A_d)\n",
    "R_e = L_e / (k_e * A_e)\n",
    "\n",
    "# Resistências equivalentes\n",
    "R_bc = R_b + R_c  # Série\n",
    "R_de = R_d + R_e  # Série\n",
    "\n",
    "# Paralelo: 1/R = 1/R1 + 1/R2\n",
    "R_centro = 1 / ((1 / R_bc) + (1 / R_de))\n",
    "\n",
    "# Resistência total (R_A em série com R_centro)\n",
    "\n",
    "R_total = R_a + R_centro\n",
    "\n",
    "print(\"R_a:\", R_a)\n",
    "print(\"R_b:\", R_b)\n",
    "print(\"R_c:\", R_c)\n",
    "print(\"R_d:\", R_d)\n",
    "print(\"R_e:\", R_e)\n",
    "print(\"R_total:\", R_total)\n",
    "\n",
    "# Diferença de temperatura\n",
    "delta_T = 370 - 66  # °C\n",
    "\n",
    "# Taxa de transferência de calor\n",
    "Q_dot = delta_T / R_total\n",
    "Q_dot\n"
   ]
  }
 ],
 "metadata": {
  "kernelspec": {
   "display_name": "Python 3",
   "language": "python",
   "name": "python3"
  },
  "language_info": {
   "codemirror_mode": {
    "name": "ipython",
    "version": 3
   },
   "file_extension": ".py",
   "mimetype": "text/x-python",
   "name": "python",
   "nbconvert_exporter": "python",
   "pygments_lexer": "ipython3",
   "version": "3.12.3"
  }
 },
 "nbformat": 4,
 "nbformat_minor": 2
}
