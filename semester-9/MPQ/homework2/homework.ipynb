{
 "cells": [
  {
   "cell_type": "markdown",
   "id": "186ca126",
   "metadata": {},
   "source": [
    "# Experimento em sala - Determinação da aceleração da gravidade \n",
    "\n",
    "### Alunos: Arthur Cadore Matuella Barcella e Faber Bernardo Júnior. \n",
    "\n",
    "- **Objetivo:** Determinar a aceleração da gravidade utilizando um pêndulo simples.\n",
    "\n",
    "- **Cenário:**\n",
    "  - Pêndulo simples (fio e peso)\n",
    "  - Cronômetro\n",
    "  - Régua \n",
    "\n",
    "- **Procedimento:** \n",
    "    1. Medir o comprimento do fio do ponto de suspensão até o centro de massa do peso.\n",
    "    2. Desloque o peso para um pequeno ângulo e solte-o, iniciando a contagem do tempo com o cronômetro.\n",
    "    3. Meça o tempo que leva para completar várias oscilações (por exemplo, 5 oscilações) e registre esse tempo.\n",
    "    5. Calcule o período médio dividindo o tempo total pelo número de oscilações.   \n"
   ]
  },
  {
   "cell_type": "code",
   "execution_count": 123,
   "id": "bcf5a27d",
   "metadata": {},
   "outputs": [],
   "source": [
    "# Bibliotecas: \n",
    "import numpy as np\n",
    "import matplotlib.pyplot as plt\n",
    "import pandas as pd\n",
    "from IPython.display import display, Math"
   ]
  },
  {
   "cell_type": "markdown",
   "id": "53e9ba37",
   "metadata": {},
   "source": [
    "### Calculando Comprimento e Variação do comprimento (Delta L)"
   ]
  },
  {
   "cell_type": "code",
   "execution_count": 124,
   "id": "fc5637cd",
   "metadata": {},
   "outputs": [
    {
     "name": "stdout",
     "output_type": "stream",
     "text": [
      "DeltaL: 0.0005 m\n",
      "Comprimento L: 0.65775000 m\n"
     ]
    }
   ],
   "source": [
    "# Variaveis do cenário de medição:\n",
    "l1 = 62  # Comprimento da corda (cm)\n",
    "l2 = 2.3 # comprimento gancho (cm)\n",
    "D = 2.85 # Diâmetro do peso (cm)\n",
    "\n",
    "# Calculo de L (Comprimento do fio + comprimento do gancho + diâmetro do peso / 2 )\n",
    "\n",
    "L_cm = l1 + l2 + D / 2\n",
    "\n",
    "# Convertendo para metros\n",
    "L = L_cm / 100 \n",
    "\n",
    "# Calculo de deltaL seguindo menor valor de escala /2\n",
    "DeltaL = 0.0005\n",
    "print(f\"DeltaL: {DeltaL:.4f} m\")\n",
    "\n",
    "# Calculo do L total\n",
    "L = DeltaL + L \n",
    "print(f\"Comprimento L: {L:.8f} m\")"
   ]
  },
  {
   "cell_type": "markdown",
   "id": "3fe78bb9",
   "metadata": {},
   "source": [
    "### Amostrando os valores de tempo (5 Oscilações)"
   ]
  },
  {
   "cell_type": "code",
   "execution_count": 125,
   "id": "11ab2dad",
   "metadata": {},
   "outputs": [],
   "source": [
    "periodos = [8.13, 8.14, 8.17, 8.22, 7.98]"
   ]
  },
  {
   "cell_type": "code",
   "execution_count": 126,
   "id": "e7fcd369",
   "metadata": {},
   "outputs": [
    {
     "name": "stdout",
     "output_type": "stream",
     "text": [
      "Período médio: 8.1280 s\n"
     ]
    }
   ],
   "source": [
    "# Cálculo do período médio\n",
    "periodo_medio = np.array(list(periodos))\n",
    "periodo_medio = np.mean(periodo_medio) \n",
    "print(f\"Período médio: {periodo_medio:.4f} s\")"
   ]
  },
  {
   "cell_type": "code",
   "execution_count": 127,
   "id": "00b40f21",
   "metadata": {},
   "outputs": [
    {
     "name": "stdout",
     "output_type": "stream",
     "text": [
      "Delta Ts: [ 0.002  0.012  0.042  0.092 -0.148]\n"
     ]
    }
   ],
   "source": [
    "# Cria um vetor de deltaTs diminuindo o periodo médio de cada valor do vetor periodos\n",
    "deltaTs = np.array(list(periodos)) - periodo_medio\n",
    "print(f\"Delta Ts: {deltaTs}\")"
   ]
  },
  {
   "cell_type": "code",
   "execution_count": 128,
   "id": "8af7f851",
   "metadata": {},
   "outputs": [
    {
     "data": {
      "text/html": [
       "<div>\n",
       "<style scoped>\n",
       "    .dataframe tbody tr th:only-of-type {\n",
       "        vertical-align: middle;\n",
       "    }\n",
       "\n",
       "    .dataframe tbody tr th {\n",
       "        vertical-align: top;\n",
       "    }\n",
       "\n",
       "    .dataframe thead th {\n",
       "        text-align: right;\n",
       "    }\n",
       "</style>\n",
       "<table border=\"1\" class=\"dataframe\">\n",
       "  <thead>\n",
       "    <tr style=\"text-align: right;\">\n",
       "      <th></th>\n",
       "      <th>(5 Oscilações)</th>\n",
       "      <th>(1 Oscilação)</th>\n",
       "      <th>(Delta Ts)</th>\n",
       "    </tr>\n",
       "  </thead>\n",
       "  <tbody>\n",
       "    <tr>\n",
       "      <th>0</th>\n",
       "      <td>8.1300</td>\n",
       "      <td>1.6260</td>\n",
       "      <td>0.0020</td>\n",
       "    </tr>\n",
       "    <tr>\n",
       "      <th>1</th>\n",
       "      <td>8.1400</td>\n",
       "      <td>1.6280</td>\n",
       "      <td>0.0120</td>\n",
       "    </tr>\n",
       "    <tr>\n",
       "      <th>2</th>\n",
       "      <td>8.1700</td>\n",
       "      <td>1.6340</td>\n",
       "      <td>0.0420</td>\n",
       "    </tr>\n",
       "    <tr>\n",
       "      <th>3</th>\n",
       "      <td>8.2200</td>\n",
       "      <td>1.6440</td>\n",
       "      <td>0.0920</td>\n",
       "    </tr>\n",
       "    <tr>\n",
       "      <th>4</th>\n",
       "      <td>7.9800</td>\n",
       "      <td>1.5960</td>\n",
       "      <td>-0.1480</td>\n",
       "    </tr>\n",
       "  </tbody>\n",
       "</table>\n",
       "</div>"
      ],
      "text/plain": [
       "   (5 Oscilações)  (1 Oscilação)  (Delta Ts)\n",
       "0          8.1300         1.6260      0.0020\n",
       "1          8.1400         1.6280      0.0120\n",
       "2          8.1700         1.6340      0.0420\n",
       "3          8.2200         1.6440      0.0920\n",
       "4          7.9800         1.5960     -0.1480"
      ]
     },
     "execution_count": 128,
     "metadata": {},
     "output_type": "execute_result"
    }
   ],
   "source": [
    "# Monta um DataFrame com os dados\n",
    "periodos_1 = [p / 5 for p in periodos]\n",
    "\n",
    "df = pd.DataFrame({\n",
    "    '(5 Oscilações)': periodos,\n",
    "    '(1 Oscilação)': periodos_1,\n",
    "    '(Delta Ts)': deltaTs\n",
    "})\n",
    "\n",
    "# Configurar exibição sem notação científica e com precisão definida\n",
    "pd.set_option('display.float_format', '{:.4f}'.format)\n",
    "\n",
    "df"
   ]
  },
  {
   "cell_type": "code",
   "execution_count": 129,
   "id": "d3777125",
   "metadata": {},
   "outputs": [
    {
     "data": {
      "image/png": "[encoded data removed]",
      "text/plain": [
       "<Figure size 1600x900 with 1 Axes>"
      ]
     },
     "metadata": {},
     "output_type": "display_data"
    }
   ],
   "source": [
    "# plota os periodos e o deltaTs\n",
    "\n",
    "plt.figure(figsize=(16, 9))\n",
    "plt.plot(periodos_1, label='Períodos (1 Oscilação)', marker='x')\n",
    "plt.plot(deltaTs, label='Delta Ts', marker='s')\n",
    "plt.axhline(0, color='gray', linestyle='--', linewidth=0.8)\n",
    "plt.title('Períodos e Delta Ts')\n",
    "plt.xlabel('Medições')\n",
    "plt.ylabel('Tempo (s)')\n",
    "plt.grid()"
   ]
  },
  {
   "cell_type": "code",
   "execution_count": 130,
   "id": "6d92bdc3",
   "metadata": {},
   "outputs": [
    {
     "name": "stdout",
     "output_type": "stream",
     "text": [
      "\n",
      "Desvio Padrão dos Delta Ts:\n"
     ]
    },
    {
     "data": {
      "text/latex": [
       "$\\displaystyle \\sigma = \\frac{\\sqrt{\\sum \\Delta T_s^2}}{n - 1}$"
      ],
      "text/plain": [
       "<IPython.core.display.Math object>"
      ]
     },
     "metadata": {},
     "output_type": "display_data"
    },
    {
     "name": "stdout",
     "output_type": "stream",
     "text": [
      "sigma: 0.0449 s\n"
     ]
    }
   ],
   "source": [
    "# Calcula o desvio padrão dos deltaTs\n",
    "print(\"\\nDesvio Padrão dos Delta Ts:\")\n",
    "display(Math(r\"\\sigma = \\frac{\\sqrt{\\sum \\Delta T_s^2}}{n - 1}\"))\n",
    "\n",
    "sigma = np.sqrt(np.sum(deltaTs ** 2)) / (len(deltaTs) - 1)\n",
    "print(f\"sigma: {sigma:.4f} s\")"
   ]
  },
  {
   "cell_type": "code",
   "execution_count": 131,
   "id": "f67b8b76",
   "metadata": {},
   "outputs": [
    {
     "name": "stdout",
     "output_type": "stream",
     "text": [
      "\n",
      "Cálculo do Delta Tm:\n"
     ]
    },
    {
     "data": {
      "text/latex": [
       "$\\displaystyle \\Delta T_m = \\frac{\\sigma}{\\sqrt{n}}$"
      ],
      "text/plain": [
       "<IPython.core.display.Math object>"
      ]
     },
     "metadata": {},
     "output_type": "display_data"
    },
    {
     "name": "stdout",
     "output_type": "stream",
     "text": [
      "Delta Tm: 0.02008731 s\n"
     ]
    }
   ],
   "source": [
    "# Calcula o deltaTm (erro médio)\n",
    "print(\"\\nCálculo do Delta Tm:\")\n",
    "display(Math(r\"\\Delta T_m = \\frac{\\sigma}{\\sqrt{n}}\"))\n",
    "DeltaTm = sigma / np.sqrt(len(deltaTs))\n",
    "print(f\"Delta Tm: {DeltaTm:.8f} s\")"
   ]
  },
  {
   "cell_type": "code",
   "execution_count": 132,
   "id": "98358fe2",
   "metadata": {},
   "outputs": [
    {
     "name": "stdout",
     "output_type": "stream",
     "text": [
      "Período médio: 1.6296 s\n"
     ]
    }
   ],
   "source": [
    "T = (periodo_medio + DeltaTm) / 5 \n",
    "print(f\"Período médio: {T:.4f} s\")\n"
   ]
  },
  {
   "cell_type": "code",
   "execution_count": 133,
   "id": "9d8a95f9",
   "metadata": {},
   "outputs": [
    {
     "name": "stdout",
     "output_type": "stream",
     "text": [
      "\n",
      "Cálculo da aceleração da gravidade:\n"
     ]
    },
    {
     "data": {
      "text/latex": [
       "$\\displaystyle g = \\frac{L}{\\left(\\frac{T}{2\\pi}\\right)^2}$"
      ],
      "text/plain": [
       "<IPython.core.display.Math object>"
      ]
     },
     "metadata": {},
     "output_type": "display_data"
    },
    {
     "name": "stdout",
     "output_type": "stream",
     "text": [
      "Aceleração da gravidade: 9.7780 m/s²\n"
     ]
    }
   ],
   "source": [
    "# Calculando G\n",
    "print(\"\\nCálculo da aceleração da gravidade:\")\n",
    "display(Math(r\"g = \\frac{L}{\\left(\\frac{T}{2\\pi}\\right)^2}\"))\n",
    "g1 = L / ((T / (2 * np.pi)) ** 2 ) \n",
    "print(f\"Aceleração da gravidade: {g1:.4f} m/s²\")"
   ]
  },
  {
   "cell_type": "code",
   "execution_count": 134,
   "id": "2bd833dc",
   "metadata": {},
   "outputs": [
    {
     "data": {
      "text/latex": [
       "$\\displaystyle E_{\\Delta T} = 2 \\cdot T^{2-1} \\cdot \\Delta T$"
      ],
      "text/plain": [
       "<IPython.core.display.Math object>"
      ]
     },
     "metadata": {},
     "output_type": "display_data"
    },
    {
     "name": "stdout",
     "output_type": "stream",
     "text": [
      "Erro Delta T: 0.06546926 segundos\n"
     ]
    },
    {
     "data": {
      "text/latex": [
       "$\\displaystyle E_{\\Delta_L} = \\frac{L \\cdot \\Delta T + T \\cdot \\Delta L}{T^2}$"
      ],
      "text/plain": [
       "<IPython.core.display.Math object>"
      ]
     },
     "metadata": {},
     "output_type": "display_data"
    },
    {
     "name": "stdout",
     "output_type": "stream",
     "text": [
      "Erro Delta L: 0.01652219 metros\n"
     ]
    },
    {
     "data": {
      "text/latex": [
       "$\\displaystyle E_{\\Delta G} = (2\\cdot pi) \\cdot E_{\\Delta L}$"
      ],
      "text/plain": [
       "<IPython.core.display.Math object>"
      ]
     },
     "metadata": {},
     "output_type": "display_data"
    },
    {
     "name": "stdout",
     "output_type": "stream",
     "text": [
      "Erro Delta G: 0.10381201 m/s²\n"
     ]
    }
   ],
   "source": [
    "# Calculo do delta G\n",
    "display(Math(r\"E_{\\Delta T} = 2 \\cdot T^{2-1} \\cdot \\Delta T\"))\n",
    "errDeltaT =  (2* T ** (2-1)) * DeltaTm\n",
    "print(f\"Erro Delta T: {errDeltaT:.8f} segundos\")\n",
    "\n",
    "display(Math(r\"E_{\\Delta_L} = \\frac{L \\cdot \\Delta T + T \\cdot \\Delta L}{T^2}\"))\n",
    "errDeltaL = ((L * errDeltaT ) + (T * DeltaL)) / T**2\n",
    "print(f\"Erro Delta L: {errDeltaL:.8f} metros\")\n",
    "\n",
    "display(Math(r\"E_{\\Delta G} = (2\\cdot pi) \\cdot E_{\\Delta L}\"))\n",
    "errDeltaG = (2*np.pi) * errDeltaL\n",
    "print(f\"Erro Delta G: {errDeltaG:.8f} m/s²\")\n"
   ]
  },
  {
   "cell_type": "code",
   "execution_count": 135,
   "id": "06844b0b",
   "metadata": {},
   "outputs": [
    {
     "data": {
      "text/latex": [
       "$\\displaystyle g_2 = g_1 + E_{\\Delta G}$"
      ],
      "text/plain": [
       "<IPython.core.display.Math object>"
      ]
     },
     "metadata": {},
     "output_type": "display_data"
    },
    {
     "name": "stdout",
     "output_type": "stream",
     "text": [
      "Aceleração da gravidade com erro: 9.88 m/s²\n"
     ]
    }
   ],
   "source": [
    "display(Math(r\"g_2 = g_1 + E_{\\Delta G}\"))\n",
    "g2 = g1 + errDeltaG\n",
    "print(f\"Aceleração da gravidade com erro: {g2:.2f} m/s²\")"
   ]
  }
 ],
 "metadata": {
  "kernelspec": {
   "display_name": "venv",
   "language": "python",
   "name": "python3"
  },
  "language_info": {
   "codemirror_mode": {
    "name": "ipython",
    "version": 3
   },
   "file_extension": ".py",
   "mimetype": "text/x-python",
   "name": "python",
   "nbconvert_exporter": "python",
   "pygments_lexer": "ipython3",
   "version": "3.12.3"
  }
 },
 "nbformat": 4,
 "nbformat_minor": 5
}
