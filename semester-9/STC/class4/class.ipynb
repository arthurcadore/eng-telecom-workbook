{
 "cells": [
  {
   "cell_type": "code",
   "execution_count": 6,
   "metadata": {},
   "outputs": [],
   "source": [
    "import math"
   ]
  },
  {
   "cell_type": "code",
   "execution_count": 13,
   "metadata": {},
   "outputs": [
    {
     "name": "stdout",
     "output_type": "stream",
     "text": [
      "V =  -1.1850497277088659\n"
     ]
    }
   ],
   "source": [
    "v = -16 * math.sqrt((2*(5000+7000)/((5000*7000)*0.125)))\n",
    "\n",
    "print(\"V = \", v)"
   ]
  },
  {
   "cell_type": "code",
   "execution_count": 18,
   "metadata": {},
   "outputs": [
    {
     "name": "stdout",
     "output_type": "stream",
     "text": [
      "ldif =  15.072603942417256  dB\n"
     ]
    }
   ],
   "source": [
    "# como é -2,4 <= v <= -1 :\n",
    "ldif = -20 * math.log10((0.4 - math.sqrt(0.1184 - ((v/10) + 0.38)**2))) \n",
    "\n",
    "print(\"ldif = \", ldif, \" dB\")"
   ]
  },
  {
   "cell_type": "code",
   "execution_count": 22,
   "metadata": {},
   "outputs": [
    {
     "name": "stdout",
     "output_type": "stream",
     "text": [
      "Coeficiente de reflexão =  0.1111111111111111\n",
      "Angulo de reflexão =  6.379370208442803  graus\n"
     ]
    }
   ],
   "source": [
    "# Coeficiente de reflexão: \n",
    "\n",
    "# sen teta = sqr(e_r - 1) / e_r**2 -1\n",
    "\n",
    "e2_r = 80 \n",
    "\n",
    "rel = (math.sqrt(e2_r - 1) / math.sqrt(e2_r**2 -1))\n",
    "\n",
    "print(\"Coeficiente de reflexão = \", rel)\n",
    "\n",
    "# angulo de reflexão: \n",
    "\n",
    "rel_deg = math.degrees(math.asin(rel))\n",
    "\n",
    "print(\"Angulo de reflexão = \", rel_deg, \" graus\")"
   ]
  }
 ],
 "metadata": {
  "kernelspec": {
   "display_name": "Python 3",
   "language": "python",
   "name": "python3"
  },
  "language_info": {
   "codemirror_mode": {
    "name": "ipython",
    "version": 3
   },
   "file_extension": ".py",
   "mimetype": "text/x-python",
   "name": "python",
   "nbconvert_exporter": "python",
   "pygments_lexer": "ipython3",
   "version": "3.12.3"
  }
 },
 "nbformat": 4,
 "nbformat_minor": 2
}
