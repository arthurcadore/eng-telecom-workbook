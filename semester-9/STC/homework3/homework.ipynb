{
 "cells": [
  {
   "cell_type": "markdown",
   "id": "67ce2ba6",
   "metadata": {},
   "source": [
    "requisitos: pelo menos 10 portas pon. \n",
    "\n",
    "taxa de penetração: 50% \n",
    "\n",
    "Bairo Madri\n",
    "\n",
    "Orçamento: 50.000\n",
    "\n",
    "Valor a Orçar: Rack, POP, PON, lançamento de fibra. \n",
    "\n",
    "12 Vias: 1,50 m \n",
    "\n",
    "Caixa de emenda: 200 \n",
    "\n",
    "Sppliter: 15 \n",
    "\n",
    "Mão de obra no lançamento de fibra: 1 / m \n",
    "\n",
    "DIO : 2.000\n",
    "\n",
    "SFP GPON: 200 Cada\n",
    "\n",
    "Alugel do poste: 6 Poste \n",
    "\n",
    "Alugel do Link: Não considerar\n",
    "\n",
    "ONU: Não considerar\n",
    "\n",
    "\n"
   ]
  }
 ],
 "metadata": {
  "language_info": {
   "name": "python"
  }
 },
 "nbformat": 4,
 "nbformat_minor": 5
}
