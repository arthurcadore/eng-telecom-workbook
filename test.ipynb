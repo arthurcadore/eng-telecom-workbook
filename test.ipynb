{
 "cells": [
  {
   "cell_type": "code",
   "execution_count": 4,
   "metadata": {},
   "outputs": [
    {
     "name": "stdout",
     "output_type": "stream",
     "text": [
      "./R3005G-24.11.05T-SIMETBOX-vue-aiv3-TEST.7z\n",
      "./simet.tar.gz\n",
      "./start_simet.sh\n",
      "./usr/lib/simet/conf.d/firmware-vendor.conf\n",
      "arthur\n"
     ]
    }
   ],
   "source": [
    "# Caminhos para os arquivos\n",
    "file_find = \"/home/cadore/Downloads/test1.txt\"\n",
    "file_sofind = \"/home/cadore/Downloads/R3005G-2.txt\"\n",
    "\n",
    "# Ler o conteúdo dos arquivos e armazenar como conjuntos\n",
    "with open(file_find, \"r\", encoding=\"latin-1\") as f1, open(file_sofind, \"r\", encoding=\"latin-1\") as f2:\n",
    "    lines_find = set(line.strip() for line in f1)\n",
    "    lines_sofind = set(line.strip() for line in f2)\n",
    "\n",
    "# Identificar as linhas em find.txt que não estão em sofind.txt\n",
    "missing_lines = lines_find - lines_sofind\n",
    "\n",
    "# Imprimir as linhas que estão faltando\n",
    "for line in sorted(missing_lines):\n",
    "    print(line)\n"
   ]
  }
 ],
 "metadata": {
  "kernelspec": {
   "display_name": ".venv",
   "language": "python",
   "name": "python3"
  },
  "language_info": {
   "codemirror_mode": {
    "name": "ipython",
    "version": 3
   },
   "file_extension": ".py",
   "mimetype": "text/x-python",
   "name": "python",
   "nbconvert_exporter": "python",
   "pygments_lexer": "ipython3",
   "version": "3.12.3"
  }
 },
 "nbformat": 4,
 "nbformat_minor": 2
}
